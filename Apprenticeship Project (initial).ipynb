{
 "cells": [
  {
   "cell_type": "code",
   "execution_count": 0,
   "metadata": {
    "application/vnd.databricks.v1+cell": {
     "cellMetadata": {
      "byteLimit": 2048000,
      "rowLimit": 10000
     },
     "inputWidgets": {},
     "nuid": "4798a73c-1fd0-4d93-8641-066f2d7ec2f2",
     "showTitle": false,
     "tableResultSettingsMap": {},
     "title": ""
    }
   },
   "outputs": [],
   "source": [
    "#importing data\n",
    "\n",
    "import pandas as pd\n",
    "import numpy as np\n",
    "import seaborn as sns\n",
    "import plotly.express as px\n",
    "from sklearn.metrics import mean_squared_error, mean_absolute_error\n",
    "from sklearn.preprocessing import StandardScaler\n",
    "from sklearn.model_selection import TimeSeriesSplit\n",
    "from sklearn.linear_model import LinearRegression\n",
    "from statsmodels.graphics.tsaplots import plot_acf, plot_pacf\n",
    "import pmdarima as pm\n",
    "import xgboost as xgb\n",
    "from xgboost import XGBRegressor\n",
    "from prophet import Prophet\n",
    "from pyspark.sql.functions import to_date, to_timestamp, col, last, when, lit, dayofweek, dayofmonth, dayofyear, month, weekofyear, current_date, date_sub, datediff, sum as spark_sum\n",
    "from pyspark.sql.window import Window\n",
    "from pyspark.sql import functions as F\n",
    "import matplotlib.pyplot as plt\n",
    "from datetime import datetime, timedelta\n",
    "import joblib\n",
    "import holidays\n",
    "import mlflow\n",
    "\n",
    "mlflow.autolog(disable=True)\n",
    "\n",
    "df = spark.read.table('data_experience_commercial.cbt_1423_rtsuite.master').select('charge_dt','dtg','chargeproduct','unt_pre','flightkey','flight_dt','rev_pre','channel','unt_net')\n",
    "dmh = spark.read.table('data_experience_commercial.cbt_0923_segmentfinder.dimensions_history').select('flightkey','onsale_dt','ty_capacity','routetype','region','route')\n",
    "df = df.join(dmh, on='flightkey', how='left')\n",
    "df = df[(df['chargeproduct']=='Ticket') & (df['dtg'] >= 0) & (df['region'].isin(['UK-London','UK-Regions'])) & (df['routetype'] == 'Domestic')]\n",
    "df = df.filter((col('dtg') < (datediff(col('flight_dt'), col('onsale_dt')) - 25)) & (col('charge_dt') >= '2019-01-01'))\n",
    "window_spec = Window.partitionBy('flightkey').orderBy(col('dtg').desc())\n",
    "df = df.withColumn('pax_net', spark_sum('unt_net').over(window_spec))\n",
    "df = df.withColumn('load_factor', col('pax_net')/col('ty_capacity'))\n",
    "df = df.withColumn('unt_pre', F.when(col('unt_pre') < 0, 0).otherwise(col('unt_pre')))\n",
    "df = df.withColumn('rev_pre', F.when(col('rev_pre') < 0, 0).otherwise(col('rev_pre')))\n",
    "df = df.withColumn('yield', F.when(col('unt_pre') == 0, 0).otherwise(col('rev_pre')/col('unt_pre')))\n",
    "df = df[df['dtg'] <= 364]\n",
    "#df = df.withColumn('channel_index', when(col('channel') == 'Web/App', 1).otherwise(0))\n",
    "df = df.groupby('route','charge_dt','dtg').agg(F.sum('unt_pre').alias('unt_pre'), F.sum('ty_capacity').alias('ty_capacity'), F.avg('load_factor').alias('load_factor'), F.avg('yield').alias('yield')).orderBy('charge_dt','dtg')\n",
    "df = df.toPandas()\n",
    "df.info()"
   ]
  },
  {
   "cell_type": "code",
   "execution_count": 0,
   "metadata": {
    "application/vnd.databricks.v1+cell": {
     "cellMetadata": {
      "byteLimit": 2048000,
      "rowLimit": 10000
     },
     "inputWidgets": {},
     "nuid": "36f0cc4e-ab80-46fe-9203-25bbf91ace00",
     "showTitle": false,
     "tableResultSettingsMap": {},
     "title": ""
    }
   },
   "outputs": [],
   "source": [
    "def optimize_df(df):\n",
    "\n",
    "    start_mem = df.memory_usage(deep=True).sum() / 1024**2\n",
    "    print(f\"Initial memory usage: {start_mem:.2f} MB\")\n",
    "\n",
    "    for col in df.columns:\n",
    "\n",
    "        if '_dt' in col:\n",
    "            df[col] = pd.to_datetime(df[col])\n",
    "\n",
    "        elif df[col].dtype == 'object':\n",
    "            df[col] = df[col].astype('category')\n",
    "\n",
    "        elif 'float' in str(df[col].dtype):\n",
    "            df[col] = df[col].astype(np.float16)\n",
    "            \n",
    "        elif 'int' in str(df[col].dtype):\n",
    "            df[col] = pd.to_numeric(df[col], downcast='integer')\n",
    "\n",
    "    end_mem = df.memory_usage(deep=True).sum() / 1024**2\n",
    "    reduction = 100 * (start_mem - end_mem) / start_mem\n",
    "    print(f\"Final memory usage: {end_mem:.2f} MB ({reduction:.2f}% reduction)\")\n",
    "\n",
    "    return df\n",
    "\n",
    "optimize_df(df)\n",
    "df.info()"
   ]
  },
  {
   "cell_type": "code",
   "execution_count": 0,
   "metadata": {
    "application/vnd.databricks.v1+cell": {
     "cellMetadata": {
      "byteLimit": 2048000,
      "rowLimit": 10000
     },
     "inputWidgets": {},
     "nuid": "a9b82531-6c30-4ab8-8257-adfe7f41b631",
     "showTitle": false,
     "tableResultSettingsMap": {},
     "title": ""
    }
   },
   "outputs": [],
   "source": [
    "layers = ['Network', 'Region', 'RouteType', 'Route']\n",
    "fig, ax = plt.subplots(figsize=(8, 12))\n",
    "\n",
    "for i, layer in enumerate(layers):\n",
    "    ax.text(0.5, (0.8 - i * 0.2), layer, fontsize=18, ha='center', va='center', bbox={'boxstyle':'square,pad=0.5', 'facecolor':'white'})\n",
    "    ax.plot([0.5, 0.5], [(0.75 - i * 0.2), (0.65 - i * 0.2)])\n",
    "\n",
    "ax.axis('off')\n",
    "ax.set_ylim(0, 1)\n",
    "ax.set_xlim(0, 1)\n",
    "\n",
    "plt.show()"
   ]
  },
  {
   "cell_type": "code",
   "execution_count": 0,
   "metadata": {
    "application/vnd.databricks.v1+cell": {
     "cellMetadata": {
      "byteLimit": 2048000,
      "rowLimit": 10000
     },
     "inputWidgets": {},
     "nuid": "130e08a0-96ea-4a54-bc26-4ef5a021296b",
     "showTitle": false,
     "tableResultSettingsMap": {},
     "title": ""
    }
   },
   "outputs": [],
   "source": [
    "total_sales = df.groupby('charge_dt')['unt_pre'].sum().reset_index()\n",
    "plt.style.use('ggplot')\n",
    "total_sales.plot(style='-', figsize=(20,5), title = 'sales by charge date', y='unt_pre', x='charge_dt')\n",
    "plt.show()"
   ]
  },
  {
   "cell_type": "code",
   "execution_count": 0,
   "metadata": {
    "application/vnd.databricks.v1+cell": {
     "cellMetadata": {
      "byteLimit": 2048000,
      "rowLimit": 10000
     },
     "inputWidgets": {},
     "nuid": "49a916c1-99ba-4b28-a259-577cd2c6f4e9",
     "showTitle": false,
     "tableResultSettingsMap": {},
     "title": ""
    }
   },
   "outputs": [],
   "source": [
    "df = df[df['charge_dt'] >= '2022-01-01']\n",
    "total_sales_by_charge_dt = df.groupby('charge_dt')['unt_pre'].sum().reset_index()\n",
    "plt.style.use('ggplot')\n",
    "total_sales_by_charge_dt.plot(style='-', figsize=(20,5), title = 'sales by charge date', y='unt_pre', x='charge_dt')\n",
    "plt.show()"
   ]
  },
  {
   "cell_type": "code",
   "execution_count": 0,
   "metadata": {
    "application/vnd.databricks.v1+cell": {
     "cellMetadata": {
      "byteLimit": 2048000,
      "rowLimit": 10000
     },
     "inputWidgets": {},
     "nuid": "c04dc715-59c0-41b4-9233-7551663bd86e",
     "showTitle": false,
     "tableResultSettingsMap": {},
     "title": ""
    }
   },
   "outputs": [],
   "source": [
    "total_sales_by_dtg = df.groupby('dtg')['unt_pre'].sum().reset_index()\n",
    "plt.style.use('ggplot')\n",
    "total_sales_by_dtg.plot(style='-', figsize=(20,5), title = 'sales by dtg since 2022', y='unt_pre', x='dtg')\n",
    "plt.show()"
   ]
  },
  {
   "cell_type": "code",
   "execution_count": 0,
   "metadata": {
    "application/vnd.databricks.v1+cell": {
     "cellMetadata": {
      "byteLimit": 2048000,
      "rowLimit": 10000
     },
     "inputWidgets": {},
     "nuid": "25deb798-ce28-4204-a9d8-59d04c270f69",
     "showTitle": false,
     "tableResultSettingsMap": {},
     "title": ""
    }
   },
   "outputs": [],
   "source": [
    "df_dynamic_plot = df.reset_index()\n",
    "df_dynamic_plot['charge_dt'] = df_dynamic_plot['charge_dt'].astype(str)\n",
    "df_dynamic_plot = df_dynamic_plot.groupby(['dtg', 'charge_dt'])['unt_pre'].sum().reset_index()\n",
    "fig = px.line(df_dynamic_plot, x='dtg', y='unt_pre', animation_frame='charge_dt', title='Sales by DTG with charge date variations')\n",
    "fig.update_layout(xaxis_title='Days To Go', yaxis_title='Sales', legend_title='Charge Date', height=900, width=1400)\n",
    "\n",
    "fig.show()"
   ]
  },
  {
   "cell_type": "code",
   "execution_count": 0,
   "metadata": {
    "application/vnd.databricks.v1+cell": {
     "cellMetadata": {
      "byteLimit": 2048000,
      "rowLimit": 10000
     },
     "inputWidgets": {},
     "nuid": "26d3a2ed-3557-473b-9f08-807db804d9f9",
     "showTitle": false,
     "tableResultSettingsMap": {},
     "title": ""
    }
   },
   "outputs": [],
   "source": [
    "#ACF\n",
    "\n",
    "df_ACF = df.groupby('charge_dt')['unt_pre'].sum()\n",
    "fig, (ax1, ax2) = plt.subplots(2, 1, figsize=(18, 8))\n",
    "\n",
    "plot_acf(df_ACF, ax=ax1, lags=56)\n",
    "ax1.set_title('Autocorrelation Function (ACF)')\n",
    "\n",
    "plot_pacf(df_ACF, ax=ax2, lags=56, method='ywm') \n",
    "ax2.set_title('Partial Autocorrelation Function (PACF)')\n",
    "\n",
    "plt.tight_layout()\n",
    "plt.show()"
   ]
  },
  {
   "cell_type": "code",
   "execution_count": 0,
   "metadata": {
    "application/vnd.databricks.v1+cell": {
     "cellMetadata": {
      "byteLimit": 2048000,
      "rowLimit": 10000
     },
     "inputWidgets": {},
     "nuid": "d0a7dc93-5606-433e-93fe-a0628e41ff4e",
     "showTitle": false,
     "tableResultSettingsMap": {},
     "title": ""
    }
   },
   "outputs": [],
   "source": [
    "# Lag Features\n",
    "\n",
    "lag_days = [7, 14, 21, 28, 364]\n",
    "cols_to_lag = ['unt_pre', 'load_factor', 'yield']\n",
    "\n",
    "def generate_lag_features(df, columns, lag_days):\n",
    "    df['charge_dt'] = pd.to_datetime(df['charge_dt'])\n",
    "    df = df.set_index(['route', 'dtg', 'charge_dt'])\n",
    "    df = df.sort_index()\n",
    "    for col in columns:\n",
    "        for lag in lag_days:\n",
    "            lag_col_name = f'{col}_lag{lag}'\n",
    "            df[lag_col_name] = df.groupby(level=[0, 1])[col].shift(lag).fillna(0)\n",
    "    return df.reset_index()\n",
    "\n",
    "df = generate_lag_features(df, cols_to_lag, lag_days)\n",
    "optimize_df(df)"
   ]
  },
  {
   "cell_type": "code",
   "execution_count": 0,
   "metadata": {
    "application/vnd.databricks.v1+cell": {
     "cellMetadata": {
      "byteLimit": 2048000,
      "rowLimit": 10000
     },
     "inputWidgets": {},
     "nuid": "79650ac6-cc3e-462d-b365-c7f4a5473d3c",
     "showTitle": false,
     "tableResultSettingsMap": {},
     "title": ""
    }
   },
   "outputs": [],
   "source": [
    "df[(df['route'] == 'LTNEDI') & (df['dtg'] == 10) & (df['charge_dt'] >= '2025-07-01') & (df['charge_dt'] <= '2025-07-31')][['dtg','route','charge_dt', 'unt_pre', 'unt_pre_lag7', 'unt_pre_lag14', 'unt_pre_lag21', 'unt_pre_lag28', 'load_factor', 'load_factor_lag7', 'load_factor_lag14', 'load_factor_lag21', 'load_factor_lag28', 'yield', 'yield_lag7', 'yield_lag14', 'yield_lag21', 'yield_lag28']].head(31)"
   ]
  },
  {
   "cell_type": "code",
   "execution_count": 0,
   "metadata": {
    "application/vnd.databricks.v1+cell": {
     "cellMetadata": {
      "byteLimit": 2048000,
      "rowLimit": 10000
     },
     "inputWidgets": {},
     "nuid": "ae9fb4a2-bf70-4952-b07d-9e9d5ac4fdcf",
     "showTitle": false,
     "tableResultSettingsMap": {},
     "title": ""
    }
   },
   "outputs": [],
   "source": [
    "optimize_df(df)\n",
    "df.info()"
   ]
  },
  {
   "cell_type": "code",
   "execution_count": 0,
   "metadata": {
    "application/vnd.databricks.v1+cell": {
     "cellMetadata": {
      "byteLimit": 2048000,
      "rowLimit": 10000
     },
     "inputWidgets": {},
     "nuid": "4f23e830-a3b4-4d1d-93f6-f2814f9fa71f",
     "showTitle": false,
     "tableResultSettingsMap": {},
     "title": ""
    }
   },
   "outputs": [],
   "source": [
    "# Seasonality Analysis\n",
    "\n",
    "def create_features(df):\n",
    "    df['flight_dt'] = pd.to_datetime(df['charge_dt'] + pd.to_timedelta(df['dtg'], unit='D'))\n",
    "    df['charge_dt'] = pd.to_datetime(df['charge_dt'])\n",
    "    df['flight_month'] = df['flight_dt'].dt.month.astype(int)\n",
    "    df['flight_dow'] = df['flight_dt'].dt.dayofweek.astype(int)\n",
    "    df['flight_dom'] = df['flight_dt'].dt.day.astype(int)\n",
    "    df['flight_doy'] = df['flight_dt'].dt.dayofyear.astype(int)\n",
    "    df['flight_year'] = df['flight_dt'].dt.year.astype(int)\n",
    "    df['charge_month'] = df['charge_dt'].dt.month.astype(int)\n",
    "    df['charge_dow'] = df['charge_dt'].dt.dayofweek.astype(int)\n",
    "    df['charge_dom'] = df['charge_dt'].dt.day.astype(int)\n",
    "    df['charge_doy'] = df['charge_dt'].dt.dayofyear.astype(int)\n",
    "    df['charge_year'] = df['charge_dt'].dt.year.astype(int)\n",
    "\n",
    "create_features(df)\n",
    "df.tail()"
   ]
  },
  {
   "cell_type": "code",
   "execution_count": 0,
   "metadata": {
    "application/vnd.databricks.v1+cell": {
     "cellMetadata": {
      "byteLimit": 2048000,
      "rowLimit": 10000
     },
     "inputWidgets": {},
     "nuid": "72ad0dd8-948d-46fe-b277-50eea50088f9",
     "showTitle": false,
     "tableResultSettingsMap": {},
     "title": ""
    }
   },
   "outputs": [],
   "source": [
    "optimize_df(df)\n",
    "df.info()"
   ]
  },
  {
   "cell_type": "code",
   "execution_count": 0,
   "metadata": {
    "application/vnd.databricks.v1+cell": {
     "cellMetadata": {
      "byteLimit": 2048000,
      "rowLimit": 10000
     },
     "inputWidgets": {},
     "nuid": "95a1bbd2-b12e-4540-87b0-98e548329f24",
     "showTitle": false,
     "tableResultSettingsMap": {},
     "title": ""
    }
   },
   "outputs": [],
   "source": [
    "df_melt = df.melt(id_vars='unt_pre', value_vars=['flight_month', 'charge_month'], var_name='month_type', value_name='month')\n",
    "mean_sales = df_melt.groupby(['month', 'month_type'])['unt_pre'].sum().reset_index()\n",
    "\n",
    "plt.figure(figsize=(20, 8))\n",
    "sns.barplot(data=mean_sales, x='month', y='unt_pre', hue='month_type')\n",
    "plt.style.use('ggplot')\n",
    "plt.title('Historic Sales by Month since 2022')\n",
    "plt.xlabel('Month')\n",
    "plt.ylabel('Total Sales')\n",
    "plt.show()"
   ]
  },
  {
   "cell_type": "code",
   "execution_count": 0,
   "metadata": {
    "application/vnd.databricks.v1+cell": {
     "cellMetadata": {
      "byteLimit": 2048000,
      "rowLimit": 10000
     },
     "inputWidgets": {},
     "nuid": "4a0c9eb6-c222-4346-a611-dd1ed6cdabf6",
     "showTitle": false,
     "tableResultSettingsMap": {},
     "title": ""
    }
   },
   "outputs": [],
   "source": [
    "df_melt = df.melt(id_vars='unt_pre', value_vars=['flight_dow', 'charge_dow'], var_name='dow_type', value_name='dow')\n",
    "mean_sales = df_melt.groupby(['dow', 'dow_type'])['unt_pre'].sum().reset_index()\n",
    "plt.figure(figsize=(15, 8))\n",
    "sns.barplot(data=mean_sales, x='dow', y='unt_pre', hue='dow_type')\n",
    "plt.style.use('ggplot')\n",
    "plt.title('Historic Sales by DoW since 2022')\n",
    "plt.xlabel('DoW')\n",
    "plt.ylabel('Total Sales')\n",
    "display(plt.show())"
   ]
  },
  {
   "cell_type": "code",
   "execution_count": 0,
   "metadata": {
    "application/vnd.databricks.v1+cell": {
     "cellMetadata": {
      "byteLimit": 2048000,
      "rowLimit": 10000
     },
     "inputWidgets": {},
     "nuid": "9a1b07e5-a271-4c24-9093-d374268dc7f8",
     "showTitle": false,
     "tableResultSettingsMap": {},
     "title": ""
    }
   },
   "outputs": [],
   "source": [
    "df[(df['charge_dt'] > '2024-01-01') & (df['charge_dt'] < '2024-01-31')].groupby('charge_dt')['unt_pre'].sum().plot(figsize=(20,5), title = 'sales by charge date (Jan24)', y='unt_pre', linewidth=10)\n",
    "plt.style.use('ggplot')\n",
    "plt.show()"
   ]
  },
  {
   "cell_type": "code",
   "execution_count": 0,
   "metadata": {
    "application/vnd.databricks.v1+cell": {
     "cellMetadata": {
      "byteLimit": 2048000,
      "rowLimit": 10000
     },
     "inputWidgets": {},
     "nuid": "1b939ae4-ac68-49b0-8ffd-959811383a64",
     "showTitle": false,
     "tableResultSettingsMap": {},
     "title": ""
    }
   },
   "outputs": [],
   "source": [
    "mean_sales = df.groupby('charge_dom')['unt_pre'].mean().reset_index()\n",
    "mean_yield = df.groupby('charge_dom')['yield'].mean().reset_index()\n",
    "\n",
    "fig, ax1 = plt.subplots(figsize=(15, 8))\n",
    "plt.style.use('ggplot')\n",
    "\n",
    "ax1.plot(mean_sales['charge_dom'], mean_sales['unt_pre'], marker='o', linewidth=12, color='tab:red', label='Mean Sales')\n",
    "ax1.set_xlabel('Charge Day of Month')\n",
    "ax1.set_ylabel('Mean Sales', color='tab:red')\n",
    "ax1.tick_params(axis='y', labelcolor='tab:red')\n",
    "\n",
    "ax2 = ax1.twinx()\n",
    "ax2.plot(mean_yield['charge_dom'], mean_yield['yield'], marker='s', linewidth=12, color='tab:blue', label='Mean Yield')\n",
    "ax2.set_ylabel('Mean Yield', color='tab:blue')\n",
    "ax2.tick_params(axis='y', labelcolor='tab:blue')\n",
    "\n",
    "fig.suptitle('Mean Sales and Yield by Charge Day of Month (2022 - ToDate)')\n",
    "fig.legend(loc='upper right', bbox_to_anchor=(0.9, 0.9))\n",
    "plt.tight_layout()\n",
    "plt.show()"
   ]
  },
  {
   "cell_type": "code",
   "execution_count": 0,
   "metadata": {
    "application/vnd.databricks.v1+cell": {
     "cellMetadata": {
      "byteLimit": 2048000,
      "rowLimit": 10000
     },
     "inputWidgets": {},
     "nuid": "f5bc7276-f672-42b5-bb03-0280e6becff3",
     "showTitle": false,
     "tableResultSettingsMap": {},
     "title": ""
    }
   },
   "outputs": [],
   "source": [
    "uk_holidays = holidays.UK(years=range(2022, 2026))\n",
    "holidays_df = pd.DataFrame([(date, name) for date, name in uk_holidays.items()], columns=['ds', 'holiday'])\n",
    "holidays_df.sort_values(by='ds', inplace=True)\n",
    "holidays_df"
   ]
  },
  {
   "cell_type": "code",
   "execution_count": 0,
   "metadata": {
    "application/vnd.databricks.v1+cell": {
     "cellMetadata": {
      "byteLimit": 2048000,
      "rowLimit": 10000
     },
     "inputWidgets": {},
     "nuid": "e81336b4-d197-41cd-9e5b-aca123500382",
     "showTitle": false,
     "tableResultSettingsMap": {},
     "title": ""
    }
   },
   "outputs": [],
   "source": [
    "additional_holidays = pd.DataFrame([\n",
    "    {'ds': '2022-04-18', 'holiday': 'Easter Monday'},\n",
    "    {'ds': '2022-08-29', 'holiday': 'Summer Bank Holiday'},\n",
    "    {'ds': '2023-04-10', 'holiday': 'Easter Monday'},\n",
    "    {'ds': '2023-08-28', 'holiday': 'Summer Bank Holiday'},\n",
    "    {'ds': '2024-04-01', 'holiday': 'Easter Monday'},\n",
    "    {'ds': '2024-08-26', 'holiday': 'Summer Bank Holiday'},\n",
    "    {'ds': '2025-04-21', 'holiday': 'Easter Monday'},\n",
    "    {'ds': '2025-08-25', 'holiday': 'Summer Bank Holiday'},\n",
    "])\n",
    "holidays_df = pd.concat([holidays_df, additional_holidays], ignore_index=True)\n",
    "holidays_df.drop_duplicates(inplace=True)\n",
    "holidays_df['ds'] = pd.to_datetime(holidays_df['ds'])\n",
    "holidays_df.sort_values(by='ds', inplace=True)\n",
    "holidays_df.reset_index(drop=True, inplace=True)\n",
    "holidays_df\n",
    "   "
   ]
  },
  {
   "cell_type": "code",
   "execution_count": 0,
   "metadata": {
    "application/vnd.databricks.v1+cell": {
     "cellMetadata": {
      "byteLimit": 2048000,
      "rowLimit": 10000
     },
     "inputWidgets": {},
     "nuid": "1d1be869-8f30-48c2-ab6a-0e2015be9d14",
     "showTitle": false,
     "tableResultSettingsMap": {},
     "title": ""
    }
   },
   "outputs": [],
   "source": [
    "holidays_df[\"ds\"] = pd.to_datetime(holidays_df[\"ds\"])\n",
    "df = df.merge(holidays_df.rename(columns={'ds': 'charge_dt', 'holiday': 'charge_dt_holiday'}), how='left', on='charge_dt')\n",
    "df = df.merge(holidays_df.rename(columns={'ds': 'flight_dt', 'holiday': 'flight_dt_holiday'}), how='left', on='flight_dt')\n",
    "df['is_charge_date_holiday'] = df['charge_dt_holiday'].notnull().astype(int)\n",
    "df['is_flight_date_holiday'] = df['flight_dt_holiday'].notnull().astype(int)\n",
    "df.drop(['charge_dt_holiday', 'flight_dt_holiday'], axis=1, inplace=True)\n",
    "df = df.sort_values(by=['charge_dt', 'dtg'], ascending=[True, True])\n",
    "df.set_index('charge_dt', inplace=True)\n",
    "df.head()"
   ]
  },
  {
   "cell_type": "code",
   "execution_count": 0,
   "metadata": {
    "application/vnd.databricks.v1+cell": {
     "cellMetadata": {
      "byteLimit": 2048000,
      "rowLimit": 10000
     },
     "inputWidgets": {},
     "nuid": "20f56257-353a-43c0-8d7d-d11c9d3ae24a",
     "showTitle": false,
     "tableResultSettingsMap": {},
     "title": ""
    }
   },
   "outputs": [],
   "source": [
    "#Feature Engineering\n",
    "original_df = df.copy()\n",
    "\n",
    "df.drop(['load_factor'], axis=1, inplace=True)\n",
    "df.drop(['yield'], axis=1, inplace=True)\n",
    "df.drop(['flight_dt'], axis=1, inplace=True)\n",
    "\n",
    "cyclic_cols=['flight_dom', 'flight_doy', 'charge_dom', 'charge_doy', 'flight_month', 'charge_month', 'flight_dow', 'charge_dow']\n",
    "num_cols=['charge_year','flight_year']\n",
    "\n",
    "def encode_cyclic_features(df, cyclic_cols):\n",
    "    for col in cyclic_cols:\n",
    "        df[col] = pd.to_numeric(df[col], errors='coerce')\n",
    "        max_val = df[col].max()\n",
    "        df[col + '_sin'] = np.sin(2 * np.pi * df[col] / max_val)\n",
    "        df[col + '_cos'] = np.cos(2 * np.pi * df[col] / max_val)\n",
    "        df.drop(col, axis=1, inplace=True)\n",
    "    return df\n",
    "\n",
    "def scale_num_cols(df, num_cols):\n",
    "    for col in num_cols:\n",
    "        scaler = StandardScaler()\n",
    "        df[num_cols] = scaler.fit_transform(df[num_cols])\n",
    "    return df\n",
    "\n",
    "encode_cyclic_features(df, cyclic_cols)\n",
    "scale_num_cols(df, num_cols)\n",
    "df.head()"
   ]
  },
  {
   "cell_type": "code",
   "execution_count": 0,
   "metadata": {
    "application/vnd.databricks.v1+cell": {
     "cellMetadata": {
      "byteLimit": 2048000,
      "rowLimit": 10000
     },
     "inputWidgets": {},
     "nuid": "a4280a4f-680e-4b19-b3e5-71fcba1a60d6",
     "showTitle": false,
     "tableResultSettingsMap": {},
     "title": ""
    }
   },
   "outputs": [],
   "source": [
    "optimize_df(df)\n",
    "df.info()"
   ]
  },
  {
   "cell_type": "code",
   "execution_count": 0,
   "metadata": {
    "application/vnd.databricks.v1+cell": {
     "cellMetadata": {
      "byteLimit": 2048000,
      "rowLimit": 10000
     },
     "inputWidgets": {},
     "nuid": "c78840db-8db3-43f8-8e22-1d534c350d07",
     "showTitle": false,
     "tableResultSettingsMap": {},
     "title": ""
    }
   },
   "outputs": [],
   "source": [
    "#capacity proportions by route for disaggregation \n",
    "df_cap = df.reset_index()\n",
    "total_daily_capacity = df_cap.groupby(['charge_dt','dtg'])['ty_capacity'].sum().reset_index().rename(columns={'ty_capacity':'capacity_total'})\n",
    "route_daily_capacity = df_cap[['charge_dt','dtg','route','ty_capacity']]\n",
    "capacity_proportions = route_daily_capacity.merge(total_daily_capacity, on=['charge_dt','dtg'], how='left')\n",
    "capacity_proportions['capacity_proportion'] = capacity_proportions['ty_capacity'] / capacity_proportions['capacity_total']\n",
    "capacity_proportions = capacity_proportions[['dtg','charge_dt','route','capacity_proportion']]\n",
    "optimize_df(capacity_proportions)"
   ]
  },
  {
   "cell_type": "code",
   "execution_count": 0,
   "metadata": {
    "application/vnd.databricks.v1+cell": {
     "cellMetadata": {
      "byteLimit": 2048000,
      "rowLimit": 10000
     },
     "inputWidgets": {},
     "nuid": "0dccc808-f99a-4a65-a1fd-5102dd9c2e1c",
     "showTitle": false,
     "tableResultSettingsMap": {},
     "title": ""
    }
   },
   "outputs": [],
   "source": [
    "# SARIMA\n",
    "df = df.reset_index()\n",
    "df_SARIMA = df.groupby('charge_dt')['unt_pre'].sum().reset_index()\n",
    "auto_model = pm.auto_arima(df_SARIMA['unt_pre'], start_p=1, start_q=1, test='adf', max_p=3, max_q=3, m=7, d=0, seasonal=True, start_P=0, D=None, trace=True, error_action='ignore', suppress_warnings=True, stepwise=True)\n",
    "print(auto_model.summary())"
   ]
  },
  {
   "cell_type": "code",
   "execution_count": 0,
   "metadata": {
    "application/vnd.databricks.v1+cell": {
     "cellMetadata": {
      "byteLimit": 2048000,
      "rowLimit": 10000
     },
     "inputWidgets": {},
     "nuid": "6d1b6d6b-2b56-4d1a-b5b6-b6324172969f",
     "showTitle": false,
     "tableResultSettingsMap": {},
     "title": ""
    }
   },
   "outputs": [],
   "source": [
    "#Rolling Forecast\n",
    "\n",
    "split_date = pd.to_datetime(spark.sql('SELECT current_date()').collect()[0][0]) - pd.DateOffset(days=168)\n",
    "df_SARIMA_train = df_SARIMA.loc[df_SARIMA['charge_dt'] < split_date]\n",
    "df_SARIMA_test = df_SARIMA.loc[df_SARIMA['charge_dt'] >= split_date]\n",
    "\n",
    "history = list(df_SARIMA_train['unt_pre'])\n",
    "all_predictions = []\n",
    "forecast_horizon = 7\n",
    "\n",
    "for i in range(0, len(df_SARIMA_test), 7):\n",
    "    \n",
    "    SARIMA_model = pm.ARIMA(order=(1,0,3), seasonal_order=(0,1,2,7))\n",
    "    SARIMA_model.fit(history)\n",
    "    \n",
    "    next_forecast = SARIMA_model.predict(n_periods=forecast_horizon)[:7]\n",
    "    all_predictions.extend(next_forecast)\n",
    "    \n",
    "    actuals_for_period = df_SARIMA_test['unt_pre'][i : i + 7]\n",
    "    history.extend(actuals_for_period)\n",
    "\n",
    "\n",
    "final_predictions = all_predictions[:len(df_SARIMA_test)]\n",
    "\n",
    "rmse_SARIMA = np.sqrt(mean_squared_error(df_SARIMA_test['unt_pre'], final_predictions))\n",
    "mae_SARIMA = mean_absolute_error(df_SARIMA_test['unt_pre'], final_predictions)\n",
    "\n",
    "print(f\"RMSE: {rmse_SARIMA:.2f}\")\n",
    "print(f\"MAE: {mae_SARIMA:.2f}\")\n",
    "\n",
    "# Plot the results\n",
    "plt.figure(figsize=(14, 7))\n",
    "plt.plot(df_SARIMA_test.index, df_SARIMA_test['unt_pre'], color='green', label='Actual Test Data')\n",
    "plt.plot(df_SARIMA_test.index, final_predictions, color='red', linestyle='--', label='Rolling Forecast')\n",
    "plt.title('SARIMA Rolling Forecast Backtest')\n",
    "plt.legend()\n",
    "plt.grid(True)\n",
    "plt.show()"
   ]
  },
  {
   "cell_type": "code",
   "execution_count": 0,
   "metadata": {
    "application/vnd.databricks.v1+cell": {
     "cellMetadata": {
      "byteLimit": 2048000,
      "rowLimit": 10000
     },
     "inputWidgets": {},
     "nuid": "cd09a3a1-d574-4b5f-b6cf-7519c58fb8ef",
     "showTitle": false,
     "tableResultSettingsMap": {},
     "title": ""
    }
   },
   "outputs": [],
   "source": [
    "# SARIMAX\n",
    "optimize_df(original_df)\n",
    "df_SARIMAX = original_df.reset_index()\n",
    "split_date = pd.to_datetime(spark.sql('SELECT current_date()').collect()[0][0]) - pd.DateOffset(days=168)\n",
    "df_SARIMAX = df_SARIMAX.groupby('charge_dt')[['unt_pre', 'ty_capacity', 'unt_pre_lag7', 'unt_pre_lag14', 'unt_pre_lag21', 'unt_pre_lag28', 'unt_pre_lag364', 'charge_dom', 'charge_doy', 'charge_month', 'charge_dow', 'is_charge_date_holiday']].sum().reset_index()\n",
    "df_SARIMAX = df_SARIMAX.set_index('charge_dt')\n",
    "\n",
    "y_SARIMAX = df_SARIMAX[['unt_pre']]\n",
    "X_SARIMAX = df_SARIMAX.drop('unt_pre', axis=1)\n",
    "\n",
    "X_SARIMAX_train = X_SARIMAX.loc[X_SARIMAX.index < split_date]\n",
    "X_SARIMAX_test = X_SARIMAX.loc[X_SARIMAX.index >= split_date]\n",
    "y_SARIMAX_train = y_SARIMAX.loc[y_SARIMAX.index < split_date]\n",
    "y_SARIMAX_test = y_SARIMAX.loc[y_SARIMAX.index >= split_date]\n",
    "SARIMAX_model = pm.auto_arima(y_SARIMAX_train, X=X_SARIMAX_train, seasonal=True,trace=True, start_p=1, start_q=1, test='adf', max_p=3, max_q=3, m=7, d=0, start_P=0, D=None, error_action='ignore', suppress_warnings=True, stepwise=True)\n",
    "predictions = SARIMAX_model.predict(n_periods=len(y_SARIMAX_test), X=X_SARIMAX_test)\n",
    "\n",
    "print(SARIMAX_model.summary())"
   ]
  },
  {
   "cell_type": "code",
   "execution_count": 0,
   "metadata": {
    "application/vnd.databricks.v1+cell": {
     "cellMetadata": {
      "byteLimit": 2048000,
      "rowLimit": 10000
     },
     "inputWidgets": {},
     "nuid": "a715f348-b262-402a-a9a2-584afa817f26",
     "showTitle": false,
     "tableResultSettingsMap": {},
     "title": ""
    }
   },
   "outputs": [],
   "source": [
    "history_y = list(y_SARIMAX_train['unt_pre'])\n",
    "history_X = X_SARIMAX_train.copy()\n",
    "all_predictions = []\n",
    "forecast_horizon = 7\n",
    "\n",
    "for i in range(0, len(y_SARIMAX_test), 7):\n",
    "\n",
    "    X_future = X_SARIMAX_test[i : i + forecast_horizon]\n",
    "    \n",
    "    SARIMAX_model = pm.ARIMA(order=(0,0,1), seasonal_order=(0,0,0,7))\n",
    "    SARIMAX_model.fit(history_y, X=history_X)\n",
    "    \n",
    "    next_forecast = SARIMAX_model.predict(n_periods=len(X_future), X=X_future)[:7]\n",
    "    all_predictions.extend(next_forecast)\n",
    "    \n",
    "    actuals_y_for_period = y_SARIMAX_test['unt_pre'][i : i + 7]\n",
    "    actuals_X_for_period = X_SARIMAX_test[i : i + 7]\n",
    "\n",
    "    history_y.extend(actuals_y_for_period)\n",
    "    history_X = pd.concat([history_X, actuals_X_for_period])\n",
    "\n",
    "\n",
    "final_predictions = all_predictions[:len(y_SARIMAX_test)]\n",
    "\n",
    "rmse_SARIMAX = np.sqrt(mean_squared_error(y_SARIMAX_test['unt_pre'], final_predictions))\n",
    "mae_SARIMAX = mean_absolute_error(y_SARIMAX_test['unt_pre'], final_predictions)\n",
    "\n",
    "print(f\"RMSE: {rmse_SARIMAX:.2f}\")\n",
    "print(f\"MAE: {mae_SARIMAX:.2f}\")\n",
    "\n",
    "# Plot the results\n",
    "plt.figure(figsize=(14, 7))\n",
    "plt.plot(y_SARIMAX_test.index, y_SARIMAX_test['unt_pre'], color='green', label='Actual Test Data')\n",
    "plt.plot(y_SARIMAX_test.index, final_predictions, color='red', linestyle='--', label='Rolling Forecast')\n",
    "plt.title('SARIMAX Rolling Forecast Backtest')\n",
    "plt.legend()\n",
    "plt.grid(True)\n",
    "plt.show()"
   ]
  },
  {
   "cell_type": "code",
   "execution_count": 0,
   "metadata": {
    "application/vnd.databricks.v1+cell": {
     "cellMetadata": {
      "byteLimit": 2048000,
      "rowLimit": 10000
     },
     "inputWidgets": {},
     "nuid": "32815371-6406-49d5-9d34-6cc808259476",
     "showTitle": false,
     "tableResultSettingsMap": {},
     "title": ""
    }
   },
   "outputs": [],
   "source": [
    "#Top-Down Linear Regression\n",
    "\n",
    "sum_cols = ['unt_pre', 'ty_capacity', 'unt_pre_lag7', 'unt_pre_lag14', 'unt_pre_lag21', 'unt_pre_lag28', 'unt_pre_lag364']\n",
    "avg_cols = ['load_factor_lag7','load_factor_lag14','load_factor_lag21','load_factor_lag28','load_factor_lag364','yield_lag7','yield_lag14','yield_lag21','yield_lag28','yield_lag364','flight_year','charge_year','is_charge_date_holiday','is_flight_date_holiday','flight_dom_sin','flight_dom_cos','flight_doy_sin','flight_doy_cos','charge_dom_sin','charge_dom_cos','charge_doy_cos','charge_doy_sin','flight_month_cos','flight_month_sin','charge_month_sin','charge_month_cos','flight_dow_sin','flight_dow_cos','charge_dow_sin','charge_dow_cos']\n",
    "agg_dict = {col: 'mean' for col in avg_cols}\n",
    "agg_dict.update({col: 'sum' for col in sum_cols})\n",
    "df_LR = df.groupby(['charge_dt', 'dtg']).agg(agg_dict)\n",
    "df_LR = df_LR.reset_index() \n",
    "df_LR['charge_dt'] = pd.to_datetime(df_LR['charge_dt']) \n",
    "optimize_df(df_LR)\n",
    "df_LR.head()"
   ]
  },
  {
   "cell_type": "code",
   "execution_count": 0,
   "metadata": {
    "application/vnd.databricks.v1+cell": {
     "cellMetadata": {
      "byteLimit": 2048000,
      "rowLimit": 10000
     },
     "inputWidgets": {},
     "nuid": "5c5bf161-d0b5-4b7d-81e7-81bc7deae55a",
     "showTitle": false,
     "tableResultSettingsMap": {},
     "title": ""
    }
   },
   "outputs": [],
   "source": [
    "split_date = pd.to_datetime(spark.sql(\"SELECT current_date()\").collect()[0][0]) - pd.DateOffset(days=168)\n",
    "df_LR_train = df_LR.loc[df_LR['charge_dt'] < split_date]\n",
    "df_LR_test = df_LR.loc[df_LR['charge_dt'] >= split_date]\n",
    "\n",
    "df_LR_train_plot = df_LR_train.groupby('charge_dt')['unt_pre'].sum().reset_index()\n",
    "df_LR_test_plot = df_LR_test.groupby('charge_dt')['unt_pre'].sum().reset_index()\n",
    "\n",
    "# Plot the data\n",
    "plt.figure(figsize=(18, 6))\n",
    "plt.plot(df_LR_train_plot['charge_dt'], df_LR_train_plot['unt_pre'], label='Train', color='blue')\n",
    "plt.plot(df_LR_test_plot['charge_dt'], df_LR_test_plot['unt_pre'], label='Validation', color='red')\n",
    "plt.axvline(pd.to_datetime(split_date), linestyle='--', color='black', label='Split Date')\n",
    "plt.legend()\n",
    "plt.title('Sales Before and After Split Date')\n",
    "plt.xlabel('Charge Date')\n",
    "plt.ylabel('Sales')\n",
    "plt.show()"
   ]
  },
  {
   "cell_type": "code",
   "execution_count": 0,
   "metadata": {
    "application/vnd.databricks.v1+cell": {
     "cellMetadata": {
      "byteLimit": 2048000,
      "rowLimit": 10000
     },
     "inputWidgets": {},
     "nuid": "dc105bc6-b73a-4537-8684-106b6c1962a3",
     "showTitle": false,
     "tableResultSettingsMap": {},
     "title": ""
    }
   },
   "outputs": [],
   "source": [
    "df_LR_train = df_LR_train.set_index('charge_dt')\n",
    "df_LR_test = df_LR_test.set_index('charge_dt')\n",
    "\n",
    "X_train = df_LR_train.drop(['unt_pre'], axis=1)\n",
    "X_test = df_LR_test.drop(['unt_pre'], axis=1)\n",
    "y_train = df_LR_train['unt_pre']\n",
    "y_test = df_LR_test['unt_pre']\n",
    "\n",
    "LR_model = LinearRegression()\n",
    "LR_model.fit(X_train, y_train)\n",
    "y_pred_LR = LR_model.predict(X_test)\n",
    "\n",
    "predictions_df = X_test.copy()\n",
    "predictions_df['total_prediction_LR'] = y_pred_LR\n",
    "predictions_df = predictions_df.reset_index()[['charge_dt', 'dtg', 'total_prediction_LR']]\n",
    "\n",
    "disaggregated_df = pd.merge(predictions_df, capacity_proportions, on=['charge_dt', 'dtg'], how='left')\n",
    "disaggregated_df['route_forecast_LR'] = disaggregated_df['total_prediction_LR'] * disaggregated_df['capacity_proportion']\n",
    "\n",
    "df_with_actuals = df.reset_index()\n",
    "actuals_to_merge = df_with_actuals[['charge_dt', 'dtg', 'route', 'unt_pre']]\n",
    "final_df = pd.merge(disaggregated_df, actuals_to_merge, on=['charge_dt', 'dtg', 'route'], how='left')\n",
    "\n",
    "rmse_LR = np.sqrt(mean_squared_error(final_df['unt_pre'], final_df['route_forecast_LR']))\n",
    "mae_LR = mean_absolute_error(final_df['unt_pre'], final_df['route_forecast_LR'])\n",
    "print(f'RMSE: {rmse_LR:.2f}')\n",
    "print(f'MAE: {mae_LR:.2f}')"
   ]
  },
  {
   "cell_type": "code",
   "execution_count": 0,
   "metadata": {
    "application/vnd.databricks.v1+cell": {
     "cellMetadata": {
      "byteLimit": 2048000,
      "rowLimit": 10000
     },
     "inputWidgets": {},
     "nuid": "a288f980-5ba9-42ee-97c9-7cb9440468ff",
     "showTitle": false,
     "tableResultSettingsMap": {},
     "title": ""
    }
   },
   "outputs": [],
   "source": [
    "LR_agg = final_df.groupby(['charge_dt'])[['unt_pre', 'route_forecast_LR']].sum().reset_index()\n",
    "\n",
    "plt.figure(figsize=(12, 6))\n",
    "plt.plot(LR_agg['charge_dt'], LR_agg['unt_pre'], label='Actual', marker='o')\n",
    "plt.plot(LR_agg['charge_dt'], LR_agg['route_forecast_LR'], label='Forecast (LR)', marker='x')\n",
    "plt.xlabel('Charge Date')\n",
    "plt.ylabel('Total Sales Across All DTGs')\n",
    "plt.title('LR Forecast vs Actual – Aggregated Over DTG')\n",
    "plt.legend()\n",
    "plt.grid(True)\n",
    "plt.xticks(rotation=45)\n",
    "plt.tight_layout()\n",
    "plt.show()"
   ]
  },
  {
   "cell_type": "code",
   "execution_count": 0,
   "metadata": {
    "application/vnd.databricks.v1+cell": {
     "cellMetadata": {
      "byteLimit": 2048000,
      "rowLimit": 10000
     },
     "inputWidgets": {},
     "nuid": "157cd3e3-1dff-40b8-aafa-6d8b339d3f60",
     "showTitle": false,
     "tableResultSettingsMap": {},
     "title": ""
    }
   },
   "outputs": [],
   "source": [
    "LR_agg_dynamic = final_df.groupby(['dtg', 'charge_dt'])['unt_pre', 'route_forecast_LR'].sum().reset_index()\n",
    "LR_agg_dynamic['charge_dt'] = LR_agg_dynamic['charge_dt'].astype(str)\n",
    "\n",
    "actual = LR_agg_dynamic[['charge_dt','dtg','unt_pre']].copy()\n",
    "actual['sales_type'] = 'actual'\n",
    "actual['sales_value'] = actual['unt_pre']\n",
    "\n",
    "pred = LR_agg_dynamic[['charge_dt','dtg','route_forecast_LR']].copy()\n",
    "pred['sales_type'] = 'predicted'\n",
    "pred['sales_value'] = pred['route_forecast_LR']\n",
    "\n",
    "melted = pd.concat([actual, pred]).sort_values(['charge_dt','dtg','sales_type'])\n",
    "\n",
    "fig = px.line(melted, x='dtg', y='sales_value', animation_frame='charge_dt', title='Sales by DTG with charge date variations')\n",
    "\n",
    "fig = px.line(melted, x='dtg', y='sales_value', color='sales_type', animation_frame='charge_dt', title='Actual vs Predicted by DTG across Charge Dates', color_discrete_map={'unt_net':'red', 'prediction':'blue'})\n",
    "\n",
    "fig.update_xaxes(range=[0, 200])\n",
    "fig.update_yaxes(range=[0, 800])\n",
    "fig.update_layout(xaxis_title='Days To Go', yaxis_title='Sales', legend_title='Charge Date', height=900, width=1400)\n",
    "\n",
    "fig.show()"
   ]
  },
  {
   "cell_type": "code",
   "execution_count": 0,
   "metadata": {
    "application/vnd.databricks.v1+cell": {
     "cellMetadata": {
      "byteLimit": 2048000,
      "rowLimit": 10000
     },
     "inputWidgets": {},
     "nuid": "fbd31b82-3798-47f2-a101-9b2dc2965103",
     "showTitle": false,
     "tableResultSettingsMap": {},
     "title": ""
    }
   },
   "outputs": [],
   "source": [
    "#Prophet\n",
    "df_prophet = df.groupby(['dtg', 'charge_dt'])[['unt_pre', 'ty_capacity', 'unt_pre_lag7', 'unt_pre_lag14', 'unt_pre_lag21', 'unt_pre_lag28']].sum().reset_index()\n",
    "train_prophet = df_prophet.loc[df_prophet['charge_dt'] < split_date]\n",
    "val_prophet = df_prophet.loc[df_prophet['charge_dt'] >= split_date]\n",
    "train_df = train_prophet.reset_index()\n",
    "val_df = val_prophet.reset_index()\n",
    "all_forecasts = []\n",
    "\n",
    "for dtg_value in train_df['dtg'].unique():\n",
    "    train_subset = train_df[train_df['dtg'] == dtg_value][['charge_dt', 'unt_pre', 'ty_capacity', 'unt_pre_lag7', 'unt_pre_lag14', 'unt_pre_lag21', 'unt_pre_lag28']].copy()\n",
    "    train_subset.rename(columns={'charge_dt': 'ds', 'unt_pre': 'y'}, inplace=True)\n",
    "    train_subset.sort_values('ds', inplace=True)\n",
    "\n",
    "    val_subset = val_df[val_df['dtg'] == dtg_value][['charge_dt', 'unt_pre', 'ty_capacity', 'unt_pre_lag7', 'unt_pre_lag14', 'unt_pre_lag21', 'unt_pre_lag28']].copy()\n",
    "    val_subset.rename(columns={'charge_dt': 'ds'}, inplace=True)\n",
    "    val_subset.sort_values('ds', inplace=True)\n",
    "\n",
    "    if len(train_subset) < 10 or val_subset.empty:\n",
    "        continue\n",
    "\n",
    "    model = Prophet(holidays=holidays_df)\n",
    "    regressors = ['ty_capacity', 'unt_pre_lag7', 'unt_pre_lag14', 'unt_pre_lag21', 'unt_pre_lag28']\n",
    "    for reg in regressors:\n",
    "        model.add_regressor(reg)\n",
    "    model.fit(train_subset)\n",
    "\n",
    "    forecast = model.predict(val_subset)\n",
    "\n",
    "    forecast['dtg'] = dtg_value\n",
    "    actual_values = val_df[val_df['dtg'] == dtg_value].set_index('charge_dt').reindex(forecast['ds'])['unt_pre'].values\n",
    "    forecast['actual'] = actual_values\n",
    "\n",
    "    all_forecasts.append(forecast[['ds', 'yhat', 'yhat_lower', 'yhat_upper', 'dtg', 'actual']])\n",
    "\n",
    "prophet_val_forecasts = pd.concat(all_forecasts, ignore_index=True)"
   ]
  },
  {
   "cell_type": "code",
   "execution_count": 0,
   "metadata": {
    "application/vnd.databricks.v1+cell": {
     "cellMetadata": {
      "byteLimit": 2048000,
      "rowLimit": 10000
     },
     "inputWidgets": {},
     "nuid": "86e4ccec-7bbd-48fc-8fbc-8bb5307bdfd9",
     "showTitle": false,
     "tableResultSettingsMap": {},
     "title": ""
    }
   },
   "outputs": [],
   "source": [
    "agg_forecast = (prophet_val_forecasts.groupby('ds').agg({'yhat': 'sum','yhat_lower': 'sum', 'yhat_upper': 'sum', 'actual': 'sum'}).reset_index())\n",
    "actuals_all = pd.concat([train_df, val_df])\n",
    "actuals_all = actuals_all.rename(columns={'charge_dt': 'ds', 'unt_pre': 'y'})\n",
    "agg_actuals = (actuals_all.groupby('ds').agg({'y': 'sum'}).reset_index())\n",
    "plot_df = pd.merge(agg_forecast, agg_actuals, on='ds', how='outer').sort_values('ds')\n",
    "\n",
    "plt.style.use('seaborn-v0_8-darkgrid')\n",
    "fig, ax = plt.subplots(figsize=(18, 6))\n",
    "\n",
    "plot_df_val = plot_df[plot_df['ds'] >= split_date]\n",
    "plot_df_train = plot_df[plot_df['ds'] < split_date]\n",
    "\n",
    "ax.plot(plot_df_val['ds'], plot_df_val['y'], 'k.', alpha=0.6, label='Actual')\n",
    "ax.plot(plot_df_train['ds'], plot_df_train['y'], 'red', linewidth=1.5, label='Train') \n",
    "\n",
    "ax.plot(plot_df['ds'], plot_df['yhat'], color='blue', label='Forecast')\n",
    "ax.fill_between(plot_df['ds'], plot_df['yhat_lower'], plot_df['yhat_upper'], color='skyblue', alpha=0.3, label='Confidence Interval')\n",
    "\n",
    "ax.axvline(x=split_date, color='black', linestyle='--', lw=2, label='Forecast Start')\n",
    "ax.set_title('Forecasted Demand with Prophet (Aggregated)', fontsize=18, fontweight='bold')\n",
    "ax.set_xlabel('Date', fontsize=14)\n",
    "ax.set_ylabel('Sales', fontsize=14)\n",
    "ax.legend(loc='upper left')\n",
    "plt.tight_layout()\n",
    "plt.show()"
   ]
  },
  {
   "cell_type": "code",
   "execution_count": 0,
   "metadata": {
    "application/vnd.databricks.v1+cell": {
     "cellMetadata": {
      "byteLimit": 2048000,
      "rowLimit": 10000
     },
     "inputWidgets": {},
     "nuid": "1baa0d31-52a2-4fe4-8f2a-17af29eb5235",
     "showTitle": false,
     "tableResultSettingsMap": {},
     "title": ""
    }
   },
   "outputs": [],
   "source": [
    "plt.figure(figsize=(12, 6))\n",
    "plt.plot(agg_forecast['ds'], agg_forecast['actual'], label='Actual', marker='o')\n",
    "plt.plot(agg_forecast['ds'], agg_forecast['yhat'], label='Forecast (Prophet)', marker='x')\n",
    "plt.xlabel('Charge Date')\n",
    "plt.ylabel('Total Sales Across All DTGs')\n",
    "plt.title('Prophet Forecast vs Actual – Aggregated Over DTG')\n",
    "plt.legend()\n",
    "plt.grid(True)\n",
    "plt.xticks(rotation=45)\n",
    "plt.tight_layout()\n",
    "plt.show()\n"
   ]
  },
  {
   "cell_type": "code",
   "execution_count": 0,
   "metadata": {
    "application/vnd.databricks.v1+cell": {
     "cellMetadata": {
      "byteLimit": 2048000,
      "rowLimit": 10000
     },
     "inputWidgets": {},
     "nuid": "92617e3e-b48e-4fc7-90a5-0fc380aa652f",
     "showTitle": false,
     "tableResultSettingsMap": {},
     "title": ""
    }
   },
   "outputs": [],
   "source": [
    "mse_prophet = np.sqrt(mean_squared_error(agg_forecast['actual'], agg_forecast['yhat']))\n",
    "#mape_prophet = mean_absolute_percentage_error(agg_forecast['actual'], agg_forecast['yhat'])\n",
    "print(f'MSE: {mse_prophet:.2f}')\n",
    "#print(f'MAPE: {mape_prophet:.2f}')"
   ]
  },
  {
   "cell_type": "code",
   "execution_count": 0,
   "metadata": {
    "application/vnd.databricks.v1+cell": {
     "cellMetadata": {
      "byteLimit": 2048000,
      "rowLimit": 10000
     },
     "inputWidgets": {},
     "nuid": "01fe76d8-c4d3-49f7-80a7-c4ae1c162fa8",
     "showTitle": false,
     "tableResultSettingsMap": {},
     "title": ""
    }
   },
   "outputs": [],
   "source": [
    "'''%python\n",
    "from sklearn.model_selection import TimeSeriesSplit\n",
    "from sklearn.model_selection import GridSearchCV\n",
    "from sklearn.metrics import mean_squared_error, make_scorer\n",
    "from xgboost import XGBRegressor\n",
    "\n",
    "param_grid = {\n",
    "    'learning_rate': [0.005, 0.01, 0.1],\n",
    "    #'subsample': [0.8, 1.0],\n",
    "    #'colsample_bytree': [0.8, 1.0],\n",
    "    #'lambda': [0.1, 1.0],\n",
    "    #'alpha': [0, 0.1],\n",
    "}\n",
    "\n",
    "rmse_scorer = make_scorer(mean_squared_error, squared=False)\n",
    "\n",
    "outer_cv = TimeSeriesSplit(n_splits=5)\n",
    "inner_cv = TimeSeriesSplit(n_splits=3)\n",
    "\n",
    "outer_scores = []\n",
    "\n",
    "for train_idx, test_idx in outer_cv.split(df):\n",
    "    X_train_outer = df.iloc[train_idx].drop('unt_net', axis=1).copy()\n",
    "    y_train_outer = df.iloc[train_idx]['unt_net'].copy()\n",
    "    X_test_outer = df.iloc[test_idx].drop('unt_net', axis=1).copy()\n",
    "    y_test_outer = df.iloc[test_idx]['unt_net'].copy()\n",
    "\n",
    "    X_train_processed = preprocessor.fit_preprocess(X_train_outer)\n",
    "    X_test_processed = preprocessor.transform_preprocess(X_test_outer)\n",
    "\n",
    "    model = XGBRegressor(objective='reg:pseudohubererror', base_score=0.5, boosting='gbtree', early_stopping_rounds=50, max_depth=3, n_estimators=500, learning_rate=0.01)\n",
    "    grid_search = GridSearchCV(estimator=model, param_grid=param_grid, cv=inner_cv, n_jobs=-1, verbose=1, scoring=rmse_scorer)\n",
    "\n",
    "    grid_search.fit(X_train_processed, y_train_outer, eval_set=[(X_test_processed, y_test_outer)])\n",
    "\n",
    "    best_model = grid_search.best_estimator_\n",
    "    test_score = best_model.score(X_test_processed, y_test_outer)\n",
    "    outer_scores.append(test_score)\n",
    "\n",
    "    print(f'Outer fold score: {test_score}, best params: {grid_search.best_params_}')'''"
   ]
  },
  {
   "cell_type": "code",
   "execution_count": 0,
   "metadata": {
    "application/vnd.databricks.v1+cell": {
     "cellMetadata": {
      "byteLimit": 2048000,
      "rowLimit": 10000
     },
     "inputWidgets": {},
     "nuid": "823b993d-9273-4a59-a826-2d6f9ae28cd7",
     "showTitle": false,
     "tableResultSettingsMap": {},
     "title": ""
    }
   },
   "outputs": [],
   "source": [
    "#XGBoost\n",
    "df = df.set_index('charge_dt')\n",
    "unique_dates = df.index.sort_values().unique()\n",
    "tscv = TimeSeriesSplit(n_splits=5, test_size=168)\n",
    "\n",
    "fig, axs = plt.subplots(5, 1, figsize=(20, 10), sharex=True)\n",
    "plt.style.use('ggplot')\n",
    "fold=0\n",
    "preds = []\n",
    "scores = []\n",
    "# Nested cross-validation\n",
    "for train_index, val_index in tscv.split(unique_dates):\n",
    "\n",
    "    train_dates = unique_dates[train_index]\n",
    "    val_dates = unique_dates[val_index]\n",
    "\n",
    "    train_data = df.loc[train_dates]\n",
    "    val_data = df.loc[val_dates]\n",
    "\n",
    "    total_sales_train = train_data.groupby('charge_dt')['unt_pre'].sum().reset_index()\n",
    "    total_sales_val = val_data.groupby('charge_dt')['unt_pre'].sum().reset_index()\n",
    "    total_sales_train.plot(ax=axs[fold], label='Train', x='charge_dt', y='unt_pre', style='-')\n",
    "    total_sales_val.plot(ax=axs[fold], label='Val', x='charge_dt', y='unt_pre', style='-')\n",
    "    axs[fold].axvline(val_data.index.min(), linestyle='--', color='black')\n",
    "    axs[fold].set_title(f'Fold {fold+1}')\n",
    "    fold += 1\n",
    "\n",
    "    X_train = train_data.drop('unt_pre', axis=1)\n",
    "    y_train = train_data['unt_pre']\n",
    "\n",
    "    X_test = val_data.drop('unt_pre', axis=1)\n",
    "    y_test = val_data['unt_pre']\n",
    "\n",
    "    XGB_model = xgb.XGBRegressor(base_score=0.5, booster ='gbtree', n_estimators=500, early_stopping_rounds=50, max_depth=3, learning_rate=0.01, objective='reg:pseudohubererror', enable_categorical=True)\n",
    "    XGB_model.fit(X_train, y_train, eval_set=[(X_test, y_test)], verbose=100)\n",
    "\n",
    "    y_pred = XGB_model.predict(X_test)\n",
    "    preds.extend(y_pred)\n",
    "    score = np.sqrt(mean_squared_error(y_test, y_pred))\n",
    "    scores.append(score)"
   ]
  },
  {
   "cell_type": "code",
   "execution_count": 0,
   "metadata": {
    "application/vnd.databricks.v1+cell": {
     "cellMetadata": {
      "byteLimit": 2048000,
      "rowLimit": 10000
     },
     "inputWidgets": {},
     "nuid": "97f14fc5-e055-4075-a260-5624280535b7",
     "showTitle": false,
     "tableResultSettingsMap": {},
     "title": ""
    }
   },
   "outputs": [],
   "source": [
    "print(f'individual scores: {scores}')\n",
    "print(f'combined score: {np.mean(scores)}')\n",
    "print(f'std: {np.std(scores)}')      "
   ]
  },
  {
   "cell_type": "code",
   "execution_count": 0,
   "metadata": {
    "application/vnd.databricks.v1+cell": {
     "cellMetadata": {
      "byteLimit": 2048000,
      "rowLimit": 10000
     },
     "inputWidgets": {},
     "nuid": "7b8a62d0-7c37-4379-bbb8-71ac38e5739d",
     "showTitle": false,
     "tableResultSettingsMap": {},
     "title": ""
    }
   },
   "outputs": [],
   "source": [
    "predictions = pd.DataFrame({'date': X_test.index, 'prediction': y_pred, 'dtg': X_test['dtg'], 'route': X_test['route']})\n",
    "actual = pd.DataFrame({'date': X_test.index, 'unt_pre': y_test, 'dtg': X_test['dtg'], 'route': X_test['route']})\n",
    "y_pred_total = predictions.groupby('date')['prediction'].sum().reset_index()\n",
    "y_test_total = actual.groupby('date')['unt_pre'].sum().reset_index()\n",
    "y_pred_total.set_index('date', inplace=True)\n",
    "y_test_total.set_index('date', inplace=True)\n",
    "#mape_xgb = mean_absolute_percentage_error(y_test_total, y_pred_total)\n",
    "mse_xgb = np.sqrt(mean_squared_error(y_test_total, y_pred_total))\n",
    "print(f'MSE: {mse_xgb:.2f}')\n",
    "#print(f'MAPE: {mape_xgb:.2f}')\n"
   ]
  },
  {
   "cell_type": "code",
   "execution_count": 0,
   "metadata": {
    "application/vnd.databricks.v1+cell": {
     "cellMetadata": {
      "byteLimit": 2048000,
      "rowLimit": 10000
     },
     "inputWidgets": {},
     "nuid": "b64b7be3-1c45-475d-91e1-896975658aa3",
     "showTitle": false,
     "tableResultSettingsMap": {},
     "title": ""
    }
   },
   "outputs": [],
   "source": [
    "plt.figure(figsize=(12, 6))\n",
    "plt.plot(y_test_total.index, y_test_total['unt_pre'], label='Actual', marker='o')\n",
    "plt.plot(y_pred_total.index, y_pred_total['prediction'], label='Forecast', marker='x')\n",
    "plt.xlabel('Charge Date')\n",
    "plt.ylabel('Total Sales Across All DTGs')\n",
    "plt.title('XGB Forecast vs Actual – Aggregated Over DTG')\n",
    "plt.legend()\n",
    "plt.grid(True)\n",
    "plt.xticks(rotation=45)\n",
    "plt.tight_layout()\n",
    "plt.show()"
   ]
  },
  {
   "cell_type": "code",
   "execution_count": 0,
   "metadata": {
    "application/vnd.databricks.v1+cell": {
     "cellMetadata": {
      "byteLimit": 2048000,
      "rowLimit": 10000
     },
     "inputWidgets": {},
     "nuid": "e33a7cdf-2ec1-4dee-b98e-2682e49a0a20",
     "showTitle": false,
     "tableResultSettingsMap": {},
     "title": ""
    }
   },
   "outputs": [],
   "source": [
    "df_reset_actual = actual.reset_index()\n",
    "df_reset_actual['date'] = df_reset_actual['date'].astype(str)\n",
    "df_reset_actual = df_reset_actual.groupby(['dtg', 'date'])['unt_pre'].sum().reset_index()\n",
    "\n",
    "df_reset_pred = predictions.reset_index()\n",
    "df_reset_pred['date'] = df_reset_pred['date'].astype(str)\n",
    "df_reset_pred = df_reset_pred.groupby(['dtg', 'date'])['prediction'].sum().reset_index()\n",
    "\n",
    "df_plot_actual = df_reset_actual[df_reset_actual['unt_pre'].notnull()].copy()\n",
    "df_plot_pred = df_reset_pred[df_reset_pred['prediction'].notnull()].copy()\n",
    "\n",
    "df_actual = df_plot_actual[['date','dtg','unt_pre']].copy()\n",
    "df_actual['sales_type'] = 'actual'\n",
    "df_actual['sales_value'] = df_actual['unt_pre']\n",
    "\n",
    "df_pred = df_plot_pred[['date','dtg','prediction']].copy()\n",
    "df_pred['sales_type'] = 'predicted'\n",
    "df_pred['sales_value'] = df_pred['prediction']\n",
    "\n",
    "df_melted = pd.concat([df_actual, df_pred]).sort_values(['date','dtg','sales_type'])\n",
    "\n",
    "min_dtg = 0\n",
    "max_dtg = 200\n",
    "min_sales = 0\n",
    "max_sales = 1200\n",
    "\n",
    "fig = px.line(df_melted, x='dtg', y='sales_value', color='sales_type', animation_frame='date', title='Actual vs Predicted by DTG across Charge Dates', color_discrete_map={'unt_net':'red', 'prediction':'blue'})\n",
    "fig.update_xaxes(range=[min_dtg, max_dtg], title='DTG')\n",
    "fig.update_yaxes(range=[min_sales, max_sales], title='Sales')\n",
    "fig.update_layout(legend_title='sales type', height=900, width=1200)\n",
    "fig.show()"
   ]
  }
 ],
 "metadata": {
  "application/vnd.databricks.v1+notebook": {
   "computePreferences": null,
   "dashboards": [],
   "environmentMetadata": {
    "base_environment": "",
    "environment_version": "2"
   },
   "inputWidgetPreferences": null,
   "language": "python",
   "notebookMetadata": {
    "pythonIndentUnit": 4
   },
   "notebookName": "Apprenticeship Project (initial)",
   "widgets": {}
  },
  "language_info": {
   "name": "python"
  }
 },
 "nbformat": 4,
 "nbformat_minor": 0
}
