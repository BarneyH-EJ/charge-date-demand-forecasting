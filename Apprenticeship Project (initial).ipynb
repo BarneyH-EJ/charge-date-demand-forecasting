{
 "cells": [
  {
   "cell_type": "code",
   "execution_count": 0,
   "metadata": {
    "application/vnd.databricks.v1+cell": {
     "cellMetadata": {
      "byteLimit": 2048000,
      "rowLimit": 10000
     },
     "inputWidgets": {},
     "nuid": "4798a73c-1fd0-4d93-8641-066f2d7ec2f2",
     "showTitle": false,
     "tableResultSettingsMap": {},
     "title": ""
    }
   },
   "outputs": [],
   "source": [
    "#importing data\n",
    "\n",
    "import pandas as pd\n",
    "import numpy as np\n",
    "import seaborn as sns\n",
    "import plotly.express as px\n",
    "from sklearn.metrics import mean_squared_error\n",
    "from sklearn.preprocessing import StandardScaler\n",
    "from sklearn.model_selection import TimeSeriesSplit\n",
    "import xgboost as xgb\n",
    "from xgboost import XGBRegressor\n",
    "from pyspark.sql.functions import to_date, to_timestamp, col, last, when, lit, dayofweek, dayofmonth, dayofyear, month, weekofyear, current_date, date_sub, datediff\n",
    "from pyspark.sql.window import Window\n",
    "from pyspark.sql import functions as F\n",
    "import matplotlib.pyplot as plt\n",
    "from mpl_toolkits.mplot3d import Axes3D\n",
    "from matplotlib import ticker\n",
    "from datetime import datetime, timedelta\n",
    "from itertools import product\n",
    "import joblib\n",
    "\n",
    "df = spark.read.table('data_experience_commercial.cbt_1423_rtsuite.master').select('charge_dt','dtg','chargeproduct','unt_net','channel','flightkey','flight_dt')\n",
    "dmh = spark.read.table('data_experience_commercial.cbt_0923_segmentfinder.dimensions_history').select('flightkey','onsale_dt')\n",
    "df = df.join(dmh, on='flightkey', how='left').drop('flightkey')\n",
    "df = df[(df['chargeproduct']=='Ticket') & (df['dtg'] >= 0) & (df['channel'] == 'Web/App')]\n",
    "df = df.drop('chargeproduct','channel')\n",
    "df = df.filter((col('dtg') < (datediff(col('flight_dt'), col('onsale_dt')) - 25)) & (col('charge_dt') >= '2019-01-01'))\n",
    "df = df.withColumn('unt_net', F.when(col('unt_net') < 0, 0).otherwise(col('unt_net')))\n",
    "df = df.groupby('charge_dt','dtg').agg(F.sum('unt_net').alias('unt_net')).orderBy('charge_dt','dtg')\n",
    "df = df.toPandas()\n",
    "df.info()"
   ]
  },
  {
   "cell_type": "code",
   "execution_count": 0,
   "metadata": {
    "application/vnd.databricks.v1+cell": {
     "cellMetadata": {
      "byteLimit": 2048000,
      "rowLimit": 10000
     },
     "inputWidgets": {},
     "nuid": "4f23e830-a3b4-4d1d-93f6-f2814f9fa71f",
     "showTitle": false,
     "tableResultSettingsMap": {},
     "title": ""
    }
   },
   "outputs": [],
   "source": [
    "#Feature Engineering\n",
    "df['charge_dt'] = pd.to_datetime(df['charge_dt'])\n",
    "\n",
    "def create_features(df):\n",
    "    df['flight_dt'] = pd.to_datetime(df['charge_dt'] + pd.to_timedelta(df['dtg'], unit='D'))\n",
    "    df['charge_dt'] = pd.to_datetime(df['charge_dt'])\n",
    "\n",
    "    df['flight_month'] = df['flight_dt'].dt.month.astype(str)\n",
    "    df['flight_dow'] = df['flight_dt'].dt.dayofweek.astype(str)\n",
    "    df['flight_dom'] = df['flight_dt'].dt.day.astype(str)\n",
    "    df['flight_doy'] = df['flight_dt'].dt.dayofyear.astype(str)\n",
    "    df['flight_year'] = df['flight_dt'].dt.year.astype(str)\n",
    "\n",
    "    df['charge_month'] = df['charge_dt'].dt.month.astype(str)\n",
    "    df['charge_dow'] = df['charge_dt'].dt.dayofweek.astype(str)\n",
    "    df['charge_dom'] = df['charge_dt'].dt.day.astype(str)\n",
    "    df['charge_doy'] = df['charge_dt'].dt.dayofyear.astype(str)\n",
    "    df['charge_year'] = df['charge_dt'].dt.year.astype(str)\n",
    "\n",
    "    df.drop(['flight_dt'], axis=1, inplace=True)\n",
    "    df.set_index('charge_dt', inplace=True)\n",
    "    df = df.sort_index()\n",
    "\n",
    "create_features(df)\n",
    "df.head()"
   ]
  },
  {
   "cell_type": "code",
   "execution_count": 0,
   "metadata": {
    "application/vnd.databricks.v1+cell": {
     "cellMetadata": {
      "byteLimit": 2048000,
      "rowLimit": 10000
     },
     "inputWidgets": {},
     "nuid": "d0bfcbbb-ed90-4718-a819-3a069657fbd4",
     "showTitle": false,
     "tableResultSettingsMap": {},
     "title": ""
    }
   },
   "outputs": [],
   "source": [
    "target_map = {(row.name, row['dtg']): row['unt_net'] for _, row in df.iterrows()}\n",
    "lag_periods = [1, 2, 3, 4, 5, 6, 7, 14, 21, 28, 364]\n",
    "for lag in lag_periods:\n",
    "    df[f'lag{lag}'] = df.apply(lambda row: target_map.get((row.name - pd.Timedelta(f'{lag} day'), row['dtg']), None), axis=1)\n",
    "\n",
    "df.tail()"
   ]
  },
  {
   "cell_type": "code",
   "execution_count": 0,
   "metadata": {
    "application/vnd.databricks.v1+cell": {
     "cellMetadata": {
      "byteLimit": 2048000,
      "rowLimit": 10000
     },
     "inputWidgets": {},
     "nuid": "130e08a0-96ea-4a54-bc26-4ef5a021296b",
     "showTitle": false,
     "tableResultSettingsMap": {},
     "title": ""
    }
   },
   "outputs": [],
   "source": [
    "total_sales = df.groupby('charge_dt')['unt_net'].sum().reset_index()\n",
    "plt.style.use('ggplot')\n",
    "total_sales.plot(style='-', figsize=(20,5), title = 'sales by charge date', y='unt_net', x='charge_dt')\n",
    "plt.show()"
   ]
  },
  {
   "cell_type": "code",
   "execution_count": 0,
   "metadata": {
    "application/vnd.databricks.v1+cell": {
     "cellMetadata": {
      "byteLimit": 2048000,
      "rowLimit": 10000
     },
     "inputWidgets": {},
     "nuid": "49a916c1-99ba-4b28-a259-577cd2c6f4e9",
     "showTitle": false,
     "tableResultSettingsMap": {},
     "title": ""
    }
   },
   "outputs": [],
   "source": [
    "df = df[df.index >= '2022-01-01']\n",
    "total_sales = df.groupby('charge_dt')['unt_net'].sum().reset_index()\n",
    "total_sales.plot(style='-', figsize=(20,5), title = 'sales by charge date', y='unt_net', x='charge_dt')\n",
    "plt.style.use('ggplot')\n",
    "plt.show()"
   ]
  },
  {
   "cell_type": "code",
   "execution_count": 0,
   "metadata": {
    "application/vnd.databricks.v1+cell": {
     "cellMetadata": {
      "byteLimit": 2048000,
      "rowLimit": 10000
     },
     "inputWidgets": {},
     "nuid": "25deb798-ce28-4204-a9d8-59d04c270f69",
     "showTitle": false,
     "tableResultSettingsMap": {},
     "title": ""
    }
   },
   "outputs": [],
   "source": [
    "df_reset = df.reset_index()\n",
    "df_reset['charge_dt'] = df_reset['charge_dt'].astype(str)\n",
    "\n",
    "fig = px.scatter(df_reset, \n",
    "                 x='dtg', \n",
    "                 y='unt_net', \n",
    "                 animation_frame='charge_dt',  # Add dtg as an animation frame\n",
    "                 title='Sales by DTG with charge date variations')\n",
    "\n",
    "fig.update_xaxes(range=[0, 200])\n",
    "fig.update_yaxes(range=[0, 5000])\n",
    "\n",
    "fig.update_layout(\n",
    "    xaxis_title='Days To Go',\n",
    "    yaxis_title='Sales',\n",
    "    legend_title='Charge Date',\n",
    ")\n",
    "\n",
    "fig.show()"
   ]
  },
  {
   "cell_type": "code",
   "execution_count": 0,
   "metadata": {
    "application/vnd.databricks.v1+cell": {
     "cellMetadata": {
      "byteLimit": 2048000,
      "rowLimit": 10000
     },
     "inputWidgets": {},
     "nuid": "f9b86d0f-1694-46e8-937b-be726ea64fd0",
     "showTitle": false,
     "tableResultSettingsMap": {},
     "title": ""
    }
   },
   "outputs": [],
   "source": [
    "fig = px.scatter(df, \n",
    "                 x=df.index, \n",
    "                 y='unt_net', \n",
    "                 animation_frame='dtg',  # Add dtg as an animation frame\n",
    "                 title='Sales by Charge Date with DTG Variations')\n",
    "\n",
    "fig.update_layout(\n",
    "    xaxis_title='Charge Date',\n",
    "    yaxis_title='Sales',\n",
    "    legend_title='DTG'\n",
    ")\n",
    "\n",
    "fig.show()\n",
    "\n",
    "#on DTG 0, charge date 21/03/2025 an example can be seen with the Heathrow fire"
   ]
  },
  {
   "cell_type": "code",
   "execution_count": 0,
   "metadata": {
    "application/vnd.databricks.v1+cell": {
     "cellMetadata": {
      "byteLimit": 2048000,
      "rowLimit": 10000
     },
     "inputWidgets": {},
     "nuid": "95a1bbd2-b12e-4540-87b0-98e548329f24",
     "showTitle": false,
     "tableResultSettingsMap": {},
     "title": ""
    }
   },
   "outputs": [],
   "source": [
    "# Assuming df is the original DataFrame\n",
    "df_melt = df.melt(id_vars='unt_net', value_vars=['flight_month', 'charge_month'], var_name='month_type', value_name='month')\n",
    "\n",
    "# Group by month and month type, and calculate mean sales\n",
    "mean_sales = df_melt.groupby(['month', 'month_type'])['unt_net'].mean().reset_index()\n",
    "\n",
    "# Convert 'month' to categorical for ordering\n",
    "mean_sales['month'] = pd.Categorical(mean_sales['month'], categories=[str(i) for i in range(1, 13)], ordered=True)\n",
    "\n",
    "# Plot the histogram\n",
    "plt.figure(figsize=(20, 8))\n",
    "sns.barplot(data=mean_sales, x='month', y='unt_net', hue='month_type')\n",
    "plt.style.use('ggplot')\n",
    "plt.title('Mean Sales by Month')\n",
    "plt.xlabel('Month')\n",
    "plt.ylabel('Mean Sales')\n",
    "plt.show()"
   ]
  },
  {
   "cell_type": "code",
   "execution_count": 0,
   "metadata": {
    "application/vnd.databricks.v1+cell": {
     "cellMetadata": {
      "byteLimit": 2048000,
      "rowLimit": 10000
     },
     "inputWidgets": {},
     "nuid": "4a0c9eb6-c222-4346-a611-dd1ed6cdabf6",
     "showTitle": false,
     "tableResultSettingsMap": {},
     "title": ""
    }
   },
   "outputs": [],
   "source": [
    "# Assuming df is the original DataFrame\n",
    "df_melt = df.melt(id_vars='unt_net', value_vars=['flight_dow', 'charge_dow'], var_name='dow_type', value_name='dow')\n",
    "mean_sales = df_melt.groupby(['dow', 'dow_type'])['unt_net'].mean().reset_index()\n",
    "mean_sales['dow'] = pd.Categorical(mean_sales['dow'], categories=[str(i) for i in range(0, 7)], ordered=True)\n",
    "plt.figure(figsize=(15, 8))\n",
    "sns.barplot(data=mean_sales, x='dow', y='unt_net', hue='dow_type')\n",
    "plt.style.use('ggplot')\n",
    "plt.title('Mean Sales by DoW')\n",
    "plt.xlabel('DoW')\n",
    "plt.ylabel('Mean Sales')\n",
    "display(plt.show())"
   ]
  },
  {
   "cell_type": "code",
   "execution_count": 0,
   "metadata": {
    "application/vnd.databricks.v1+cell": {
     "cellMetadata": {
      "byteLimit": 2048000,
      "rowLimit": 10000
     },
     "inputWidgets": {},
     "nuid": "1b939ae4-ac68-49b0-8ffd-959811383a64",
     "showTitle": false,
     "tableResultSettingsMap": {},
     "title": ""
    }
   },
   "outputs": [],
   "source": [
    "# Group by charge day of month and calculate mean sales\n",
    "mean_sales = df.groupby('charge_dom')['unt_net'].mean().reset_index()\n",
    "\n",
    "# Ensure 'charge_dom' is of categorical type\n",
    "mean_sales['charge_dom'] = pd.to_numeric(mean_sales['charge_dom'])\n",
    "mean_sales = mean_sales.sort_values(by='charge_dom')\n",
    "\n",
    "# Plot the line graph\n",
    "plt.figure(figsize=(15, 8))\n",
    "plt.style.use('ggplot')\n",
    "plt.plot(mean_sales['charge_dom'], mean_sales['unt_net'], marker='o', linewidth=15)\n",
    "plt.title('Mean Sales by Charge Day of Month')\n",
    "plt.xlabel('Charge Day of Month')\n",
    "plt.ylabel('Mean Sales')\n",
    "display(plt.show())"
   ]
  },
  {
   "cell_type": "code",
   "execution_count": 0,
   "metadata": {
    "application/vnd.databricks.v1+cell": {
     "cellMetadata": {
      "byteLimit": 2048000,
      "rowLimit": 10000
     },
     "inputWidgets": {},
     "nuid": "9a1b07e5-a271-4c24-9093-d374268dc7f8",
     "showTitle": false,
     "tableResultSettingsMap": {},
     "title": ""
    }
   },
   "outputs": [],
   "source": [
    "df[(df.index > '2024-01-01') & (df.index < '2024-01-31')].groupby('charge_dt')['unt_net'].mean().plot(figsize=(20,5), title = 'sales by charge date (Jan24)', y='unt_net', linewidth=10)\n",
    "plt.style.use('ggplot')\n",
    "plt.show()"
   ]
  },
  {
   "cell_type": "code",
   "execution_count": 0,
   "metadata": {
    "application/vnd.databricks.v1+cell": {
     "cellMetadata": {
      "byteLimit": 2048000,
      "rowLimit": 10000
     },
     "inputWidgets": {},
     "nuid": "01fe76d8-c4d3-49f7-80a7-c4ae1c162fa8",
     "showTitle": false,
     "tableResultSettingsMap": {},
     "title": ""
    }
   },
   "outputs": [],
   "source": [
    "'''%python\n",
    "from sklearn.model_selection import TimeSeriesSplit\n",
    "from sklearn.model_selection import GridSearchCV\n",
    "from sklearn.metrics import mean_squared_error, make_scorer\n",
    "from xgboost import XGBRegressor\n",
    "\n",
    "param_grid = {\n",
    "    'learning_rate': [0.005, 0.01, 0.1],\n",
    "    #'subsample': [0.8, 1.0],\n",
    "    #'colsample_bytree': [0.8, 1.0],\n",
    "    #'lambda': [0.1, 1.0],\n",
    "    #'alpha': [0, 0.1],\n",
    "}\n",
    "\n",
    "rmse_scorer = make_scorer(mean_squared_error, squared=False)\n",
    "\n",
    "outer_cv = TimeSeriesSplit(n_splits=5)\n",
    "inner_cv = TimeSeriesSplit(n_splits=3)\n",
    "\n",
    "outer_scores = []\n",
    "\n",
    "for train_idx, test_idx in outer_cv.split(df):\n",
    "    X_train_outer = df.iloc[train_idx].drop('unt_net', axis=1).copy()\n",
    "    y_train_outer = df.iloc[train_idx]['unt_net'].copy()\n",
    "    X_test_outer = df.iloc[test_idx].drop('unt_net', axis=1).copy()\n",
    "    y_test_outer = df.iloc[test_idx]['unt_net'].copy()\n",
    "\n",
    "    X_train_processed = preprocessor.fit_preprocess(X_train_outer)\n",
    "    X_test_processed = preprocessor.transform_preprocess(X_test_outer)\n",
    "\n",
    "    model = XGBRegressor(objective='reg:pseudohubererror', base_score=0.5, boosting='gbtree', early_stopping_rounds=50, max_depth=3, n_estimators=500, learning_rate=0.01)\n",
    "    grid_search = GridSearchCV(estimator=model, param_grid=param_grid, cv=inner_cv, n_jobs=-1, verbose=1, scoring=rmse_scorer)\n",
    "\n",
    "    grid_search.fit(X_train_processed, y_train_outer, eval_set=[(X_test_processed, y_test_outer)])\n",
    "\n",
    "    best_model = grid_search.best_estimator_\n",
    "    test_score = best_model.score(X_test_processed, y_test_outer)\n",
    "    outer_scores.append(test_score)\n",
    "\n",
    "    print(f'Outer fold score: {test_score}, best params: {grid_search.best_params_}')'''"
   ]
  },
  {
   "cell_type": "code",
   "execution_count": 0,
   "metadata": {
    "application/vnd.databricks.v1+cell": {
     "cellMetadata": {
      "byteLimit": 2048000,
      "rowLimit": 10000
     },
     "inputWidgets": {},
     "nuid": "20f56257-353a-43c0-8d7d-d11c9d3ae24a",
     "showTitle": false,
     "tableResultSettingsMap": {},
     "title": ""
    }
   },
   "outputs": [],
   "source": [
    "cyclic_cols=['flight_dom', 'flight_doy', 'charge_dom', 'charge_doy', 'flight_month', 'charge_month', 'flight_dow', 'charge_dow']\n",
    "num_cols=['charge_year','flight_year']\n",
    "\n",
    "def encode_cyclic_features(df, cyclic_cols):\n",
    "    for col in cyclic_cols:\n",
    "        df[col] = pd.to_numeric(df[col], errors='coerce')\n",
    "        max_val = df[col].max()\n",
    "        df[col + '_sin'] = np.sin(2 * np.pi * df[col] / max_val)\n",
    "        df[col + '_cos'] = np.cos(2 * np.pi * df[col] / max_val)\n",
    "        df.drop(col, axis=1, inplace=True)\n",
    "    return df\n",
    "\n",
    "def scale_num_cols(df, num_cols, scaler=None):\n",
    "    if scaler is None:\n",
    "        scaler = StandardScaler()\n",
    "        df[num_cols] = scaler.fit_transform(df[num_cols])\n",
    "    else:\n",
    "        df[num_cols] = scaler.transform(df[num_cols])\n",
    "    return df, scaler\n",
    "\n",
    "encode_cyclic_features(df, cyclic_cols)\n",
    "df, scaler = scale_num_cols(df, num_cols)\n",
    "joblib.dump(scaler, 'scaler.pkl')\n",
    "df.head()"
   ]
  },
  {
   "cell_type": "code",
   "execution_count": 0,
   "metadata": {
    "application/vnd.databricks.v1+cell": {
     "cellMetadata": {
      "byteLimit": 2048000,
      "rowLimit": 10000
     },
     "inputWidgets": {},
     "nuid": "823b993d-9273-4a59-a826-2d6f9ae28cd7",
     "showTitle": false,
     "tableResultSettingsMap": {},
     "title": ""
    }
   },
   "outputs": [],
   "source": [
    "unique_dates = df.index.sort_values().unique()\n",
    "tscv = TimeSeriesSplit(n_splits=5, test_size=168)\n",
    "\n",
    "fig, axs = plt.subplots(5, 1, figsize=(20, 10), sharex=True)\n",
    "plt.style.use('ggplot')\n",
    "fold=0\n",
    "preds = []\n",
    "scores = []\n",
    "# Nested cross-validation\n",
    "for train_index, val_index in tscv.split(unique_dates):\n",
    "\n",
    "    train_dates = unique_dates[train_index]\n",
    "    val_dates = unique_dates[val_index]\n",
    "\n",
    "    train_data = df.loc[train_dates]\n",
    "    val_data = df.loc[val_dates]\n",
    "\n",
    "    total_sales_train = train_data.groupby('charge_dt')['unt_net'].sum().reset_index()\n",
    "    total_sales_val = val_data.groupby('charge_dt')['unt_net'].sum().reset_index()\n",
    "    total_sales_train.plot(ax=axs[fold], label='Train', x='charge_dt', y='unt_net', style='-')\n",
    "    total_sales_val.plot(ax=axs[fold], label='Val', x='charge_dt', y='unt_net', style='-')\n",
    "    axs[fold].axvline(val_data.index.min(), linestyle='--', color='black')\n",
    "    axs[fold].set_title(f'Fold {fold+1}')\n",
    "    fold += 1\n",
    "\n",
    "    X_train = train_data.drop('unt_net', axis=1)\n",
    "    y_train = train_data['unt_net']\n",
    "\n",
    "    X_test = val_data.drop('unt_net', axis=1)\n",
    "    y_test = val_data['unt_net']\n",
    "\n",
    "    model = xgb.XGBRegressor(base_score=0.5, booster ='gbtree', n_estimators=1000, early_stopping_rounds=50, max_depth=3, learning_rate=0.01, objective='reg:pseudohubererror', enable_categorical=True)\n",
    "    model.fit(X_train, y_train, eval_set=[(X_test, y_test)], verbose=100)\n",
    "\n",
    "    y_pred=model.predict(X_test)\n",
    "    preds.extend(y_pred)\n",
    "    score = np.sqrt(mean_squared_error(y_test, y_pred))\n",
    "    scores.append(score)"
   ]
  },
  {
   "cell_type": "code",
   "execution_count": 0,
   "metadata": {
    "application/vnd.databricks.v1+cell": {
     "cellMetadata": {
      "byteLimit": 2048000,
      "rowLimit": 10000
     },
     "inputWidgets": {},
     "nuid": "97f14fc5-e055-4075-a260-5624280535b7",
     "showTitle": false,
     "tableResultSettingsMap": {},
     "title": ""
    }
   },
   "outputs": [],
   "source": [
    "average_score = np.mean(scores)\n",
    "print(f'individual scores: {scores}')\n",
    "print(f'combined score: {np.mean(scores)}')\n",
    "print(f'std: {np.std(scores)}')      "
   ]
  },
  {
   "cell_type": "code",
   "execution_count": 0,
   "metadata": {
    "application/vnd.databricks.v1+cell": {
     "cellMetadata": {
      "byteLimit": 2048000,
      "rowLimit": 10000
     },
     "inputWidgets": {},
     "nuid": "179b85a0-70ea-47e1-9b6e-2b1b27f1b0ab",
     "showTitle": false,
     "tableResultSettingsMap": {},
     "title": ""
    }
   },
   "outputs": [],
   "source": [
    "pd.DataFrame(data=model.feature_importances_, index=model.feature_names_in_, columns=['importance']).sort_values('importance', ascending=False)"
   ]
  },
  {
   "cell_type": "code",
   "execution_count": 0,
   "metadata": {
    "application/vnd.databricks.v1+cell": {
     "cellMetadata": {
      "byteLimit": 2048000,
      "rowLimit": 10000
     },
     "inputWidgets": {},
     "nuid": "7c655ed6-0e25-45fa-889a-7a1d5efbafa7",
     "showTitle": false,
     "tableResultSettingsMap": {},
     "title": ""
    }
   },
   "outputs": [],
   "source": [
    "val_data['prediction'] = model.predict(X_test)\n",
    "total_sales = val_data.groupby('charge_dt')['unt_net'].sum()\n",
    "total_sales_prediction = val_data.groupby('charge_dt')['prediction'].sum()\n",
    "ax = total_sales.plot(x='charge_dt', y='unt_net', figsize=(20, 8), label='Actual')\n",
    "total_sales_prediction.plot(x='day_count', y='prediction', ax=ax, style='-', label='Predicted', markersize=10)\n",
    "\n",
    "plt.legend(['Actual', 'Predicted'])\n",
    "plt.title('Actual vs Predicted Sales')\n",
    "plt.xlabel('Charge Date')\n",
    "plt.ylabel('Sales')\n",
    "plt.show()"
   ]
  },
  {
   "cell_type": "code",
   "execution_count": 0,
   "metadata": {
    "application/vnd.databricks.v1+cell": {
     "cellMetadata": {
      "byteLimit": 2048000,
      "rowLimit": 10000
     },
     "inputWidgets": {},
     "nuid": "e33a7cdf-2ec1-4dee-b98e-2682e49a0a20",
     "showTitle": false,
     "tableResultSettingsMap": {},
     "title": ""
    }
   },
   "outputs": [],
   "source": [
    "df_reset = val_data.reset_index()\n",
    "df_reset['charge_dt'] = df_reset['charge_dt'].astype(str)\n",
    "\n",
    "df_plot = df_reset[df_reset['prediction'].notnull()].copy()\n",
    "\n",
    "df_actual = df_plot[['charge_dt','dtg','unt_net']].copy()\n",
    "df_actual['sales_type'] = 'actual'\n",
    "df_actual['sales_value'] = df_actual['unt_net']\n",
    "\n",
    "df_pred = df_plot[['charge_dt','dtg','prediction']].copy()\n",
    "df_pred['sales_type'] = 'predicted'\n",
    "df_pred['sales_value'] = df_pred['prediction']\n",
    "\n",
    "df_melted = pd.concat([df_actual, df_pred]).sort_values(['charge_dt','dtg','sales_type'])\n",
    "\n",
    "min_dtg = 0\n",
    "max_dtg = 200\n",
    "min_sales = 0\n",
    "max_sales = 5000\n",
    "\n",
    "fig = px.line(df_melted, x='dtg', y='sales_value', color='sales_type', animation_frame='charge_dt', title='Actual vs Predicted by DTG across Charge Dates', color_discrete_map={'unt_net':'red', 'prediction':'blue'})\n",
    "fig.update_xaxes(range=[min_dtg, max_dtg], title='DTG')\n",
    "fig.update_yaxes(range=[min_sales, max_sales], title='Sales')\n",
    "fig.update_layout(legend_title='sales type')\n",
    "fig.show()"
   ]
  },
  {
   "cell_type": "code",
   "execution_count": 0,
   "metadata": {
    "application/vnd.databricks.v1+cell": {
     "cellMetadata": {
      "byteLimit": 2048000,
      "rowLimit": 10000
     },
     "inputWidgets": {},
     "nuid": "229e0411-ccca-4500-bfb8-1612e76c2479",
     "showTitle": false,
     "tableResultSettingsMap": {},
     "title": ""
    }
   },
   "outputs": [],
   "source": [
    "df_reset2 = val_data.reset_index()\n",
    "df_reset2['charge_dt'] = df_reset2['charge_dt'].astype(str)\n",
    "\n",
    "df_plot = df_reset2[df_reset2['prediction'].notnull()].copy()\n",
    "\n",
    "df_actual = df_plot[['charge_dt','dtg','unt_net']].copy()\n",
    "df_actual['sales_type'] = 'actual'\n",
    "df_actual['sales_value'] = df_actual['unt_net']\n",
    "\n",
    "df_pred = df_plot[['charge_dt','dtg','prediction']].copy()\n",
    "df_pred['sales_type'] = 'predicted'\n",
    "df_pred['sales_value'] = df_pred['prediction']\n",
    "\n",
    "df_melted = pd.concat([df_actual, df_pred]).sort_values(['charge_dt','dtg','sales_type'])\n",
    "\n",
    "min_sales = 0\n",
    "max_sales = 5000\n",
    "\n",
    "fig = px.line(df_melted, x='charge_dt', y='sales_value', color='sales_type', animation_frame='dtg', title='Actual vs Predicted by DTG across Charge Dates', color_discrete_map={'unt_net':'red', 'prediction':'blue'})\n",
    "fig.update_xaxes(title='Charge Date')\n",
    "fig.update_yaxes(range=[min_sales, max_sales], title='Sales')\n",
    "fig.update_layout(legend_title='sales type')\n",
    "fig.show()"
   ]
  },
  {
   "cell_type": "code",
   "execution_count": 0,
   "metadata": {
    "application/vnd.databricks.v1+cell": {
     "cellMetadata": {
      "byteLimit": 2048000,
      "rowLimit": 10000
     },
     "inputWidgets": {},
     "nuid": "1ce7acc3-1a29-43b0-b3ba-06a2b89ca7e1",
     "showTitle": false,
     "tableResultSettingsMap": {},
     "title": ""
    }
   },
   "outputs": [],
   "source": [
    "val_data['error'] = np.abs(y_test - val_data['prediction'])\n",
    "val_data.groupby(val_data.index)['error'].mean().sort_values(ascending=False).head(10)"
   ]
  },
  {
   "cell_type": "code",
   "execution_count": 0,
   "metadata": {
    "application/vnd.databricks.v1+cell": {
     "cellMetadata": {
      "byteLimit": 2048000,
      "rowLimit": 10000
     },
     "inputWidgets": {},
     "nuid": "8e0a8311-941c-484a-aa84-e963947bd02b",
     "showTitle": false,
     "tableResultSettingsMap": {},
     "title": ""
    }
   },
   "outputs": [],
   "source": [
    "val_data.groupby(val_data.index)['error'].mean().plot(figsize=(20,5))\n",
    "plt.show()"
   ]
  },
  {
   "cell_type": "code",
   "execution_count": 0,
   "metadata": {
    "application/vnd.databricks.v1+cell": {
     "cellMetadata": {
      "byteLimit": 2048000,
      "rowLimit": 10000
     },
     "inputWidgets": {},
     "nuid": "ca6f347f-c1bb-4f9d-b00c-8c29d37773cd",
     "showTitle": false,
     "tableResultSettingsMap": {},
     "title": ""
    }
   },
   "outputs": [],
   "source": [
    "val_data.groupby('dtg')['error'].mean().sort_values(ascending=False).head(10)"
   ]
  },
  {
   "cell_type": "code",
   "execution_count": 0,
   "metadata": {
    "application/vnd.databricks.v1+cell": {
     "cellMetadata": {
      "byteLimit": 2048000,
      "rowLimit": 10000
     },
     "inputWidgets": {},
     "nuid": "ed52d16b-efda-4cc2-bca9-38cac82eab49",
     "showTitle": false,
     "tableResultSettingsMap": {},
     "title": ""
    }
   },
   "outputs": [],
   "source": [
    "val_data.groupby('dtg')['error'].mean().plot(figsize=(20,5))\n",
    "plt.title('Absolute Error By DTG')\n",
    "plt.xlabel('DTG')\n",
    "plt.ylabel('RMSError')\n",
    "plt.show()"
   ]
  },
  {
   "cell_type": "code",
   "execution_count": 0,
   "metadata": {
    "application/vnd.databricks.v1+cell": {
     "cellMetadata": {
      "byteLimit": 2048000,
      "rowLimit": 10000
     },
     "inputWidgets": {},
     "nuid": "37a5c5f0-05a5-48b2-a983-18b10b607b93",
     "showTitle": false,
     "tableResultSettingsMap": {},
     "title": ""
    }
   },
   "outputs": [],
   "source": [
    "val_data = val_data[val_data['dtg'] <= 300]\n",
    "sales_by_dtg = val_data.groupby('dtg')['unt_net'].std().reset_index()\n",
    "sales_by_dtg.rename(columns={'unt_net': 'std_unt_net'}, inplace=True)\n",
    "\n",
    "val_data = val_data.merge(sales_by_dtg, on='dtg', how='left')\n",
    "\n",
    "min_std = 1\n",
    "val_data['std_unt_net'] = val_data['std_unt_net'].fillna(min_std).apply(lambda x: max(x, min_std))\n",
    "\n",
    "val_data['absolute_error'] = np.abs(val_data['unt_net'] - val_data['prediction'])\n",
    "val_data['relative_error'] = val_data['absolute_error'] / val_data['std_unt_net']\n",
    "\n",
    "relative_error = val_data.groupby('dtg')['relative_error'].mean()\n",
    "relative_error.sort_values(ascending=False).head(10)"
   ]
  },
  {
   "cell_type": "code",
   "execution_count": 0,
   "metadata": {
    "application/vnd.databricks.v1+cell": {
     "cellMetadata": {
      "byteLimit": 2048000,
      "rowLimit": 10000
     },
     "inputWidgets": {},
     "nuid": "009317b8-ab38-4ca8-81dc-bd31f1885c6b",
     "showTitle": false,
     "tableResultSettingsMap": {},
     "title": ""
    }
   },
   "outputs": [],
   "source": [
    "relative_error.plot(figsize=(20,5))\n",
    "plt.title('Relative Error By DTG')\n",
    "plt.xlabel('DTG')\n",
    "plt.ylabel('Relative Error')\n",
    "plt.show()"
   ]
  },
  {
   "cell_type": "code",
   "execution_count": 0,
   "metadata": {
    "application/vnd.databricks.v1+cell": {
     "cellMetadata": {
      "byteLimit": 2048000,
      "rowLimit": 10000
     },
     "inputWidgets": {},
     "nuid": "7085c6dc-140e-488f-82ad-572be4333900",
     "showTitle": false,
     "tableResultSettingsMap": {},
     "title": ""
    }
   },
   "outputs": [],
   "source": [
    "future = pd.date_range(start=df.index.max() + pd.DateOffset(days=1), end=(df.index.max() + pd.DateOffset(days=1)), freq='1d')\n",
    "dtg_values = list(range(0, 301))\n",
    "future_combinations = list(product(future, dtg_values))\n",
    "future_df = pd.DataFrame(future_combinations, columns=['charge_dt', 'dtg'])\n",
    "create_features(future_df)\n",
    "encode_cyclic_features(future_df, cyclic_cols)\n",
    "future_df, _ = scale_num_cols(future_df, num_cols, scaler = joblib.load('scaler.pkl'))\n",
    "for lag in lag_periods:\n",
    "    future_df[f'lag{lag}'] = future_df.apply(lambda row: target_map.get((row.name - pd.Timedelta(f'{lag} day'), row['dtg']), None), axis=1)\n",
    "future_df['isFuture'] = True\n",
    "df['isFuture'] = False\n",
    "df_and_future = pd.concat([df, future_df])\n",
    "df_and_future.tail()"
   ]
  },
  {
   "cell_type": "code",
   "execution_count": 0,
   "metadata": {
    "application/vnd.databricks.v1+cell": {
     "cellMetadata": {
      "byteLimit": 2048000,
      "rowLimit": 10000
     },
     "inputWidgets": {},
     "nuid": "0ac8a2d3-f696-4415-80d2-e41d4952a21f",
     "showTitle": false,
     "tableResultSettingsMap": {},
     "title": ""
    }
   },
   "outputs": [],
   "source": [
    "future_w_features = df_and_future.query('isFuture').copy()\n",
    "future_w_features = future_w_features.drop(columns=['unt_net', 'isFuture'])\n",
    "future_w_features['pred'] = model.predict(future_w_features)\n",
    "future_w_features.plot(figsize=(20,5), x='dtg', y='pred')\n",
    "plt.title('Predicted Sales')\n",
    "plt.xlabel('Date')\n",
    "plt.ylabel('Sales')\n",
    "plt.show()"
   ]
  }
 ],
 "metadata": {
  "application/vnd.databricks.v1+notebook": {
   "computePreferences": null,
   "dashboards": [],
   "environmentMetadata": {
    "base_environment": "",
    "environment_version": "2"
   },
   "inputWidgetPreferences": null,
   "language": "python",
   "notebookMetadata": {
    "pythonIndentUnit": 4
   },
   "notebookName": "Apprenticeship Project (initial)",
   "widgets": {}
  },
  "language_info": {
   "name": "python"
  }
 },
 "nbformat": 4,
 "nbformat_minor": 0
}
