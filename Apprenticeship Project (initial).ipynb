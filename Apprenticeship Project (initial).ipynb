{
 "cells": [
  {
   "cell_type": "code",
   "execution_count": 0,
   "metadata": {
    "application/vnd.databricks.v1+cell": {
     "cellMetadata": {
      "byteLimit": 2048000,
      "rowLimit": 10000
     },
     "inputWidgets": {},
     "nuid": "e3ebaa69-e0f4-4092-a954-8aaea4608ba4",
     "showTitle": false,
     "tableResultSettingsMap": {},
     "title": ""
    }
   },
   "outputs": [],
   "source": [
    "import pandas as pd\n",
    "import numpy as np\n",
    "import seaborn as sns\n",
    "import plotly.express as px\n",
    "from sklearn.metrics import mean_squared_error, mean_absolute_error\n",
    "from sklearn.preprocessing import StandardScaler, MinMaxScaler, OneHotEncoder\n",
    "from sklearn.model_selection import TimeSeriesSplit\n",
    "from sklearn.linear_model import LinearRegression\n",
    "from statsmodels.graphics.tsaplots import plot_acf, plot_pacf\n",
    "import pmdarima as pm\n",
    "import xgboost as xgb\n",
    "from xgboost import XGBRegressor\n",
    "from prophet import Prophet\n",
    "from pyspark.sql.functions import to_date, to_timestamp, col, last, when, lit, current_date, date_sub, datediff, substring, sequence, explode, coalesce, sum as spark_sum, min as spark_min\n",
    "from pyspark.sql.window import Window\n",
    "from pyspark.sql import functions as F\n",
    "import matplotlib.pyplot as plt\n",
    "from datetime import datetime, timedelta\n",
    "import joblib\n",
    "import holidays\n",
    "import mlflow\n",
    "mlflow.autolog(disable=True)\n",
    "\n",
    "pi = spark.read.table('data_prod.silver_sanezdb.priceinspection').select('segment', 'when', 'standardprice')\n",
    "dmh = spark.read.table('data_experience_commercial.cbt_0923_segmentfinder.dimensions_history').select('flightkey', 'onsale_dt', 'ty_capacity', 'routetype', 'region', 'route', 'flight_dt')\n",
    "\n",
    "pi = pi.withColumnRenamed('when', 'charge_dt').withColumnRenamed('segment', 'flightkey').withColumn('charge_dt', F.col('charge_dt').cast('date')).groupby('flightkey', 'charge_dt').agg(F.avg('standardprice').alias('price'))\n",
    "pi_with_meta = pi.join(dmh, on='flightkey', how='inner')\n",
    "filtered_pi = pi_with_meta.filter((F.col('region').isin(['UK-London', 'UK-Regions'])) & (F.col('charge_dt') >= '2021-01-01') & (F.col('routetype') == 'Domestic'))\n",
    "date_ranges = filtered_pi.groupBy('flightkey').agg(F.min('charge_dt').alias('first_date'), F.first('flight_dt').alias('flight_dt'))\n",
    "current_date = F.lit(datetime.now().date())\n",
    "date_ranges = date_ranges.withColumn('end_date', F.least(F.col('flight_dt'), current_date))\n",
    "scaffold_pi = date_ranges.withColumn('charge_dt', F.explode(F.sequence(F.col('first_date'), F.col('end_date')))).select('flightkey', 'charge_dt')\n",
    "filled_pi = scaffold_pi.join(filtered_pi.select('flightkey', 'charge_dt', 'price'), on=['flightkey', 'charge_dt'], how='left')\n",
    "window_spec = Window.partitionBy('flightkey').orderBy('charge_dt').rowsBetween(Window.unboundedPreceding, Window.currentRow)\n",
    "final_pi = filled_pi.withColumn('price', F.last('price', ignorenulls=True).over(window_spec))\n",
    "final_pi = final_pi.join(dmh, on='flightkey', how='inner')\n",
    "price_history = final_pi.groupby('charge_dt', 'flight_dt').agg(F.avg('price').cast('double').alias('price'))\n",
    "\n",
    "rts_master = spark.read.table('data_experience_commercial.cbt_1423_rtsuite.master').select('charge_dt', 'dtg', 'chargeproduct', 'unt_pre', 'flightkey', 'rev_pre', 'unt_net')\n",
    "df = rts_master.join(dmh, on='flightkey', how='inner')\n",
    "df = df.filter((F.col('chargeproduct') == 'Ticket') & (F.col('dtg') >= 0) & (F.col('dtg') <= 364) & (F.col('charge_dt') >= '2021-01-01') & (F.col('routetype') == 'Domestic') & (F.col('region').isin(['UK-London','UK-Regions'])) & (F.col('dtg') < (F.datediff(F.col('flight_dt'), F.col('onsale_dt')) - 25)))\n",
    "\n",
    "window_spec2 = Window.partitionBy('flightkey').orderBy(F.col('dtg').desc())\n",
    "df = df.withColumn('pax_net', F.sum('unt_net').over(window_spec2)).withColumn('load_factor', F.col('pax_net') / F.col('ty_capacity')).withColumn('unt_pre', F.when(F.col('unt_pre') < 0, 0).otherwise(F.col('unt_pre'))).withColumn('rev_pre', F.when(F.col('rev_pre') < 0, 0).otherwise(F.col('rev_pre'))).withColumn('yield', F.when(F.col('unt_pre') == 0, 0).otherwise(F.col('rev_pre') / F.col('unt_pre')))\n",
    "\n",
    "df = df.groupby('charge_dt', 'flight_dt').agg(F.first('dtg').alias('dtg'), F.sum('unt_pre').alias('unt_pre'), F.sum('ty_capacity').alias('ty_capacity'), F.avg('load_factor').alias('load_factor'), F.avg('yield').alias('yield'))\n",
    "\n",
    "df = df.join(price_history, on=['charge_dt', 'flight_dt'], how='left').toPandas()\n",
    "\n",
    "df.info()\n",
    "df_orginal = df.copy()"
   ]
  },
  {
   "cell_type": "code",
   "execution_count": 0,
   "metadata": {
    "application/vnd.databricks.v1+cell": {
     "cellMetadata": {
      "byteLimit": 2048000,
      "rowLimit": 10000
     },
     "inputWidgets": {},
     "nuid": "36f0cc4e-ab80-46fe-9203-25bbf91ace00",
     "showTitle": false,
     "tableResultSettingsMap": {},
     "title": ""
    }
   },
   "outputs": [],
   "source": [
    "# Data Optimisation\n",
    "\n",
    "def optimize_df(df):\n",
    "\n",
    "    start_mem = df.memory_usage(deep=True).sum() / 1024**2\n",
    "    print(f\"Initial memory usage: {start_mem:.2f} MB\")\n",
    "\n",
    "    for col in df.columns:\n",
    "\n",
    "        if '_dt' in col:\n",
    "            df[col] = pd.to_datetime(df[col])\n",
    "\n",
    "        elif df[col].dtype == 'object':\n",
    "            df[col] = df[col].astype('category')\n",
    "\n",
    "        elif 'float' in str(df[col].dtype):\n",
    "            df[col] = df[col].astype(np.float16)\n",
    "            \n",
    "        elif 'int' in str(df[col].dtype):\n",
    "            df[col] = pd.to_numeric(df[col], downcast='integer')\n",
    "\n",
    "    end_mem = df.memory_usage(deep=True).sum() / 1024**2\n",
    "    reduction = 100 * (start_mem - end_mem) / start_mem\n",
    "    print(f\"Final memory usage: {end_mem:.2f} MB ({reduction:.2f}% reduction)\")\n",
    "\n",
    "    return df\n",
    "\n",
    "optimize_df(df)\n",
    "df.info()"
   ]
  },
  {
   "cell_type": "code",
   "execution_count": 0,
   "metadata": {
    "application/vnd.databricks.v1+cell": {
     "cellMetadata": {
      "byteLimit": 2048000,
      "rowLimit": 10000
     },
     "inputWidgets": {},
     "nuid": "a9b82531-6c30-4ab8-8257-adfe7f41b631",
     "showTitle": false,
     "tableResultSettingsMap": {},
     "title": ""
    }
   },
   "outputs": [],
   "source": [
    "# Hierarchy Diagram\n",
    "\n",
    "layers = ['Network', 'Region', 'Region - RouteType', 'Route']\n",
    "fig, ax = plt.subplots(figsize=(8, 12))\n",
    "\n",
    "for i, layer in enumerate(layers):\n",
    "    ax.text(0.5, (0.8 - i * 0.2), layer, fontsize=18, ha='center', va='center', bbox={'boxstyle':'square,pad=0.5', 'facecolor':'white', 'edgecolor':'black'})\n",
    "    ax.plot([0.5, 0.5], [(0.75 - i * 0.2), (0.65 - i * 0.2)])\n",
    "\n",
    "ax.axis('off')\n",
    "ax.set_ylim(0, 1)\n",
    "ax.set_xlim(0, 1)\n",
    "\n",
    "plt.show()"
   ]
  },
  {
   "cell_type": "code",
   "execution_count": 0,
   "metadata": {
    "application/vnd.databricks.v1+cell": {
     "cellMetadata": {
      "byteLimit": 2048000,
      "rowLimit": 10000
     },
     "inputWidgets": {},
     "nuid": "130e08a0-96ea-4a54-bc26-4ef5a021296b",
     "showTitle": false,
     "tableResultSettingsMap": {},
     "title": ""
    }
   },
   "outputs": [],
   "source": [
    "#Sales Over Charge Date\n",
    "\n",
    "total_sales = df.groupby('charge_dt')['unt_pre'].sum().reset_index()\n",
    "plt.style.use('ggplot')\n",
    "total_sales.plot(style='-', figsize=(20,5), title = 'sales by charge date', y='unt_pre', x='charge_dt')\n",
    "plt.show()"
   ]
  },
  {
   "cell_type": "code",
   "execution_count": 0,
   "metadata": {
    "application/vnd.databricks.v1+cell": {
     "cellMetadata": {
      "byteLimit": 2048000,
      "rowLimit": 10000
     },
     "inputWidgets": {},
     "nuid": "49a916c1-99ba-4b28-a259-577cd2c6f4e9",
     "showTitle": false,
     "tableResultSettingsMap": {},
     "title": ""
    }
   },
   "outputs": [],
   "source": [
    "# Removing covid-19 outlier data before 2022. Keeping Dec 2021 for now to generate lag features.\n",
    "\n",
    "df = df[df['charge_dt'] >= '2021-10-01']\n",
    "total_sales_by_charge_dt = df.groupby('charge_dt')['unt_pre'].sum().reset_index()\n",
    "plt.style.use('ggplot')\n",
    "total_sales_by_charge_dt.plot(style='-', figsize=(20,5), title = 'sales by charge date', y='unt_pre', x='charge_dt')\n",
    "plt.show()"
   ]
  },
  {
   "cell_type": "code",
   "execution_count": 0,
   "metadata": {
    "application/vnd.databricks.v1+cell": {
     "cellMetadata": {
      "byteLimit": 2048000,
      "rowLimit": 10000
     },
     "inputWidgets": {},
     "nuid": "33c05d07-22d4-4ea3-b418-4d83ce89133e",
     "showTitle": false,
     "tableResultSettingsMap": {},
     "title": ""
    }
   },
   "outputs": [],
   "source": [
    "total_sales_by_flight_dt = df.groupby('flight_dt')['unt_pre'].sum().reset_index()\n",
    "plt.style.use('ggplot')\n",
    "total_sales_by_flight_dt.plot(style='-', figsize=(20,5), title = 'sales by flight date', y='unt_pre', x='flight_dt')\n",
    "plt.show()"
   ]
  },
  {
   "cell_type": "code",
   "execution_count": 0,
   "metadata": {
    "application/vnd.databricks.v1+cell": {
     "cellMetadata": {
      "byteLimit": 2048000,
      "rowLimit": 10000
     },
     "inputWidgets": {},
     "nuid": "31e96c83-5777-4d7b-a2d7-c7e5d9776ddc",
     "showTitle": false,
     "tableResultSettingsMap": {},
     "title": ""
    }
   },
   "outputs": [],
   "source": [
    "sales_by_routetype = df.groupby(['charge_dt', 'routetype'])['unt_pre'].mean().reset_index()\n",
    "fig, ax = plt.subplots(figsize=(20,5))\n",
    "for routetype in sales_by_routetype['routetype'].unique():\n",
    "    subset = sales_by_routetype[sales_by_routetype['routetype'] == routetype]\n",
    "    ax.plot(subset['charge_dt'], subset['unt_pre'], label=routetype)\n",
    "plt.title('Sales by routetype')\n",
    "plt.xlabel('Charge Date')\n",
    "plt.ylabel('Sales')\n",
    "plt.legend()\n",
    "plt.show()"
   ]
  },
  {
   "cell_type": "code",
   "execution_count": 0,
   "metadata": {
    "application/vnd.databricks.v1+cell": {
     "cellMetadata": {
      "byteLimit": 2048000,
      "rowLimit": 10000
     },
     "inputWidgets": {},
     "nuid": "5b626674-56df-4a57-ad7e-959363d3a4cc",
     "showTitle": false,
     "tableResultSettingsMap": {},
     "title": ""
    }
   },
   "outputs": [],
   "source": [
    "df = df[df['routetype'] != 'Charter']\n",
    "df['routetype'] = df['routetype'].cat.remove_unused_categories()"
   ]
  },
  {
   "cell_type": "code",
   "execution_count": 0,
   "metadata": {
    "application/vnd.databricks.v1+cell": {
     "cellMetadata": {
      "byteLimit": 2048000,
      "rowLimit": 10000
     },
     "inputWidgets": {},
     "nuid": "c04dc715-59c0-41b4-9233-7551663bd86e",
     "showTitle": false,
     "tableResultSettingsMap": {},
     "title": ""
    }
   },
   "outputs": [],
   "source": [
    "# Typical Booking Curve\n",
    "\n",
    "total_sales_by_dtg = df.groupby('dtg')['unt_pre'].sum().reset_index()\n",
    "plt.style.use('ggplot')\n",
    "total_sales_by_dtg.plot(style='-', figsize=(20,5), title = 'sales by dtg since 2022', y='unt_pre', x='dtg')\n",
    "plt.show()"
   ]
  },
  {
   "cell_type": "code",
   "execution_count": 0,
   "metadata": {
    "application/vnd.databricks.v1+cell": {
     "cellMetadata": {
      "byteLimit": 2048000,
      "rowLimit": 10000
     },
     "inputWidgets": {},
     "nuid": "b3ac5656-d86f-41d9-a835-7fb38ec131cf",
     "showTitle": false,
     "tableResultSettingsMap": {},
     "title": ""
    }
   },
   "outputs": [],
   "source": [
    "total_sales_by_log_dtg = df.groupby('dtg')['unt_pre'].sum().reset_index()\n",
    "total_sales_by_log_dtg['log_dtg'] = np.log(total_sales_by_log_dtg['dtg'])\n",
    "plt.style.use('ggplot')\n",
    "total_sales_by_log_dtg.plot(style='-', figsize=(20,5), title = 'sales by dtg since 2022', y='unt_pre', x='log_dtg')\n",
    "plt.show()"
   ]
  },
  {
   "cell_type": "code",
   "execution_count": 0,
   "metadata": {
    "application/vnd.databricks.v1+cell": {
     "cellMetadata": {
      "byteLimit": 2048000,
      "rowLimit": 10000
     },
     "inputWidgets": {},
     "nuid": "25deb798-ce28-4204-a9d8-59d04c270f69",
     "showTitle": false,
     "tableResultSettingsMap": {},
     "title": ""
    }
   },
   "outputs": [],
   "source": [
    "# Booking Curve Over Time\n",
    "\n",
    "df_dynamic_plot = df.reset_index()\n",
    "df_dynamic_plot['charge_dt'] = df_dynamic_plot['charge_dt'].astype(str)\n",
    "df_dynamic_plot = df_dynamic_plot.groupby(['dtg', 'charge_dt'])['unt_pre'].sum().reset_index()\n",
    "fig = px.line(df_dynamic_plot, x='dtg', y='unt_pre', animation_frame='charge_dt', title='Sales by DTG with charge date variations')\n",
    "fig.update_layout(xaxis_title='Days To Go', yaxis_title='Sales', legend_title='Charge Date', height=900, width=1400)\n",
    "\n",
    "fig.show()"
   ]
  },
  {
   "cell_type": "code",
   "execution_count": 0,
   "metadata": {
    "application/vnd.databricks.v1+cell": {
     "cellMetadata": {
      "byteLimit": 2048000,
      "rowLimit": 10000
     },
     "inputWidgets": {},
     "nuid": "26d3a2ed-3557-473b-9f08-807db804d9f9",
     "showTitle": false,
     "tableResultSettingsMap": {},
     "title": ""
    }
   },
   "outputs": [],
   "source": [
    "#ACF charge-date\n",
    "df_ACF = df.groupby('charge_dt')['unt_pre'].sum()\n",
    "fig, (ax1, ax2) = plt.subplots(2, 1, figsize=(18, 8))\n",
    "\n",
    "plot_acf(df_ACF, ax=ax1, lags=56)\n",
    "ax1.set_title('Autocorrelation Function (ACF)')\n",
    "\n",
    "plot_pacf(df_ACF, ax=ax2, lags=56, method='ywm') \n",
    "ax2.set_title('Partial Autocorrelation Function (PACF)')\n",
    "\n",
    "plt.tight_layout()\n",
    "plt.show()"
   ]
  },
  {
   "cell_type": "code",
   "execution_count": 0,
   "metadata": {
    "application/vnd.databricks.v1+cell": {
     "cellMetadata": {
      "byteLimit": 2048000,
      "rowLimit": 10000
     },
     "inputWidgets": {},
     "nuid": "43e7e1db-b78c-4d20-9b05-f91b52da3a20",
     "showTitle": false,
     "tableResultSettingsMap": {},
     "title": ""
    }
   },
   "outputs": [],
   "source": [
    "#ACF flight-date\n",
    "df_ACF = df.groupby('flight_dt')['unt_pre'].sum()\n",
    "fig, (ax1, ax2) = plt.subplots(2, 1, figsize=(18, 8))\n",
    "\n",
    "plot_acf(df_ACF, ax=ax1, lags=56)\n",
    "ax1.set_title('Autocorrelation Function (ACF)')\n",
    "\n",
    "plot_pacf(df_ACF, ax=ax2, lags=56, method='ywm') \n",
    "ax2.set_title('Partial Autocorrelation Function (PACF)')\n",
    "\n",
    "plt.tight_layout()\n",
    "plt.show()"
   ]
  },
  {
   "cell_type": "code",
   "execution_count": 0,
   "metadata": {
    "application/vnd.databricks.v1+cell": {
     "cellMetadata": {
      "byteLimit": 2048000,
      "rowLimit": 10000
     },
     "inputWidgets": {},
     "nuid": "3136be56-03e4-4828-a593-ed04e7681937",
     "showTitle": false,
     "tableResultSettingsMap": {},
     "title": ""
    }
   },
   "outputs": [],
   "source": [
    "df = df_orginal.copy()\n",
    "df = optimize_df(df)\n",
    "df = df[df['charge_dt'] >= '2021-10-01']"
   ]
  },
  {
   "cell_type": "code",
   "execution_count": 0,
   "metadata": {
    "application/vnd.databricks.v1+cell": {
     "cellMetadata": {
      "byteLimit": 2048000,
      "rowLimit": 10000
     },
     "inputWidgets": {},
     "nuid": "d8f800fe-a692-4e24-a300-7d4dcd79949f",
     "showTitle": false,
     "tableResultSettingsMap": {},
     "title": ""
    }
   },
   "outputs": [],
   "source": [
    "def generate_lag_features(df, charge_lags, flight_lags):\n",
    "\n",
    "    df['charge_dt'] = pd.to_datetime(df['charge_dt'])\n",
    "    df['flight_dt'] = pd.to_datetime(df['flight_dt'])\n",
    "    df_source = df.copy()\n",
    "\n",
    "    for c_lag in charge_lags:\n",
    "        for f_lag in flight_lags:\n",
    "            f_lag_str = str(f_lag)\n",
    "            feature_col_name = f'C{c_lag}F{f_lag_str}'\n",
    "            \n",
    "            df_temp = df_source.copy()\n",
    "            df_temp['merge_key_charge_dt'] = df_temp['charge_dt'] + timedelta(days=c_lag)\n",
    "            df_temp['merge_key_flight_dt'] = df_temp['flight_dt'] - timedelta(days=f_lag)\n",
    "            df_temp = df_temp.rename(columns={'unt_pre': feature_col_name})\n",
    "            df = pd.merge(df, df_temp[['merge_key_charge_dt', 'merge_key_flight_dt', feature_col_name]], left_on=['charge_dt', 'flight_dt'], right_on=['merge_key_charge_dt', 'merge_key_flight_dt'], how='left')\n",
    "            df = df.drop(columns=['merge_key_charge_dt', 'merge_key_flight_dt'])\n",
    "            df.fillna(-1, inplace=True)\n",
    "\n",
    "    return df\n",
    "\n",
    "flight_lags = [-28, -21, -14, -7, 0, 7, 14, 21, 28] \n",
    "charge_lags = [7, 14, 21, 28] \n",
    "df = generate_lag_features(df, charge_lags, flight_lags)\n",
    "df.info()\n"
   ]
  },
  {
   "cell_type": "code",
   "execution_count": 0,
   "metadata": {
    "application/vnd.databricks.v1+cell": {
     "cellMetadata": {
      "byteLimit": 2048000,
      "rowLimit": 10000
     },
     "inputWidgets": {},
     "nuid": "3ebb3d35-dc6b-43ee-b32e-b47785f88e2d",
     "showTitle": false,
     "tableResultSettingsMap": {},
     "title": ""
    }
   },
   "outputs": [],
   "source": [
    "df = df[df['charge_dt'] >= '2022-01-01']\n",
    "optimize_df(df)"
   ]
  },
  {
   "cell_type": "code",
   "execution_count": 0,
   "metadata": {
    "application/vnd.databricks.v1+cell": {
     "cellMetadata": {
      "byteLimit": 2048000,
      "rowLimit": 10000
     },
     "inputWidgets": {},
     "nuid": "b20079a0-6943-4e77-beae-10ba641f5195",
     "showTitle": false,
     "tableResultSettingsMap": {},
     "title": ""
    }
   },
   "outputs": [],
   "source": [
    "import re\n",
    "feature_cols = [col for col in df.columns if col.startswith('C')]\n",
    "target_col = 'unt_pre'\n",
    "\n",
    "unique_feature_cols = list(set(feature_cols))\n",
    "all_cols_for_corr = [target_col] + unique_feature_cols\n",
    "corr_matrix = df[all_cols_for_corr].dropna().corr()\n",
    "target_corrs = corr_matrix[[target_col]].drop(target_col)\n",
    "target_corrs = target_corrs.reset_index().rename(columns={'index': 'feature', target_col: 'correlation'})\n",
    "\n",
    "def parse_lags(feature_name):\n",
    "    match = re.match(r'C(\\d+)F(-?\\d+)', feature_name)\n",
    "    if match:\n",
    "        c_lag = int(match.group(1))\n",
    "        f_lag = int(match.group(2))\n",
    "        return c_lag, f_lag\n",
    "    return None, None\n",
    "\n",
    "target_corrs[['charge_lag', 'flight_lag']] = target_corrs['feature'].apply(lambda x: pd.Series(parse_lags(x)))\n",
    "\n",
    "target_corrs = target_corrs.drop_duplicates(subset=['feature'])\n",
    "corr_pivot = target_corrs.pivot(index='charge_lag', columns='flight_lag', values='correlation')\n",
    "corr_pivot = corr_pivot.sort_index().sort_index(axis=1)\n",
    "plt.figure(figsize=(16, 12))\n",
    "sns.heatmap(corr_pivot,annot=True,fmt=\".2f\",cmap='viridis',cbar=True,linewidths=.1)\n",
    "plt.title('Correlation of Lag Features with Target (\"unt_pre\")')\n",
    "plt.xlabel(\"Flight Date Lag (days)\")\n",
    "plt.ylabel(\"Charge Date Lag (days)\")\n",
    "plt.tight_layout()\n",
    "plt.show()"
   ]
  },
  {
   "cell_type": "code",
   "execution_count": 0,
   "metadata": {
    "application/vnd.databricks.v1+cell": {
     "cellMetadata": {
      "byteLimit": 2048000,
      "rowLimit": 10000
     },
     "inputWidgets": {},
     "nuid": "4f23e830-a3b4-4d1d-93f6-f2814f9fa71f",
     "showTitle": false,
     "tableResultSettingsMap": {},
     "title": ""
    }
   },
   "outputs": [],
   "source": [
    "# Seasonality Analysis\n",
    "\n",
    "def create_features(df):\n",
    "    df['flight_dt'] = pd.to_datetime(df['charge_dt'] + pd.to_timedelta(df['dtg'], unit='D'))\n",
    "    df['charge_dt'] = pd.to_datetime(df['charge_dt'])\n",
    "    df['flight_month'] = df['flight_dt'].dt.month.astype(int)\n",
    "    df['flight_dow'] = df['flight_dt'].dt.dayofweek.astype(int)\n",
    "    df['flight_dom'] = df['flight_dt'].dt.day.astype(int)\n",
    "    df['flight_doy'] = df['flight_dt'].dt.dayofyear.astype(int)\n",
    "    df['flight_year'] = df['flight_dt'].dt.year.astype(int)\n",
    "    df['charge_month'] = df['charge_dt'].dt.month.astype(int)\n",
    "    df['charge_dow'] = df['charge_dt'].dt.dayofweek.astype(int)\n",
    "    df['charge_dom'] = df['charge_dt'].dt.day.astype(int)\n",
    "    df['charge_doy'] = df['charge_dt'].dt.dayofyear.astype(int)\n",
    "    df['charge_year'] = df['charge_dt'].dt.year.astype(int)\n",
    "    df['day_number'] = (df['charge_dt'] - pd.to_datetime('2022-01-01')).dt.days.astype(int)\n",
    "\n",
    "create_features(df)\n",
    "df.tail()"
   ]
  },
  {
   "cell_type": "code",
   "execution_count": 0,
   "metadata": {
    "application/vnd.databricks.v1+cell": {
     "cellMetadata": {
      "byteLimit": 2048000,
      "rowLimit": 10000
     },
     "inputWidgets": {},
     "nuid": "72ad0dd8-948d-46fe-b277-50eea50088f9",
     "showTitle": false,
     "tableResultSettingsMap": {},
     "title": ""
    }
   },
   "outputs": [],
   "source": [
    "optimize_df(df)\n",
    "df.info()"
   ]
  },
  {
   "cell_type": "code",
   "execution_count": 0,
   "metadata": {
    "application/vnd.databricks.v1+cell": {
     "cellMetadata": {
      "byteLimit": 2048000,
      "rowLimit": 10000
     },
     "inputWidgets": {},
     "nuid": "95a1bbd2-b12e-4540-87b0-98e548329f24",
     "showTitle": false,
     "tableResultSettingsMap": {},
     "title": ""
    }
   },
   "outputs": [],
   "source": [
    "# Flight Month vs Charge Month\n",
    "\n",
    "df_melt = df.melt(id_vars='unt_pre', value_vars=['flight_month', 'charge_month'], var_name='month_type', value_name='month')\n",
    "mean_sales = df_melt.groupby(['month', 'month_type'])['unt_pre'].sum().reset_index()\n",
    "\n",
    "plt.figure(figsize=(20, 8))\n",
    "sns.barplot(data=mean_sales, x='month', y='unt_pre', hue='month_type')\n",
    "plt.style.use('ggplot')\n",
    "plt.title('Historic Sales by Month since 2022')\n",
    "plt.xlabel('Month')\n",
    "plt.ylabel('Total Sales')\n",
    "plt.show()"
   ]
  },
  {
   "cell_type": "code",
   "execution_count": 0,
   "metadata": {
    "application/vnd.databricks.v1+cell": {
     "cellMetadata": {
      "byteLimit": 2048000,
      "rowLimit": 10000
     },
     "inputWidgets": {},
     "nuid": "4a0c9eb6-c222-4346-a611-dd1ed6cdabf6",
     "showTitle": false,
     "tableResultSettingsMap": {},
     "title": ""
    }
   },
   "outputs": [],
   "source": [
    "# Flight DoW vs Charge DoW\n",
    "\n",
    "df_melt = df.melt(id_vars='unt_pre', value_vars=['flight_dow', 'charge_dow'], var_name='dow_type', value_name='dow')\n",
    "mean_sales = df_melt.groupby(['dow', 'dow_type'])['unt_pre'].sum().reset_index()\n",
    "plt.figure(figsize=(15, 8))\n",
    "sns.barplot(data=mean_sales, x='dow', y='unt_pre', hue='dow_type')\n",
    "plt.style.use('ggplot')\n",
    "plt.title('Historic Sales by DoW since 2022')\n",
    "plt.xlabel('DoW')\n",
    "plt.ylabel('Total Sales')\n",
    "display(plt.show())"
   ]
  },
  {
   "cell_type": "code",
   "execution_count": 0,
   "metadata": {
    "application/vnd.databricks.v1+cell": {
     "cellMetadata": {
      "byteLimit": 2048000,
      "rowLimit": 10000
     },
     "inputWidgets": {},
     "nuid": "9a1b07e5-a271-4c24-9093-d374268dc7f8",
     "showTitle": false,
     "tableResultSettingsMap": {},
     "title": ""
    }
   },
   "outputs": [],
   "source": [
    "# Weekly Seasonality\n",
    "\n",
    "df[(df['charge_dt'] > '2024-01-01') & (df['charge_dt'] < '2024-01-31')].groupby('charge_dt')['unt_pre'].sum().plot(figsize=(20,5), title = 'sales by charge date (Jan24)', y='unt_pre', linewidth=10)\n",
    "plt.style.use('ggplot')\n",
    "plt.show()"
   ]
  },
  {
   "cell_type": "code",
   "execution_count": 0,
   "metadata": {
    "application/vnd.databricks.v1+cell": {
     "cellMetadata": {
      "byteLimit": 2048000,
      "rowLimit": 10000
     },
     "inputWidgets": {},
     "nuid": "1b939ae4-ac68-49b0-8ffd-959811383a64",
     "showTitle": false,
     "tableResultSettingsMap": {},
     "title": ""
    }
   },
   "outputs": [],
   "source": [
    "# DoM Yield vs Sales\n",
    "\n",
    "yield_vs_slaes = df[(df['charge_month'] != 12) & (df['charge_month'] != 3) & (df['charge_month'] != 4) & ((df['charge_month'] != 1))]\n",
    "\n",
    "mean_sales = yield_vs_slaes.groupby('charge_dom')['unt_pre'].mean().reset_index()\n",
    "mean_yield = yield_vs_slaes.groupby('charge_dom')['yield'].mean().reset_index()\n",
    "\n",
    "fig, ax1 = plt.subplots(figsize=(15, 8))\n",
    "plt.style.use('ggplot')\n",
    "\n",
    "ax1.plot(mean_sales['charge_dom'], mean_sales['unt_pre'], marker='o', linewidth=12, color='tab:red', label='Mean Sales')\n",
    "ax1.set_xlabel('Charge Day of Month')\n",
    "ax1.set_ylabel('Mean Sales', color='tab:red')\n",
    "ax1.tick_params(axis='y', labelcolor='tab:red')\n",
    "\n",
    "ax2 = ax1.twinx()\n",
    "ax2.plot(mean_yield['charge_dom'], mean_yield['yield'], marker='s', linewidth=12, color='tab:blue', label='Mean Yield')\n",
    "ax2.set_ylabel('Mean Yield', color='tab:blue')\n",
    "ax2.tick_params(axis='y', labelcolor='tab:blue')\n",
    "\n",
    "fig.suptitle('Mean Sales and Yield by Charge Day of Month (2022 - ToDate)')\n",
    "fig.legend(loc='upper right', bbox_to_anchor=(0.9, 0.9))\n",
    "plt.tight_layout()\n",
    "plt.show()"
   ]
  },
  {
   "cell_type": "code",
   "execution_count": 0,
   "metadata": {
    "application/vnd.databricks.v1+cell": {
     "cellMetadata": {
      "byteLimit": 2048000,
      "rowLimit": 10000
     },
     "inputWidgets": {},
     "nuid": "1bb96211-9a27-46ee-b8ea-60604111a2a1",
     "showTitle": false,
     "tableResultSettingsMap": {},
     "title": ""
    }
   },
   "outputs": [],
   "source": [
    "# DoM Price vs Sales\n",
    "\n",
    "price_vs_slaes = df[(df['charge_month'] != 12) & (df['charge_month'] != 3) & (df['charge_month'] != 4) & ((df['charge_month'] != 1))]\n",
    "\n",
    "mean_sales = price_vs_slaes.groupby('charge_dom')['unt_pre'].mean().reset_index()\n",
    "mean_price = price_vs_slaes.groupby('charge_dom')['price'].mean().reset_index()\n",
    "\n",
    "fig, ax1 = plt.subplots(figsize=(15, 8))\n",
    "plt.style.use('ggplot')\n",
    "\n",
    "ax1.plot(mean_sales['charge_dom'], mean_sales['unt_pre'], marker='o', linewidth=12, color='tab:red', label='Mean Sales')\n",
    "ax1.set_xlabel('Charge Day of Month')\n",
    "ax1.set_ylabel('Mean Sales', color='tab:red')\n",
    "ax1.tick_params(axis='y', labelcolor='tab:red')\n",
    "\n",
    "ax2 = ax1.twinx()\n",
    "ax2.plot(mean_price['charge_dom'], mean_price['price'], marker='s', linewidth=12, color='tab:blue', label='Mean Price')\n",
    "ax2.set_ylabel('Mean Price', color='tab:blue')\n",
    "ax2.tick_params(axis='y', labelcolor='tab:blue')\n",
    "\n",
    "fig.suptitle('Mean Sales and Price by Charge Day of Month (2022 - ToDate)')\n",
    "fig.legend(loc='upper right', bbox_to_anchor=(0.9, 0.9))\n",
    "plt.tight_layout()\n",
    "plt.show()"
   ]
  },
  {
   "cell_type": "code",
   "execution_count": 0,
   "metadata": {
    "application/vnd.databricks.v1+cell": {
     "cellMetadata": {
      "byteLimit": 2048000,
      "rowLimit": 10000
     },
     "inputWidgets": {},
     "nuid": "f5bc7276-f672-42b5-bb03-0280e6becff3",
     "showTitle": false,
     "tableResultSettingsMap": {},
     "title": ""
    }
   },
   "outputs": [],
   "source": [
    "# Holiday Features\n",
    "\n",
    "uk_holidays = holidays.UK(years=range(2022, 2026))\n",
    "holidays_df = pd.DataFrame([(date, name) for date, name in uk_holidays.items()], columns=['ds', 'holiday'])\n",
    "holidays_df.sort_values(by='ds', inplace=True)\n",
    "holidays_df"
   ]
  },
  {
   "cell_type": "code",
   "execution_count": 0,
   "metadata": {
    "application/vnd.databricks.v1+cell": {
     "cellMetadata": {
      "byteLimit": 2048000,
      "rowLimit": 10000
     },
     "inputWidgets": {},
     "nuid": "e81336b4-d197-41cd-9e5b-aca123500382",
     "showTitle": false,
     "tableResultSettingsMap": {},
     "title": ""
    }
   },
   "outputs": [],
   "source": [
    "additional_holidays = pd.DataFrame([\n",
    "    {'ds': '2022-04-18', 'holiday': 'Easter Monday'},\n",
    "    {'ds': '2022-08-29', 'holiday': 'Summer Bank Holiday'},\n",
    "    {'ds': '2023-04-10', 'holiday': 'Easter Monday'},\n",
    "    {'ds': '2023-08-28', 'holiday': 'Summer Bank Holiday'},\n",
    "    {'ds': '2024-04-01', 'holiday': 'Easter Monday'},\n",
    "    {'ds': '2024-08-26', 'holiday': 'Summer Bank Holiday'},\n",
    "    {'ds': '2025-04-21', 'holiday': 'Easter Monday'},\n",
    "    {'ds': '2025-08-25', 'holiday': 'Summer Bank Holiday'},\n",
    "])\n",
    "holidays_df = pd.concat([holidays_df, additional_holidays], ignore_index=True)\n",
    "holidays_df.drop_duplicates(inplace=True)\n",
    "holidays_df['ds'] = pd.to_datetime(holidays_df['ds'])\n",
    "holidays_df.sort_values(by='ds', inplace=True)\n",
    "holidays_df.reset_index(drop=True, inplace=True)\n",
    "holidays_df\n",
    "   "
   ]
  },
  {
   "cell_type": "code",
   "execution_count": 0,
   "metadata": {
    "application/vnd.databricks.v1+cell": {
     "cellMetadata": {
      "byteLimit": 2048000,
      "rowLimit": 10000
     },
     "inputWidgets": {},
     "nuid": "1d1be869-8f30-48c2-ab6a-0e2015be9d14",
     "showTitle": false,
     "tableResultSettingsMap": {},
     "title": ""
    }
   },
   "outputs": [],
   "source": [
    "holidays_df[\"ds\"] = pd.to_datetime(holidays_df[\"ds\"])\n",
    "df = df.merge(holidays_df.rename(columns={'ds': 'charge_dt', 'holiday': 'charge_dt_holiday'}), how='left', on='charge_dt')\n",
    "df = df.merge(holidays_df.rename(columns={'ds': 'flight_dt', 'holiday': 'flight_dt_holiday'}), how='left', on='flight_dt')\n",
    "df['is_charge_date_holiday'] = df['charge_dt_holiday'].notnull().astype(int)\n",
    "df['is_flight_date_holiday'] = df['flight_dt_holiday'].notnull().astype(int)\n",
    "df.drop(['charge_dt_holiday', 'flight_dt_holiday'], axis=1, inplace=True)\n",
    "df = df.sort_values(by=['charge_dt', 'dtg'], ascending=[True, True])\n",
    "df.set_index('charge_dt', inplace=True)\n",
    "df.head()"
   ]
  },
  {
   "cell_type": "code",
   "execution_count": 0,
   "metadata": {
    "application/vnd.databricks.v1+cell": {
     "cellMetadata": {
      "byteLimit": 2048000,
      "rowLimit": 10000
     },
     "inputWidgets": {},
     "nuid": "502d6351-f978-4059-8e05-2d3cf9c7e8a8",
     "showTitle": false,
     "tableResultSettingsMap": {},
     "title": ""
    }
   },
   "outputs": [],
   "source": [
    "optimize_df(df)"
   ]
  },
  {
   "cell_type": "code",
   "execution_count": 0,
   "metadata": {
    "application/vnd.databricks.v1+cell": {
     "cellMetadata": {
      "byteLimit": 2048000,
      "rowLimit": 10000
     },
     "inputWidgets": {},
     "nuid": "fb671724-28df-4469-a596-3e62c8ce119c",
     "showTitle": false,
     "tableResultSettingsMap": {},
     "title": ""
    }
   },
   "outputs": [],
   "source": [
    "index_cols = ['charge_dt', 'flight_dt']\n",
    "cyclic_cols=['flight_dom', 'flight_doy', 'charge_dom', 'charge_doy', 'flight_month', 'charge_month', 'flight_dow', 'charge_dow']\n",
    "normal_num_cols=['ty_capacity', 'C7F-28', 'C7F-21', 'C7F-14', 'C7F-7', 'C7F0', 'C7F7', 'C7F14', 'C7F21', 'C7F28', 'C14F-28', 'C14F-21', 'C14F-14', 'C14F-7', 'C14F0', 'C14F7', 'C14F14', 'C14F21', 'C14F28', 'C21F-28', 'C21F-21', 'C21F-14', 'C21F-7', 'C21F0', 'C21F7', 'C21F14', 'C21F21', 'C21F28', 'C28F-28', 'C28F-21', 'C28F-14', 'C28F-7', 'C28F0', 'C28F7', 'C28F14', 'C28F21', 'C28F28', 'dtg']\n",
    "standard_num_cols=['charge_year','flight_year', 'day_number']\n",
    "df.drop(['load_factor', 'yield', 'price'], axis=1, inplace=True)\n",
    "df = df.reset_index()\n",
    "original_df = df.copy()\n",
    "\n",
    "def encode_cyclic_features(df, cols):\n",
    "    for col in cols:\n",
    "        df[col] = pd.to_numeric(df[col], errors='coerce')\n",
    "        max_val = df[col].max()\n",
    "        df[col + '_sin'] = (np.sin(2 * np.pi * df[col] / max_val)).astype('float16')\n",
    "        df[col + '_cos'] = (np.cos(2 * np.pi * df[col] / max_val)).astype('float16')\n",
    "        df.drop(col, axis=1, inplace=True)\n",
    "    return df\n",
    "\n",
    "def scale_normal_cols(df, cols):\n",
    "    for col in cols:\n",
    "        scaler = StandardScaler()\n",
    "        df[col] = scaler.fit_transform(df[[col]])\n",
    "    return df\n",
    "\n",
    "def scale_standard_cols(df, cols):\n",
    "    for col in cols:\n",
    "        scaler = MinMaxScaler()\n",
    "        df[col] = scaler.fit_transform(df[[col]])\n",
    "    return df\n",
    "\n",
    "df = encode_cyclic_features(df, cyclic_cols)\n",
    "df = scale_normal_cols(df, normal_num_cols)\n",
    "df = scale_standard_cols(df, standard_num_cols)\n",
    "#df = pd.get_dummies(df, columns=['region', 'routetype'])\n",
    "\n",
    "for col in index_cols:\n",
    "    df[col] = original_df[col]\n",
    "df.set_index(index_cols, inplace=True)\n",
    "\n",
    "df = optimize_df(df)\n",
    "df.head()"
   ]
  },
  {
   "cell_type": "code",
   "execution_count": 0,
   "metadata": {
    "application/vnd.databricks.v1+cell": {
     "cellMetadata": {
      "byteLimit": 2048000,
      "rowLimit": 10000
     },
     "inputWidgets": {},
     "nuid": "c78840db-8db3-43f8-8e22-1d534c350d07",
     "showTitle": false,
     "tableResultSettingsMap": {},
     "title": ""
    }
   },
   "outputs": [],
   "source": [
    "#capacity proportion look-up table for disaggregation \n",
    "'''\n",
    "df_cap = df.reset_index()\n",
    "total_daily_capacity = df_cap.groupby(['charge_dt','dtg'])['ty_capacity'].sum().reset_index().rename(columns={'ty_capacity':'capacity_total'})\n",
    "route_daily_capacity = df_cap[['charge_dt','dtg','route','ty_capacity']]\n",
    "capacity_proportions = route_daily_capacity.merge(total_daily_capacity, on=['charge_dt','dtg'], how='left')\n",
    "capacity_proportions['capacity_proportion'] = capacity_proportions['ty_capacity'] / capacity_proportions['capacity_total']\n",
    "capacity_proportions = capacity_proportions[['dtg','charge_dt','route','capacity_proportion']]\n",
    "optimize_df(capacity_proportions)'''"
   ]
  },
  {
   "cell_type": "code",
   "execution_count": 0,
   "metadata": {
    "application/vnd.databricks.v1+cell": {
     "cellMetadata": {
      "byteLimit": 2048000,
      "rowLimit": 10000
     },
     "inputWidgets": {},
     "nuid": "0dccc808-f99a-4a65-a1fd-5102dd9c2e1c",
     "showTitle": false,
     "tableResultSettingsMap": {},
     "title": ""
    }
   },
   "outputs": [],
   "source": [
    "# SARIMA\n",
    "\n",
    "df_SARIMA = df.copy()\n",
    "df_SARIMA = df_SARIMA.reset_index()\n",
    "df_SARIMA = df_SARIMA.groupby('charge_dt').agg(unt_pre=('unt_pre', 'sum'))\n",
    "auto_model = pm.auto_arima(df_SARIMA['unt_pre'], start_p=1, start_q=1, test='adf', max_p=3, max_q=3, m=7, d=0, seasonal=True, start_P=0, D=None, trace=True, error_action='ignore', suppress_warnings=True, stepwise=True)\n",
    "print(auto_model.summary())"
   ]
  },
  {
   "cell_type": "code",
   "execution_count": 0,
   "metadata": {
    "application/vnd.databricks.v1+cell": {
     "cellMetadata": {
      "byteLimit": 2048000,
      "rowLimit": 10000
     },
     "inputWidgets": {},
     "nuid": "0ccf0b56-9974-44ff-be6e-896627fe8c23",
     "showTitle": false,
     "tableResultSettingsMap": {},
     "title": ""
    }
   },
   "outputs": [],
   "source": [
    "optimize_df(df_SARIMA)"
   ]
  },
  {
   "cell_type": "code",
   "execution_count": 0,
   "metadata": {
    "application/vnd.databricks.v1+cell": {
     "cellMetadata": {
      "byteLimit": 2048000,
      "rowLimit": 10000
     },
     "inputWidgets": {},
     "nuid": "6d1b6d6b-2b56-4d1a-b5b6-b6324172969f",
     "showTitle": false,
     "tableResultSettingsMap": {},
     "title": ""
    }
   },
   "outputs": [],
   "source": [
    "# Sarima Rolling Forecast\n",
    "\n",
    "split_date = pd.to_datetime(spark.sql('SELECT current_date()').collect()[0][0]) - pd.DateOffset(days=168)\n",
    "df_SARIMA_train = df_SARIMA.loc[df_SARIMA.index < split_date]\n",
    "df_SARIMA_test = df_SARIMA.loc[df_SARIMA.index >= split_date]\n",
    "\n",
    "history = list(df_SARIMA_train['unt_pre'])\n",
    "all_predictions = []\n",
    "forecast_horizon = 7\n",
    "\n",
    "for i in range(0, len(df_SARIMA_test), 7):\n",
    "    \n",
    "    SARIMA_model = pm.ARIMA(order=(2,0,2), seasonal_order=(1,0,2,7))\n",
    "    SARIMA_model.fit(history)\n",
    "    \n",
    "    next_forecast = SARIMA_model.predict(n_periods=forecast_horizon)[:7]\n",
    "    all_predictions.extend(next_forecast)\n",
    "    \n",
    "    actuals_for_period = df_SARIMA_test['unt_pre'][i : i + 7]\n",
    "    history.extend(actuals_for_period)\n",
    "\n",
    "\n",
    "final_predictions = all_predictions[:len(df_SARIMA_test)]\n",
    "\n",
    "rmse_SARIMA = np.sqrt(mean_squared_error(df_SARIMA_test['unt_pre'], final_predictions))\n",
    "mae_SARIMA = mean_absolute_error(df_SARIMA_test['unt_pre'], final_predictions)\n",
    "\n",
    "print(f\"RMSE: {rmse_SARIMA:.2f}\")\n",
    "print(f\"MAE: {mae_SARIMA:.2f}\")\n",
    "\n",
    "# Plot the results\n",
    "plt.figure(figsize=(14, 7))\n",
    "plt.plot(df_SARIMA_test.index, df_SARIMA_test['unt_pre'], color='green', label='Actual Test Data')\n",
    "plt.plot(df_SARIMA_test.index, final_predictions, color='red', linestyle='--', label='Rolling Forecast')\n",
    "plt.title('SARIMA Rolling Forecast Backtest')\n",
    "plt.legend()\n",
    "plt.grid(True)\n",
    "plt.show()"
   ]
  },
  {
   "cell_type": "code",
   "execution_count": 0,
   "metadata": {
    "application/vnd.databricks.v1+cell": {
     "cellMetadata": {
      "byteLimit": 2048000,
      "rowLimit": 10000
     },
     "inputWidgets": {},
     "nuid": "cd09a3a1-d574-4b5f-b6cf-7519c58fb8ef",
     "showTitle": false,
     "tableResultSettingsMap": {},
     "title": ""
    }
   },
   "outputs": [],
   "source": [
    "# SARIMAX\n",
    "\n",
    "df_SARIMAX = df.copy()\n",
    "df_SARIMAX = df_SARIMAX.reset_index()\n",
    "df_SARIMAX = df_SARIMAX.groupby('charge_dt')[['unt_pre', 'ty_capacity', 'unt_pre_lag7', 'unt_pre_lag14', 'unt_pre_lag21', 'unt_pre_lag28']].sum()\n",
    "df_SARIMAX = df_SARIMAX.set_index('charge_dt')\n",
    "\n",
    "y_SARIMAX = df_SARIMAX[['unt_pre']]\n",
    "X_SARIMAX = df_SARIMAX.drop('unt_pre', axis=1)\n",
    "\n",
    "split_date = pd.to_datetime(spark.sql('SELECT current_date()').collect()[0][0]) - pd.DateOffset(days=168)\n",
    "X_SARIMAX_train = X_SARIMAX.loc[X_SARIMAX.index < split_date]\n",
    "X_SARIMAX_test = X_SARIMAX.loc[X_SARIMAX.index >= split_date]\n",
    "y_SARIMAX_train = y_SARIMAX.loc[y_SARIMAX.index < split_date]\n",
    "y_SARIMAX_test = y_SARIMAX.loc[y_SARIMAX.index >= split_date]\n",
    "SARIMAX_model = pm.auto_arima(y_SARIMAX_train, X=X_SARIMAX_train, seasonal=True,trace=True, start_p=1, start_q=1, test='adf', max_p=3, max_q=3, m=7, d=0, start_P=0, D=None, error_action='ignore', suppress_warnings=True, stepwise=True)\n",
    "predictions = SARIMAX_model.predict(n_periods=len(y_SARIMAX_test), X=X_SARIMAX_test)\n",
    "\n",
    "print(SARIMAX_model.summary())"
   ]
  },
  {
   "cell_type": "code",
   "execution_count": 0,
   "metadata": {
    "application/vnd.databricks.v1+cell": {
     "cellMetadata": {
      "byteLimit": 2048000,
      "rowLimit": 10000
     },
     "inputWidgets": {},
     "nuid": "a715f348-b262-402a-a9a2-584afa817f26",
     "showTitle": false,
     "tableResultSettingsMap": {},
     "title": ""
    }
   },
   "outputs": [],
   "source": [
    "# SARIMAX Rolling Forecast\n",
    "\n",
    "history_y = list(y_SARIMAX_train['unt_pre'])\n",
    "history_X = X_SARIMAX_train.copy()\n",
    "all_predictions = []\n",
    "forecast_horizon = 7\n",
    "\n",
    "for i in range(0, len(y_SARIMAX_test), 7):\n",
    "\n",
    "    X_future = X_SARIMAX_test[i : i + forecast_horizon]\n",
    "    \n",
    "    SARIMAX_model = pm.ARIMA(order=(0,0,1), seasonal_order=(0,0,0,7))\n",
    "    SARIMAX_model.fit(history_y, X=history_X)\n",
    "    \n",
    "    next_forecast = SARIMAX_model.predict(n_periods=len(X_future), X=X_future)[:7]\n",
    "    all_predictions.extend(next_forecast)\n",
    "    \n",
    "    actuals_y_for_period = y_SARIMAX_test['unt_pre'][i : i + 7]\n",
    "    actuals_X_for_period = X_SARIMAX_test[i : i + 7]\n",
    "\n",
    "    history_y.extend(actuals_y_for_period)\n",
    "    history_X = pd.concat([history_X, actuals_X_for_period])\n",
    "\n",
    "\n",
    "final_predictions = all_predictions[:len(y_SARIMAX_test)]\n",
    "\n",
    "rmse_SARIMAX = np.sqrt(mean_squared_error(y_SARIMAX_test['unt_pre'], final_predictions))\n",
    "mae_SARIMAX = mean_absolute_error(y_SARIMAX_test['unt_pre'], final_predictions)\n",
    "\n",
    "print(f\"RMSE: {rmse_SARIMAX:.2f}\")\n",
    "print(f\"MAE: {mae_SARIMAX:.2f}\")\n",
    "\n",
    "# Plot the results\n",
    "plt.figure(figsize=(14, 7))\n",
    "plt.plot(y_SARIMAX_test.index, y_SARIMAX_test['unt_pre'], color='green', label='Actual Test Data')\n",
    "plt.plot(y_SARIMAX_test.index, final_predictions, color='red', linestyle='--', label='Rolling Forecast')\n",
    "plt.title('SARIMAX Rolling Forecast Backtest')\n",
    "plt.legend()\n",
    "plt.grid(True)\n",
    "plt.show()"
   ]
  },
  {
   "cell_type": "code",
   "execution_count": 0,
   "metadata": {
    "application/vnd.databricks.v1+cell": {
     "cellMetadata": {
      "byteLimit": 2048000,
      "rowLimit": 10000
     },
     "inputWidgets": {},
     "nuid": "5c5bf161-d0b5-4b7d-81e7-81bc7deae55a",
     "showTitle": false,
     "tableResultSettingsMap": {},
     "title": ""
    }
   },
   "outputs": [],
   "source": [
    "#LR Train-Test Split\n",
    "\n",
    "split_date = pd.to_datetime(spark.sql(\"SELECT current_date()\").collect()[0][0]) - pd.DateOffset(days=168)\n",
    "df_LR_train = df[df.index.get_level_values('charge_dt') < split_date]\n",
    "df_LR_test = df[df.index.get_level_values('charge_dt') >= split_date]\n",
    "\n",
    "df_LR_train_plot = df_LR_train.groupby('charge_dt')['unt_pre'].sum().reset_index()\n",
    "df_LR_test_plot = df_LR_test.groupby('charge_dt')['unt_pre'].sum().reset_index()\n",
    "\n",
    "plt.figure(figsize=(18, 6))\n",
    "plt.plot(df_LR_train_plot['charge_dt'], df_LR_train_plot['unt_pre'], label='Train', color='blue')\n",
    "plt.plot(df_LR_test_plot['charge_dt'], df_LR_test_plot['unt_pre'], label='Validation', color='red')\n",
    "plt.axvline(pd.to_datetime(split_date), linestyle='--', color='black', label='Split Date')\n",
    "plt.legend()\n",
    "plt.title('Sales Before and After Split Date')\n",
    "plt.xlabel('Charge Date')\n",
    "plt.ylabel('Sales')\n",
    "plt.show()"
   ]
  },
  {
   "cell_type": "code",
   "execution_count": 0,
   "metadata": {
    "application/vnd.databricks.v1+cell": {
     "cellMetadata": {
      "byteLimit": 2048000,
      "rowLimit": 10000
     },
     "inputWidgets": {},
     "nuid": "dc105bc6-b73a-4537-8684-106b6c1962a3",
     "showTitle": false,
     "tableResultSettingsMap": {},
     "title": ""
    }
   },
   "outputs": [],
   "source": [
    "#LR Fit\n",
    "\n",
    "X_train = df_LR_train.drop(['unt_pre'], axis=1)\n",
    "X_test = df_LR_test.drop(['unt_pre'], axis=1)\n",
    "y_train = df_LR_train['unt_pre']\n",
    "y_test = df_LR_test['unt_pre']\n",
    "\n",
    "LR_model = LinearRegression()\n",
    "LR_model.fit(X_train, y_train)\n",
    "y_pred_LR = LR_model.predict(X_test)\n",
    "\n",
    "rmse_LR = np.sqrt(mean_squared_error(y_test, y_pred_LR))\n",
    "mae_LR = mean_absolute_error(y_test, y_pred_LR)\n",
    "print(f'RMSE: {rmse_LR:.2f}')\n",
    "print(f'MAE: {mae_LR:.2f}')"
   ]
  },
  {
   "cell_type": "code",
   "execution_count": 0,
   "metadata": {
    "application/vnd.databricks.v1+cell": {
     "cellMetadata": {
      "byteLimit": 2048000,
      "rowLimit": 10000
     },
     "inputWidgets": {},
     "nuid": "5e373fe8-7fce-4ce9-b1a5-22fc102fe756",
     "showTitle": false,
     "tableResultSettingsMap": {},
     "title": ""
    }
   },
   "outputs": [],
   "source": [
    "# Create a new DataFrame for easy plotting\n",
    "results_df = pd.DataFrame({'actual': y_test, 'predicted': y_pred_LR, 'dtg': X_test['dtg']})\n",
    "results_df['charge_dt'] = results_df.index.get_level_values('charge_dt')\n",
    "aggregated_results = results_df.groupby(level='charge_dt')[['actual', 'predicted']].sum()\n",
    "plt.figure(figsize=(15, 7))\n",
    "plt.plot(aggregated_results.index, aggregated_results['actual'], label='Actual Values', marker='o', linestyle='-')\n",
    "plt.plot(aggregated_results.index, aggregated_results['predicted'], label='Predicted Values', marker='x', linestyle='--')\n",
    "plt.title('Actual vs. Predicted Values Aggregated by Charge Date', fontsize=16)\n",
    "plt.xlabel('Charge Date', fontsize=12)\n",
    "plt.ylabel('Average unt_pre', fontsize=12)\n",
    "plt.xticks(rotation=45)\n",
    "plt.legend()\n",
    "plt.tight_layout() \n",
    "plt.show()"
   ]
  },
  {
   "cell_type": "code",
   "execution_count": 0,
   "metadata": {
    "application/vnd.databricks.v1+cell": {
     "cellMetadata": {
      "byteLimit": 2048000,
      "rowLimit": 10000
     },
     "inputWidgets": {},
     "nuid": "157cd3e3-1dff-40b8-aafa-6d8b339d3f60",
     "showTitle": false,
     "tableResultSettingsMap": {},
     "title": ""
    }
   },
   "outputs": [],
   "source": [
    "# LR Results (dynamic)\n",
    "results_df.drop(['charge_dt'], axis=1, inplace=True)\n",
    "results_df.reset_index(inplace=True)\n",
    "LR_agg_dynamic = results_df.groupby(['charge_dt', 'dtg'])[['actual', 'predicted']].sum().reset_index()\n",
    "LR_agg_dynamic['charge_dt'] = LR_agg_dynamic['charge_dt'].astype(str)\n",
    "\n",
    "actual = LR_agg_dynamic[['charge_dt','dtg','actual']].copy()\n",
    "actual['sales_type'] = 'actual'\n",
    "actual['sales_value'] = actual['actual']\n",
    "\n",
    "pred = LR_agg_dynamic[['charge_dt','dtg','predicted']].copy()\n",
    "pred['sales_type'] = 'predicted'\n",
    "pred['sales_value'] = pred['predicted']\n",
    "\n",
    "melted = pd.concat([actual, pred]).sort_values(['charge_dt','dtg','sales_type'])\n",
    "\n",
    "fig = px.line(melted, x='dtg', y='sales_value', animation_frame='charge_dt', title='Sales by DTG with charge date variations')\n",
    "\n",
    "fig = px.line(melted, x='dtg', y='sales_value', color='sales_type', animation_frame='charge_dt', title='Actual vs Predicted by DTG across Charge Dates', color_discrete_map={'unt_net':'red', 'prediction':'blue'})\n",
    "\n",
    "#fig.update_xaxes(range=[0, 200])\n",
    "#fig.update_yaxes(range=[0, 800])\n",
    "fig.update_layout(xaxis_title='Days To Go', yaxis_title='Sales', legend_title='Charge Date', height=900, width=1400)\n",
    "\n",
    "fig.show()"
   ]
  },
  {
   "cell_type": "code",
   "execution_count": 0,
   "metadata": {
    "application/vnd.databricks.v1+cell": {
     "cellMetadata": {
      "byteLimit": 2048000,
      "rowLimit": 10000
     },
     "inputWidgets": {},
     "nuid": "df57ab9d-a22c-4446-98ae-25fb0452d553",
     "showTitle": false,
     "tableResultSettingsMap": {},
     "title": ""
    }
   },
   "outputs": [],
   "source": [
    "from sklearn.linear_model import Lasso\n",
    "split_date = pd.to_datetime(spark.sql(\"SELECT current_date()\").collect()[0][0]) - pd.DateOffset(days=168)\n",
    "df_lasso_train = df[df.index.get_level_values('charge_dt') < split_date]\n",
    "df_lasso_test = df[df.index.get_level_values('charge_dt') >= split_date]\n",
    "X_train = df_lasso_train.drop(['unt_pre'], axis=1)\n",
    "X_test = df_lasso_test.drop(['unt_pre'], axis=1)\n",
    "y_train = df_lasso_train['unt_pre']\n",
    "y_test = df_lasso_test['unt_pre']\n",
    "\n",
    "lasso_model = Lasso()\n",
    "lasso_model.fit(X_train, y_train)\n",
    "y_pred_lasso = lasso_model.predict(X_test)\n",
    "\n",
    "rmse_lasso = np.sqrt(mean_squared_error(y_test, y_pred_lasso))\n",
    "mae_lasso = mean_absolute_error(y_test, y_pred_lasso)\n",
    "print(f'RMSE: {rmse_lasso:.2f}')\n",
    "print(f'MAE: {mae_lasso:.2f}')"
   ]
  },
  {
   "cell_type": "code",
   "execution_count": 0,
   "metadata": {
    "application/vnd.databricks.v1+cell": {
     "cellMetadata": {
      "byteLimit": 2048000,
      "rowLimit": 10000
     },
     "inputWidgets": {},
     "nuid": "8a3c80cd-faab-443a-adb5-17305d9463e7",
     "showTitle": false,
     "tableResultSettingsMap": {},
     "title": ""
    }
   },
   "outputs": [],
   "source": [
    "#RidgeRegression\n",
    "\n",
    "from sklearn.model_selection import GridSearchCV\n",
    "from sklearn.metrics import make_scorer\n",
    "from sklearn.linear_model import Ridge\n",
    "\n",
    "param_grid = {'alpha': [0.01, 0.1, 1, 10]}\n",
    "rmse_scorer = make_scorer(mean_squared_error, squared=False)\n",
    "\n",
    "outer_cv = TimeSeriesSplit(n_splits=5)\n",
    "inner_cv = TimeSeriesSplit(n_splits=3)\n",
    "\n",
    "outer_scores = []\n",
    "\n",
    "for train_idx, test_idx in outer_cv.split(df):\n",
    "    X_train_outer = df.iloc[train_idx].drop('unt_net', axis=1).copy()\n",
    "    y_train_outer = df.iloc[train_idx]['unt_net'].copy()\n",
    "    X_test_outer = df.iloc[test_idx].drop('unt_net', axis=1).copy()\n",
    "    y_test_outer = df.iloc[test_idx]['unt_net'].copy()\n",
    "\n",
    "    model = Ridge()\n",
    "    grid_search = GridSearchCV(estimator=model, param_grid=param_grid, cv=inner_cv, n_jobs=-1, verbose=1, scoring=rmse_scorer)\n",
    "\n",
    "    grid_search.fit(X_train_processed, y_train_outer, eval_set=[(X_test_processed, y_test_outer)])\n",
    "\n",
    "    best_model = grid_search.best_estimator_\n",
    "    test_score = best_model.score(X_test_processed, y_test_outer)\n",
    "    outer_scores.append(test_score)\n",
    "\n",
    "    print(f'Outer fold score: {test_score}, best params: {grid_search.best_params_}')"
   ]
  },
  {
   "cell_type": "code",
   "execution_count": 0,
   "metadata": {
    "application/vnd.databricks.v1+cell": {
     "cellMetadata": {
      "byteLimit": 2048000,
      "rowLimit": 10000
     },
     "inputWidgets": {},
     "nuid": "fbd31b82-3798-47f2-a101-9b2dc2965103",
     "showTitle": false,
     "tableResultSettingsMap": {},
     "title": ""
    }
   },
   "outputs": [],
   "source": [
    "# Prophet\n",
    "df_prophet = df.copy()\n",
    "df_prophet = df_prophet.reset_index()\n",
    "df_prophet = df.groupby('charge_dt')[['unt_pre', 'ty_capacity', 'unt_pre_lag7', 'unt_pre_lag14', 'unt_pre_lag21', 'unt_pre_lag28']].sum().reset_index()\n",
    "\n",
    "train_prophet = df_prophet.loc[df_prophet['charge_dt'] < split_date]\n",
    "val_prophet = df_prophet.loc[df_prophet['charge_dt'] >= split_date]\n",
    "train_prophet.rename(columns={'charge_dt': 'ds', 'unt_pre': 'y'}, inplace=True)\n",
    "val_prophet.rename(columns={'charge_dt': 'ds'}, inplace=True)\n",
    "train_prophet.sort_values('ds', inplace=True)\n",
    "val_prophet.sort_values('ds', inplace=True)\n",
    "\n",
    "prophet_model = Prophet(holidays=holidays_df)\n",
    "regressors = ['ty_capacity', 'unt_pre_lag7', 'unt_pre_lag14', 'unt_pre_lag21', 'unt_pre_lag28']\n",
    "for reg in regressors:\n",
    "    prophet_model.add_regressor(reg)\n",
    "prophet_model.fit(train_prophet)\n",
    "prophet_forecast = prophet_model.predict(val_prophet)"
   ]
  },
  {
   "cell_type": "code",
   "execution_count": 0,
   "metadata": {
    "application/vnd.databricks.v1+cell": {
     "cellMetadata": {
      "byteLimit": 2048000,
      "rowLimit": 10000
     },
     "inputWidgets": {},
     "nuid": "86e4ccec-7bbd-48fc-8fbc-8bb5307bdfd9",
     "showTitle": false,
     "tableResultSettingsMap": {},
     "title": ""
    }
   },
   "outputs": [],
   "source": [
    "# Prophet Results\n",
    "\n",
    "plot_prophet = pd.concat([train_prophet, val_prophet])\n",
    "plot_prophet = pd.merge(prophet_forecast, plot_prophet, on='ds', how='outer').sort_values('ds')\n",
    "plot_prophet = plot_prophet[plot_prophet['ds'] >= '2025-01-01']\n",
    "\n",
    "#plt.style.use('seaborn-v0_8-darkgrid')\n",
    "fig, ax = plt.subplots(figsize=(18, 6))\n",
    "\n",
    "plot_prophet_val = plot_prophet[plot_prophet['ds'] >= split_date]\n",
    "plot_prophet_train = plot_prophet[plot_prophet['ds'] < split_date]\n",
    "\n",
    "ax.plot(plot_prophet_val['ds'], plot_prophet_val['unt_pre'], 'k.', alpha=0.6, label='Actual')\n",
    "ax.plot(plot_prophet_train['ds'], plot_prophet_train['y'], 'red', linewidth=1.5, label='Train') \n",
    "\n",
    "ax.plot(plot_prophet['ds'], plot_prophet['yhat'], color='blue', label='Forecast')\n",
    "ax.fill_between(plot_prophet['ds'], plot_prophet['yhat_lower'], plot_prophet['yhat_upper'], color='grey', alpha=0.3, label='Confidence Interval')\n",
    "\n",
    "ax.axvline(x=split_date, color='black', linestyle='--', lw=2, label='Forecast Start')\n",
    "ax.set_title('Forecasted Demand with Prophet', fontsize=18, fontweight='bold')\n",
    "ax.set_xlabel('Date', fontsize=14)\n",
    "ax.set_ylabel('Sales', fontsize=14)\n",
    "ax.legend(loc='upper left')\n",
    "plt.tight_layout()\n",
    "plt.show()"
   ]
  },
  {
   "cell_type": "code",
   "execution_count": 0,
   "metadata": {
    "application/vnd.databricks.v1+cell": {
     "cellMetadata": {
      "byteLimit": 2048000,
      "rowLimit": 10000
     },
     "inputWidgets": {},
     "nuid": "1baa0d31-52a2-4fe4-8f2a-17af29eb5235",
     "showTitle": false,
     "tableResultSettingsMap": {},
     "title": ""
    }
   },
   "outputs": [],
   "source": [
    "# Prophet Results pt. 2\n",
    "\n",
    "plot_prophet = plot_prophet[plot_prophet['ds'] >= split_date]\n",
    "plt.figure(figsize=(12, 6))\n",
    "plt.plot(plot_prophet['ds'], plot_prophet['unt_pre'], label='Actual', marker='o')\n",
    "plt.plot(plot_prophet['ds'], plot_prophet['yhat'], label='Forecast (Prophet)', marker='x')\n",
    "plt.xlabel('Charge Date')\n",
    "plt.ylabel('Total Sales Across All DTGs')\n",
    "plt.title('Prophet Forecast vs Actual – Aggregated Over DTG')\n",
    "plt.legend()\n",
    "plt.grid(True)\n",
    "plt.xticks(rotation=45)\n",
    "plt.tight_layout()\n",
    "plt.show()\n",
    "\n",
    "mse_prophet = np.sqrt(mean_squared_error(plot_prophet['unt_pre'], plot_prophet['yhat']))\n",
    "print(f'MSE: {mse_prophet:.2f}')"
   ]
  },
  {
   "cell_type": "code",
   "execution_count": 0,
   "metadata": {
    "application/vnd.databricks.v1+cell": {
     "cellMetadata": {
      "byteLimit": 2048000,
      "rowLimit": 10000
     },
     "inputWidgets": {},
     "nuid": "01fe76d8-c4d3-49f7-80a7-c4ae1c162fa8",
     "showTitle": false,
     "tableResultSettingsMap": {},
     "title": ""
    }
   },
   "outputs": [],
   "source": [
    "# XGBoost Grid Search\n",
    "\n",
    "'''\n",
    "\n",
    "from sklearn.model_selection import GridSearchCV\n",
    "from sklearn.metrics import make_scorer\n",
    "\n",
    "param_grid = {\n",
    "    'learning_rate': [0.005, 0.01, 0.1],\n",
    "    #'subsample': [0.8, 1.0],\n",
    "    #'colsample_bytree': [0.8, 1.0],\n",
    "    #'lambda': [0.1, 1.0],\n",
    "    #'alpha': [0, 0.1],\n",
    "}\n",
    "\n",
    "rmse_scorer = make_scorer(mean_squared_error, squared=False)\n",
    "\n",
    "outer_cv = TimeSeriesSplit(n_splits=5)\n",
    "inner_cv = TimeSeriesSplit(n_splits=3)\n",
    "\n",
    "outer_scores = []\n",
    "\n",
    "for train_idx, test_idx in outer_cv.split(df):\n",
    "    X_train_outer = df.iloc[train_idx].drop('unt_net', axis=1).copy()\n",
    "    y_train_outer = df.iloc[train_idx]['unt_net'].copy()\n",
    "    X_test_outer = df.iloc[test_idx].drop('unt_net', axis=1).copy()\n",
    "    y_test_outer = df.iloc[test_idx]['unt_net'].copy()\n",
    "\n",
    "    X_train_processed = preprocessor.fit_preprocess(X_train_outer)\n",
    "    X_test_processed = preprocessor.transform_preprocess(X_test_outer)\n",
    "\n",
    "    model = XGBRegressor(objective='reg:pseudohubererror', base_score=0.5, boosting='gbtree', early_stopping_rounds=50, max_depth=3, n_estimators=500, learning_rate=0.01)\n",
    "    grid_search = GridSearchCV(estimator=model, param_grid=param_grid, cv=inner_cv, n_jobs=-1, verbose=1, scoring=rmse_scorer)\n",
    "\n",
    "    grid_search.fit(X_train_processed, y_train_outer, eval_set=[(X_test_processed, y_test_outer)])\n",
    "\n",
    "    best_model = grid_search.best_estimator_\n",
    "    test_score = best_model.score(X_test_processed, y_test_outer)\n",
    "    outer_scores.append(test_score)\n",
    "\n",
    "    print(f'Outer fold score: {test_score}, best params: {grid_search.best_params_}')'''"
   ]
  },
  {
   "cell_type": "code",
   "execution_count": 0,
   "metadata": {
    "application/vnd.databricks.v1+cell": {
     "cellMetadata": {
      "byteLimit": 2048000,
      "rowLimit": 10000
     },
     "inputWidgets": {},
     "nuid": "d03fe1f5-5fbe-4d10-9d48-ef89d21f9a49",
     "showTitle": false,
     "tableResultSettingsMap": {},
     "title": ""
    }
   },
   "outputs": [],
   "source": [
    "df.head()"
   ]
  },
  {
   "cell_type": "code",
   "execution_count": 0,
   "metadata": {
    "application/vnd.databricks.v1+cell": {
     "cellMetadata": {
      "byteLimit": 2048000,
      "rowLimit": 10000
     },
     "inputWidgets": {},
     "nuid": "1d433b92-8c0b-4acf-9cf5-dd6840e416c1",
     "showTitle": false,
     "tableResultSettingsMap": {},
     "title": ""
    }
   },
   "outputs": [],
   "source": [
    "# XGBoost CV Fit\n",
    "\n",
    "unique_dates = df.index.get_level_values('charge_dt').unique().sort_values()\n",
    "tscv = TimeSeriesSplit(n_splits=5, test_size=168)\n",
    "\n",
    "fig, axs = plt.subplots(5, 1, figsize=(20, 10), sharex=True)\n",
    "plt.style.use('ggplot')\n",
    "fold = 0\n",
    "preds = []\n",
    "scores = []\n",
    "\n",
    "# Nested cross-validation\n",
    "for train_index, val_index in tscv.split(unique_dates):\n",
    "    train_dates = unique_dates[train_index]\n",
    "    val_dates = unique_dates[val_index]\n",
    "\n",
    "    train_mask = df.index.get_level_values('charge_dt').isin(train_dates)\n",
    "    val_mask = df.index.get_level_values('charge_dt').isin(val_dates)\n",
    "\n",
    "    train_data = df[train_mask]\n",
    "    val_data = df[val_mask]\n",
    "\n",
    "    total_sales_train = train_data.groupby('charge_dt')['unt_pre'].sum().reset_index()\n",
    "    total_sales_val = val_data.groupby('charge_dt')['unt_pre'].sum().reset_index()\n",
    "    total_sales_train.plot(ax=axs[fold], label='Train', x='charge_dt', y='unt_pre', style='-')\n",
    "    total_sales_val.plot(ax=axs[fold], label='Val', x='charge_dt', y='unt_pre', style='-')\n",
    "    axs[fold].axvline(val_data.index.get_level_values('charge_dt').min(), linestyle='--', color='black')\n",
    "    axs[fold].set_title(f'Fold {fold+1}')\n",
    "    fold += 1\n",
    "\n",
    "    X_train = train_data.drop('unt_pre', axis=1)\n",
    "    y_train = train_data['unt_pre']\n",
    "\n",
    "    X_test = val_data.drop('unt_pre', axis=1)\n",
    "    y_test = val_data['unt_pre']\n",
    "\n",
    "    XGB_model = xgb.XGBRegressor(base_score=0.5,booster='gbtree',n_estimators=1500,early_stopping_rounds=50,max_depth=3,learning_rate=0.01,objective='reg:pseudohubererror',enable_categorical=True)\n",
    "    XGB_model.fit(X_train, y_train, eval_set=[(X_test, y_test)], verbose=100)\n",
    "\n",
    "    y_pred = XGB_model.predict(X_test)\n",
    "    preds.extend(y_pred)\n",
    "    score = np.sqrt(mean_squared_error(y_test, y_pred))\n",
    "    scores.append(score)"
   ]
  },
  {
   "cell_type": "code",
   "execution_count": 0,
   "metadata": {
    "application/vnd.databricks.v1+cell": {
     "cellMetadata": {
      "byteLimit": 2048000,
      "rowLimit": 10000
     },
     "inputWidgets": {},
     "nuid": "97f14fc5-e055-4075-a260-5624280535b7",
     "showTitle": false,
     "tableResultSettingsMap": {},
     "title": ""
    }
   },
   "outputs": [],
   "source": [
    "# XGBoost Results\n",
    "\n",
    "print(f'individual scores: {scores}')\n",
    "print(f'combined score: {np.mean(scores)}')\n",
    "print(f'std: {np.std(scores)}')      "
   ]
  },
  {
   "cell_type": "code",
   "execution_count": 0,
   "metadata": {
    "application/vnd.databricks.v1+cell": {
     "cellMetadata": {
      "byteLimit": 2048000,
      "rowLimit": 10000
     },
     "inputWidgets": {},
     "nuid": "d2cd72d0-8afa-4a05-88c5-d9628135f1eb",
     "showTitle": false,
     "tableResultSettingsMap": {},
     "title": ""
    }
   },
   "outputs": [],
   "source": [
    "y_pred_series = pd.Series(y_pred, index=X_test.index)\n",
    "\n",
    "y_test_total = y_test.groupby(level='charge_dt').sum()\n",
    "y_pred_total = y_pred_series.groupby(level='charge_dt').sum()\n",
    "\n",
    "y_test_total, y_pred_total = y_test_total.align(y_pred_total, join='inner')\n",
    "\n",
    "rmse_xgb = np.sqrt(mean_squared_error(y_test_total, y_pred_total))\n",
    "print(f'RMSE on Daily Totals: {rmse_xgb:.2f}')\n",
    "\n",
    "plt.figure(figsize=(15, 6))\n",
    "plt.plot(y_test_total.index, y_test_total, label='Actual Daily Total')\n",
    "plt.plot(y_pred_total.index, y_pred_total, label='Predicted Daily Total', linestyle='--')\n",
    "plt.title('Actual vs. Predicted Daily Totals')\n",
    "plt.legend()\n",
    "plt.show()"
   ]
  },
  {
   "cell_type": "code",
   "execution_count": 0,
   "metadata": {
    "application/vnd.databricks.v1+cell": {
     "cellMetadata": {
      "byteLimit": 2048000,
      "rowLimit": 10000
     },
     "inputWidgets": {},
     "nuid": "e69165c5-4356-4187-bef2-facc8d6db90b",
     "showTitle": false,
     "tableResultSettingsMap": {},
     "title": ""
    }
   },
   "outputs": [],
   "source": [
    "df_results = pd.DataFrame({'actual': y_test, 'predicted': y_pred_series})\n",
    "df_results = df_results.reset_index()\n",
    "df_agg = df_results.groupby(['charge_dt', 'dtg'])[['actual', 'predicted']].sum().reset_index()\n",
    "df_melted = df_agg.melt(id_vars=['charge_dt', 'dtg'], value_vars=['actual', 'predicted'], var_name='sales_type', value_name='sales_value')\n",
    "df_melted = df_melted.sort_values(['charge_dt', 'dtg'])\n",
    "df_melted['charge_dt'] = df_melted['charge_dt'].dt.strftime('%Y-%m-%d')\n",
    "\n",
    "fig = px.line(df_melted, x='dtg', y='sales_value', color='sales_type', animation_frame='charge_dt', title='Actual vs Predicted Booking Curve', color_discrete_map={'actual': 'red', 'predicted': 'blue'})\n",
    "fig.update_layout(legend_title='type', height=800, width=1600)\n",
    "fig.show()"
   ]
  }
 ],
 "metadata": {
  "application/vnd.databricks.v1+notebook": {
   "computePreferences": null,
   "dashboards": [],
   "environmentMetadata": {
    "base_environment": "",
    "environment_version": "2"
   },
   "inputWidgetPreferences": null,
   "language": "python",
   "notebookMetadata": {
    "pythonIndentUnit": 4
   },
   "notebookName": "Apprenticeship Project (initial)",
   "widgets": {}
  },
  "language_info": {
   "name": "python"
  }
 },
 "nbformat": 4,
 "nbformat_minor": 0
}
