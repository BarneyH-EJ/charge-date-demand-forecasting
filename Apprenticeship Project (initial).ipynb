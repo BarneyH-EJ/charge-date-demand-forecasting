{
 "cells": [
  {
   "cell_type": "code",
   "execution_count": 0,
   "metadata": {
    "application/vnd.databricks.v1+cell": {
     "cellMetadata": {
      "byteLimit": 2048000,
      "rowLimit": 10000
     },
     "inputWidgets": {},
     "nuid": "e3ebaa69-e0f4-4092-a954-8aaea4608ba4",
     "showTitle": false,
     "tableResultSettingsMap": {},
     "title": ""
    }
   },
   "outputs": [],
   "source": [
    "#importing libraries\n",
    "\n",
    "import pandas as pd\n",
    "import numpy as np\n",
    "import matplotlib.pyplot as plt\n",
    "import seaborn as sns\n",
    "import plotly.express as px\n",
    "from sklearn.metrics import mean_squared_error, mean_absolute_error\n",
    "from sklearn.preprocessing import StandardScaler, MinMaxScaler, OneHotEncoder\n",
    "from sklearn.model_selection import TimeSeriesSplit\n",
    "from sklearn.linear_model import LinearRegression\n",
    "from statsmodels.graphics.tsaplots import plot_acf, plot_pacf\n",
    "import pmdarima as pm\n",
    "import xgboost as xgb\n",
    "from xgboost import XGBRegressor\n",
    "from prophet import Prophet\n",
    "from pyspark.sql.functions import to_date, to_timestamp, col, last, when, lit, current_date, date_sub, datediff, substring, sequence, explode, coalesce, sum as spark_sum, min as spark_min\n",
    "from pyspark.sql.window import Window\n",
    "from pyspark.sql import functions as F\n",
    "from datetime import datetime, timedelta\n",
    "import joblib\n",
    "import holidays\n",
    "import mlflow\n",
    "mlflow.autolog(disable=True)\n",
    "\n",
    "#importing price and meta data\n",
    "\n",
    "price_history = spark.read.table('data_prod.silver_sanezdb.priceinspection').select('segment', 'when', F.col('standardprice').cast('double'))\n",
    "sales_history = spark.read.table('data_experience_commercial.cbt_1423_rtsuite.master').select('flightkey', F.col('charge_dt').cast('date'), 'unt_pre', 'chargeproduct', 'dtg')\n",
    "dimensions_history = spark.read.table('data_experience_commercial.cbt_0923_segmentfinder.dimensions_history').select('flightkey', 'onsale_dt', 'ty_capacity', 'routetype', 'region', 'flight_dt')\n",
    "filtered_dh = dimensions_history.filter((F.col('routetype') == 'Domestic') & (F.col('region').isin(['UK-London', 'UK-Regions'])) & (F.col('flight_dt') >= '2022-01-01'))\n",
    "\n",
    "#forward filling flightkey price history to 1d frequency\n",
    "\n",
    "ph_renamed = price_history.withColumnRenamed('when', 'charge_dt').withColumnRenamed('segment', 'flightkey').withColumn('charge_dt', F.col('charge_dt').cast('date')) \n",
    "dph = filtered_dh.join(ph_renamed, on='flightkey', how='inner')\n",
    "dphsmooth = dph.groupby('flightkey','charge_dt').agg(F.avg('standardprice').alias('price'), F.first('flight_dt').alias('flight_dt'), F.first('onsale_dt').alias('onsale_dt')).orderBy('charge_dt')\n",
    "date_range = dphsmooth.groupBy('flightkey').agg(F.min('onsale_dt').alias('start_date'), F.least(F.first('flight_dt'), F.lit(datetime.now().date())).alias('end_date'))\n",
    "index = date_range.withColumn('charge_dt_ts', F.explode(F.sequence(F.col('start_date'), F.col('end_date')))).withColumn('charge_dt', F.col('charge_dt_ts').cast('date')).drop('charge_dt_ts')\n",
    "dphjoin = index.join(dphsmooth, on=['flightkey', 'charge_dt'], how='left').drop('flight_dt', 'onsale_dt')\n",
    "ff_window_spec = Window.partitionBy('flightkey').orderBy('charge_dt')\n",
    "bf_window_spec = Window.partitionBy('flightkey').orderBy('charge_dt').rowsBetween(Window.unboundedPreceding, Window.unboundedFollowing)\n",
    "dphfilled = dphjoin.withColumn('price', F.coalesce(F.last('price', ignorenulls=True).over(ff_window_spec),F.first('price', ignorenulls=True).over(bf_window_spec))).drop('start_date', 'end_date') #forward fills from first flight price, then back fills from first price if first price date after onsale date\n",
    "finaldph = dphfilled.join(filtered_dh, on='flightkey', how='left').drop('onsale_dt')\n",
    "aggregated_price_history = finaldph.groupby('region', 'routetype', 'charge_dt', 'flight_dt').agg(F.avg('price').cast('double').alias('price'))\n",
    "\n",
    "#assembling corresponding sales history\n",
    "\n",
    "dsh = filtered_dh.join(sales_history, on='flightkey', how='left').drop('onsale_dt')\n",
    "filtered_dsh = dsh.filter((F.col('chargeproduct') == 'Ticket') & (F.col('dtg') >= 0)).drop('chargeproduct', 'dtg')\n",
    "dshsmooth = filtered_dsh.groupby('flightkey','charge_dt').agg(F.sum('unt_pre').alias('unt_pre'))\n",
    "dshjoin = index.join(dshsmooth, on=['flightkey', 'charge_dt'], how='left').drop('start_date', 'end_date', 'region', 'routetype', 'flight_dt', 'ty_capacity').fillna(0)\n",
    "window_spec2 = Window.partitionBy('flightkey').orderBy(F.col('charge_dt'))\n",
    "dsh_pax = dshjoin.withColumn('pax_net', F.sum('unt_pre').over(window_spec2))\n",
    "final_dsh = dsh_pax.join(dimensions_history, on='flightkey', how='left').drop('onsale_dt')\n",
    "aggregated_sales_history = final_dsh.groupby('region', 'routetype', 'charge_dt', 'flight_dt').agg(F.sum('unt_pre').alias('unt_pre'), F.sum('ty_capacity').alias('ty_capacity'), F.sum('pax_net').alias('pax_net'))\n",
    "\n",
    "#final dataframe\n",
    "\n",
    "df = aggregated_price_history.join(aggregated_sales_history, on=['region', 'routetype', 'charge_dt', 'flight_dt'], how='left').toPandas()\n",
    "\n",
    "df.info()\n",
    "df_original = df.copy()"
   ]
  },
  {
   "cell_type": "code",
   "execution_count": 0,
   "metadata": {
    "application/vnd.databricks.v1+cell": {
     "cellMetadata": {
      "byteLimit": 2048000,
      "rowLimit": 10000
     },
     "inputWidgets": {},
     "nuid": "e290602d-b6b7-413b-9338-f6452f02a48b",
     "showTitle": false,
     "tableResultSettingsMap": {},
     "title": ""
    }
   },
   "outputs": [],
   "source": [
    "df = df_orginal.copy()"
   ]
  },
  {
   "cell_type": "code",
   "execution_count": 0,
   "metadata": {
    "application/vnd.databricks.v1+cell": {
     "cellMetadata": {
      "byteLimit": 2048000,
      "rowLimit": 10000
     },
     "inputWidgets": {},
     "nuid": "36f0cc4e-ab80-46fe-9203-25bbf91ace00",
     "showTitle": false,
     "tableResultSettingsMap": {},
     "title": ""
    }
   },
   "outputs": [],
   "source": [
    "# Data Optimisation\n",
    "\n",
    "def optimize_df(df):\n",
    "\n",
    "    start_mem = df.memory_usage(deep=True).sum() / 1024**2\n",
    "    print(f\"Initial memory usage: {start_mem:.2f} MB\")\n",
    "\n",
    "    for col in df.columns:\n",
    "\n",
    "        if '_dt' in col:\n",
    "            df[col] = pd.to_datetime(df[col])\n",
    "\n",
    "        elif df[col].dtype == 'object':\n",
    "            df[col] = df[col].astype('category')\n",
    "\n",
    "        elif 'float' in str(df[col].dtype):\n",
    "            df[col] = df[col].astype(np.float16)\n",
    "            \n",
    "        elif 'int' in str(df[col].dtype):\n",
    "            df[col] = pd.to_numeric(df[col], downcast='integer')\n",
    "\n",
    "    end_mem = df.memory_usage(deep=True).sum() / 1024**2\n",
    "    reduction = 100 * (start_mem - end_mem) / start_mem\n",
    "    print(f\"Final memory usage: {end_mem:.2f} MB ({reduction:.2f}% reduction)\")\n",
    "\n",
    "    return df\n",
    "\n",
    "optimize_df(df)\n",
    "df.info()"
   ]
  },
  {
   "cell_type": "code",
   "execution_count": 0,
   "metadata": {
    "application/vnd.databricks.v1+cell": {
     "cellMetadata": {
      "byteLimit": 2048000,
      "rowLimit": 10000
     },
     "inputWidgets": {},
     "nuid": "130e08a0-96ea-4a54-bc26-4ef5a021296b",
     "showTitle": false,
     "tableResultSettingsMap": {},
     "title": ""
    }
   },
   "outputs": [],
   "source": [
    "#Sales Over Charge Date\n",
    "\n",
    "total_sales = df.groupby('charge_dt')['unt_pre'].sum().reset_index()\n",
    "plt.style.use('ggplot')\n",
    "total_sales.plot(style='-', figsize=(20,5), title = 'sales by charge date', y='unt_pre', x='charge_dt')\n",
    "plt.show()"
   ]
  },
  {
   "cell_type": "code",
   "execution_count": 0,
   "metadata": {
    "application/vnd.databricks.v1+cell": {
     "cellMetadata": {
      "byteLimit": 2048000,
      "rowLimit": 10000
     },
     "inputWidgets": {},
     "nuid": "49a916c1-99ba-4b28-a259-577cd2c6f4e9",
     "showTitle": false,
     "tableResultSettingsMap": {},
     "title": ""
    }
   },
   "outputs": [],
   "source": [
    "# Removing covid-19 outlier data before 2022. Keeping Dec 2021 for now to generate lag features.\n",
    "\n",
    "df = df[df['charge_dt'] >= '2022-01-01']\n",
    "total_sales_by_charge_dt = df.groupby('charge_dt')['unt_pre'].sum().reset_index()\n",
    "plt.style.use('ggplot')\n",
    "total_sales_by_charge_dt.plot(style='-', figsize=(20,5), title = 'sales by charge date', y='unt_pre', x='charge_dt')\n",
    "plt.show()"
   ]
  },
  {
   "cell_type": "code",
   "execution_count": 0,
   "metadata": {
    "application/vnd.databricks.v1+cell": {
     "cellMetadata": {
      "byteLimit": 2048000,
      "rowLimit": 10000
     },
     "inputWidgets": {},
     "nuid": "b853d528-879c-423b-ac33-db2d2424f002",
     "showTitle": false,
     "tableResultSettingsMap": {},
     "title": ""
    }
   },
   "outputs": [],
   "source": [
    "total_sales_by_charge_dt.set_index('charge_dt', inplace=True)\n",
    "total_sales_by_charge_dt.head()"
   ]
  },
  {
   "cell_type": "code",
   "execution_count": 0,
   "metadata": {
    "application/vnd.databricks.v1+cell": {
     "cellMetadata": {
      "byteLimit": 2048000,
      "rowLimit": 10000
     },
     "inputWidgets": {},
     "nuid": "dfc36487-7b0a-477c-927c-2bc694e9b172",
     "showTitle": false,
     "tableResultSettingsMap": {},
     "title": ""
    }
   },
   "outputs": [],
   "source": [
    "from statsmodels.tsa.seasonal import seasonal_decompose\n",
    "def plot_decomposition(target):\n",
    "    decomposition = seasonal_decompose(target, model='additive')\n",
    "    fig, axes = plt.subplots(4, 1, sharex=True, figsize=(30, 10))\n",
    "    axes[0].plot(target)\n",
    "    axes[1].plot(decomposition.trend)\n",
    "    axes[2].plot(decomposition.seasonal)\n",
    "    axes[3].plot(decomposition.resid)\n",
    "    plt.show()\n",
    "\n",
    "plot_decomposition(total_sales_by_charge_dt['unt_pre'])"
   ]
  },
  {
   "cell_type": "code",
   "execution_count": 0,
   "metadata": {
    "application/vnd.databricks.v1+cell": {
     "cellMetadata": {
      "byteLimit": 2048000,
      "rowLimit": 10000
     },
     "inputWidgets": {},
     "nuid": "31e96c83-5777-4d7b-a2d7-c7e5d9776ddc",
     "showTitle": false,
     "tableResultSettingsMap": {},
     "title": ""
    }
   },
   "outputs": [],
   "source": [
    "sales_by_routetype = df.groupby(['charge_dt', 'routetype'])['unt_pre'].mean().reset_index()\n",
    "fig, ax = plt.subplots(figsize=(20,5))\n",
    "for routetype in sales_by_routetype['routetype'].unique():\n",
    "    subset = sales_by_routetype[sales_by_routetype['routetype'] == routetype]\n",
    "    ax.plot(subset['charge_dt'], subset['unt_pre'], label=routetype)\n",
    "plt.title('Sales by routetype')\n",
    "plt.xlabel('Charge Date')\n",
    "plt.ylabel('Sales')\n",
    "plt.legend()\n",
    "plt.show()"
   ]
  },
  {
   "cell_type": "code",
   "execution_count": 0,
   "metadata": {
    "application/vnd.databricks.v1+cell": {
     "cellMetadata": {
      "byteLimit": 2048000,
      "rowLimit": 10000
     },
     "inputWidgets": {},
     "nuid": "c04dc715-59c0-41b4-9233-7551663bd86e",
     "showTitle": false,
     "tableResultSettingsMap": {},
     "title": ""
    }
   },
   "outputs": [],
   "source": [
    "# Typical Booking Curve\n",
    "\n",
    "total_sales_by_dtg = df.groupby('dtg')['unt_pre'].sum().reset_index()\n",
    "plt.style.use('ggplot')\n",
    "total_sales_by_dtg.plot(style='-', figsize=(20,5), title = 'sales by dtg since 2022', y='unt_pre', x='dtg')\n",
    "plt.show()"
   ]
  },
  {
   "cell_type": "code",
   "execution_count": 0,
   "metadata": {
    "application/vnd.databricks.v1+cell": {
     "cellMetadata": {
      "byteLimit": 2048000,
      "rowLimit": 10000
     },
     "inputWidgets": {},
     "nuid": "b3ac5656-d86f-41d9-a835-7fb38ec131cf",
     "showTitle": false,
     "tableResultSettingsMap": {},
     "title": ""
    }
   },
   "outputs": [],
   "source": [
    "total_sales_by_log_dtg = df.groupby('dtg')['unt_pre'].sum().reset_index()\n",
    "total_sales_by_log_dtg['log_dtg'] = np.log(total_sales_by_log_dtg['dtg'])\n",
    "plt.style.use('ggplot')\n",
    "total_sales_by_log_dtg.plot(style='-', figsize=(20,5), title = 'sales by dtg since 2022', y='unt_pre', x='log_dtg')\n",
    "plt.show()"
   ]
  },
  {
   "cell_type": "code",
   "execution_count": 0,
   "metadata": {
    "application/vnd.databricks.v1+cell": {
     "cellMetadata": {
      "byteLimit": 2048000,
      "rowLimit": 10000
     },
     "inputWidgets": {},
     "nuid": "25deb798-ce28-4204-a9d8-59d04c270f69",
     "showTitle": false,
     "tableResultSettingsMap": {},
     "title": ""
    }
   },
   "outputs": [],
   "source": [
    "# Booking Curve Over Time\n",
    "\n",
    "df_dynamic_plot = df.reset_index()\n",
    "df_dynamic_plot['charge_dt'] = df_dynamic_plot['charge_dt'].astype(str)\n",
    "df_dynamic_plot = df_dynamic_plot.groupby(['dtg', 'charge_dt'])['unt_pre'].sum().reset_index()\n",
    "fig = px.line(df_dynamic_plot, x='dtg', y='unt_pre', animation_frame='charge_dt', title='Sales by DTG with charge date variations')\n",
    "fig.update_layout(xaxis_title='Days To Go', yaxis_title='Sales', legend_title='Charge Date', height=900, width=1400)\n",
    "\n",
    "fig.show()"
   ]
  },
  {
   "cell_type": "code",
   "execution_count": 0,
   "metadata": {
    "application/vnd.databricks.v1+cell": {
     "cellMetadata": {
      "byteLimit": 2048000,
      "rowLimit": 10000
     },
     "inputWidgets": {},
     "nuid": "26d3a2ed-3557-473b-9f08-807db804d9f9",
     "showTitle": false,
     "tableResultSettingsMap": {},
     "title": ""
    }
   },
   "outputs": [],
   "source": [
    "#ACF charge-date\n",
    "df_ACF = df.groupby('charge_dt')['unt_pre'].sum()\n",
    "fig, (ax1, ax2) = plt.subplots(2, 1, figsize=(18, 8))\n",
    "\n",
    "plot_acf(df_ACF, ax=ax1, lags=56)\n",
    "ax1.set_title('Autocorrelation Function (ACF)')\n",
    "\n",
    "plot_pacf(df_ACF, ax=ax2, lags=56, method='ywm') \n",
    "ax2.set_title('Partial Autocorrelation Function (PACF)')\n",
    "\n",
    "plt.tight_layout()\n",
    "plt.show()"
   ]
  },
  {
   "cell_type": "code",
   "execution_count": 0,
   "metadata": {
    "application/vnd.databricks.v1+cell": {
     "cellMetadata": {
      "byteLimit": 2048000,
      "rowLimit": 10000
     },
     "inputWidgets": {},
     "nuid": "43e7e1db-b78c-4d20-9b05-f91b52da3a20",
     "showTitle": false,
     "tableResultSettingsMap": {},
     "title": ""
    }
   },
   "outputs": [],
   "source": [
    "#ACF flight-date\n",
    "df_ACF = df.groupby('flight_dt')['unt_pre'].sum()\n",
    "fig, (ax1, ax2) = plt.subplots(2, 1, figsize=(18, 8))\n",
    "\n",
    "plot_acf(df_ACF, ax=ax1, lags=56)\n",
    "ax1.set_title('Autocorrelation Function (ACF)')\n",
    "\n",
    "plot_pacf(df_ACF, ax=ax2, lags=56, method='ywm') \n",
    "ax2.set_title('Partial Autocorrelation Function (PACF)')\n",
    "\n",
    "plt.tight_layout()\n",
    "plt.show()"
   ]
  },
  {
   "cell_type": "code",
   "execution_count": 0,
   "metadata": {
    "application/vnd.databricks.v1+cell": {
     "cellMetadata": {
      "byteLimit": 2048000,
      "rowLimit": 10000
     },
     "inputWidgets": {},
     "nuid": "3136be56-03e4-4828-a593-ed04e7681937",
     "showTitle": false,
     "tableResultSettingsMap": {},
     "title": ""
    }
   },
   "outputs": [],
   "source": [
    "df = df_orginal.copy()\n",
    "df = optimize_df(df)\n",
    "df = df[df['charge_dt'] >= '2021-10-01']"
   ]
  },
  {
   "cell_type": "code",
   "execution_count": 0,
   "metadata": {
    "application/vnd.databricks.v1+cell": {
     "cellMetadata": {
      "byteLimit": 2048000,
      "rowLimit": 10000
     },
     "inputWidgets": {},
     "nuid": "d8f800fe-a692-4e24-a300-7d4dcd79949f",
     "showTitle": false,
     "tableResultSettingsMap": {},
     "title": ""
    }
   },
   "outputs": [],
   "source": [
    "def generate_lag_features(df, charge_lags, flight_lags):\n",
    "\n",
    "    df['charge_dt'] = pd.to_datetime(df['charge_dt'])\n",
    "    df['flight_dt'] = pd.to_datetime(df['flight_dt'])\n",
    "    df_source = df.copy()\n",
    "\n",
    "    for c_lag in charge_lags:\n",
    "        for f_lag in flight_lags:\n",
    "            f_lag_str = str(f_lag)\n",
    "            feature_col_name = f'C{c_lag}F{f_lag_str}'\n",
    "            \n",
    "            df_temp = df_source.copy()\n",
    "            df_temp['merge_key_charge_dt'] = df_temp['charge_dt'] + timedelta(days=c_lag)\n",
    "            df_temp['merge_key_flight_dt'] = df_temp['flight_dt'] + timedelta(days=f_lag)\n",
    "            df_temp = df_temp.rename(columns={'unt_pre': feature_col_name})\n",
    "            df = pd.merge(df, df_temp[['merge_key_charge_dt', 'merge_key_flight_dt', feature_col_name]], left_on=['charge_dt', 'flight_dt'], right_on=['merge_key_charge_dt', 'merge_key_flight_dt'], how='left')\n",
    "            df = df.drop(columns=['merge_key_charge_dt', 'merge_key_flight_dt'])\n",
    "            df.fillna(-1, inplace=True)\n",
    "\n",
    "    return df\n",
    "\n",
    "flight_lags = [0, 7, 14, 21, 28, 35, 42, 49, 56, 63, 70, 364]\n",
    "charge_lags = [7, 14, 21, 28, 35, 42, 49, 56, 63, 70, 364] \n",
    "df = generate_lag_features(df, charge_lags, flight_lags)\n",
    "df.info()\n"
   ]
  },
  {
   "cell_type": "code",
   "execution_count": 0,
   "metadata": {
    "application/vnd.databricks.v1+cell": {
     "cellMetadata": {
      "byteLimit": 2048000,
      "rowLimit": 10000
     },
     "inputWidgets": {},
     "nuid": "1670bdab-bc1b-4ef8-a17a-3df3d6b1efdf",
     "showTitle": false,
     "tableResultSettingsMap": {},
     "title": ""
    }
   },
   "outputs": [],
   "source": [
    "df = df[['charge_dt', 'flight_dt', 'dtg', 'unt_pre', 'ty_capacity', 'load_factor', 'yield', 'price', 'C7F0', 'C7F7', 'C7F14', 'C7F21', 'C7F28', 'C7F35', 'C7F42', 'C7F49', 'C7F56', 'C7F63', 'C7F70', 'C14F0', 'C14F7', 'C14F14', 'C14F21', 'C14F28', 'C14F35', 'C14F42', 'C14F49', 'C14F56', 'C14F63', 'C14F70', 'C21F0', 'C21F7', 'C21F14', 'C21F21', 'C21F28', 'C21F35', 'C21F42', 'C21F49', 'C21F56', 'C21F63', 'C21F70', 'C28F0', 'C28F7', 'C28F14', 'C28F21', 'C28F28', 'C28F35', 'C28F42', 'C28F49', 'C28F56', 'C28F63', 'C28F70', 'C35F0', 'C35F7', 'C35F14', 'C35F21', 'C35F28', 'C35F35', 'C35F42', 'C35F49', 'C35F56', 'C35F63', 'C35F70', 'C42F0', 'C42F7', 'C42F14', 'C42F21', 'C42F28', 'C42F35', 'C42F42', 'C42F49', 'C42F56', 'C42F63', 'C42F70', 'C49F0', 'C49F7', 'C49F14', 'C49F21', 'C49F28', 'C49F35', 'C49F42', 'C49F49', 'C49F56', 'C49F63', 'C49F70', 'C56F0', 'C56F7', 'C56F14', 'C56F21', 'C56F28', 'C56F35', 'C56F42', 'C56F49', 'C56F56', 'C56F63', 'C56F70', 'C63F0', 'C63F7', 'C63F14', 'C63F21', 'C63F28', 'C63F35', 'C63F42', 'C63F49', 'C63F56', 'C63F63', 'C63F70', 'C70F0', 'C70F7', 'C70F14', 'C70F21', 'C70F28', 'C70F35', 'C70F42', 'C70F49', 'C70F56', 'C70F63', 'C70F70', 'C364F364']]"
   ]
  },
  {
   "cell_type": "code",
   "execution_count": 0,
   "metadata": {
    "application/vnd.databricks.v1+cell": {
     "cellMetadata": {
      "byteLimit": 2048000,
      "rowLimit": 10000
     },
     "inputWidgets": {},
     "nuid": "3ebb3d35-dc6b-43ee-b32e-b47785f88e2d",
     "showTitle": false,
     "tableResultSettingsMap": {},
     "title": ""
    }
   },
   "outputs": [],
   "source": [
    "df = df[df['charge_dt'] >= '2022-01-01']\n",
    "optimize_df(df)"
   ]
  },
  {
   "cell_type": "code",
   "execution_count": 0,
   "metadata": {
    "application/vnd.databricks.v1+cell": {
     "cellMetadata": {
      "byteLimit": 2048000,
      "rowLimit": 10000
     },
     "inputWidgets": {},
     "nuid": "b20079a0-6943-4e77-beae-10ba641f5195",
     "showTitle": false,
     "tableResultSettingsMap": {},
     "title": ""
    }
   },
   "outputs": [],
   "source": [
    "import re\n",
    "feature_cols = [col for col in df.columns if col.startswith('C')]\n",
    "target_col = 'unt_pre'\n",
    "\n",
    "unique_feature_cols = list(set(feature_cols))\n",
    "all_cols_for_corr = [target_col] + unique_feature_cols\n",
    "corr_matrix = df[all_cols_for_corr].dropna().corr()\n",
    "target_corrs = corr_matrix[[target_col]].drop(target_col)\n",
    "target_corrs = target_corrs.reset_index().rename(columns={'index': 'feature', target_col: 'correlation'})\n",
    "\n",
    "def parse_lags(feature_name):\n",
    "    match = re.match(r'C(\\d+)F(-?\\d+)', feature_name)\n",
    "    if match:\n",
    "        c_lag = int(match.group(1))\n",
    "        f_lag = int(match.group(2))\n",
    "        return c_lag, f_lag\n",
    "    return None, None\n",
    "\n",
    "target_corrs[['charge_lag', 'flight_lag']] = target_corrs['feature'].apply(lambda x: pd.Series(parse_lags(x)))\n",
    "\n",
    "target_corrs = target_corrs.drop_duplicates(subset=['feature'])\n",
    "corr_pivot = target_corrs.pivot(index='charge_lag', columns='flight_lag', values='correlation')\n",
    "corr_pivot = corr_pivot.sort_index().sort_index(axis=1)\n",
    "plt.figure(figsize=(16, 12))\n",
    "sns.heatmap(corr_pivot,annot=True,fmt=\".2f\",cmap='viridis',cbar=True,linewidths=.1)\n",
    "plt.title('Correlation of Lag Features with Target (\"unt_pre\")')\n",
    "plt.xlabel(\"Flight Date Lag (days)\")\n",
    "plt.ylabel(\"Charge Date Lag (days)\")\n",
    "plt.tight_layout()\n",
    "plt.show()"
   ]
  },
  {
   "cell_type": "code",
   "execution_count": 0,
   "metadata": {
    "application/vnd.databricks.v1+cell": {
     "cellMetadata": {
      "byteLimit": 2048000,
      "rowLimit": 10000
     },
     "inputWidgets": {},
     "nuid": "4f23e830-a3b4-4d1d-93f6-f2814f9fa71f",
     "showTitle": false,
     "tableResultSettingsMap": {},
     "title": ""
    }
   },
   "outputs": [],
   "source": [
    "# Seasonality Analysis\n",
    "\n",
    "def create_features(df):\n",
    "    df['flight_dt'] = pd.to_datetime(df['charge_dt'] + pd.to_timedelta(df['dtg'], unit='D'))\n",
    "    df['charge_dt'] = pd.to_datetime(df['charge_dt'])\n",
    "    df['flight_month'] = df['flight_dt'].dt.month.astype(int)\n",
    "    df['flight_dow'] = df['flight_dt'].dt.dayofweek.astype(int)\n",
    "    df['flight_dom'] = df['flight_dt'].dt.day.astype(int)\n",
    "    df['flight_doy'] = df['flight_dt'].dt.dayofyear.astype(int)\n",
    "    df['flight_year'] = df['flight_dt'].dt.year.astype(int)\n",
    "    df['charge_month'] = df['charge_dt'].dt.month.astype(int)\n",
    "    df['charge_dow'] = df['charge_dt'].dt.dayofweek.astype(int)\n",
    "    df['charge_dom'] = df['charge_dt'].dt.day.astype(int)\n",
    "    df['charge_doy'] = df['charge_dt'].dt.dayofyear.astype(int)\n",
    "    df['charge_year'] = df['charge_dt'].dt.year.astype(int)\n",
    "    df['day_number'] = (df['charge_dt'] - pd.to_datetime('2022-01-01')).dt.days.astype(int)\n",
    "\n",
    "create_features(df)\n",
    "optimize_df(df)"
   ]
  },
  {
   "cell_type": "code",
   "execution_count": 0,
   "metadata": {
    "application/vnd.databricks.v1+cell": {
     "cellMetadata": {
      "byteLimit": 2048000,
      "rowLimit": 10000
     },
     "inputWidgets": {},
     "nuid": "95a1bbd2-b12e-4540-87b0-98e548329f24",
     "showTitle": false,
     "tableResultSettingsMap": {},
     "title": ""
    }
   },
   "outputs": [],
   "source": [
    "# Flight Month vs Charge Month\n",
    "\n",
    "df_melt = df.melt(id_vars='unt_pre', value_vars=['flight_month', 'charge_month'], var_name='month_type', value_name='month')\n",
    "mean_sales = df_melt.groupby(['month', 'month_type'])['unt_pre'].sum().reset_index()\n",
    "\n",
    "plt.figure(figsize=(20, 8))\n",
    "sns.barplot(data=mean_sales, x='month', y='unt_pre', hue='month_type')\n",
    "plt.style.use('ggplot')\n",
    "plt.title('Historic Sales by Month since 2022')\n",
    "plt.xlabel('Month')\n",
    "plt.ylabel('Total Sales')\n",
    "plt.show()"
   ]
  },
  {
   "cell_type": "code",
   "execution_count": 0,
   "metadata": {
    "application/vnd.databricks.v1+cell": {
     "cellMetadata": {
      "byteLimit": 2048000,
      "rowLimit": 10000
     },
     "inputWidgets": {},
     "nuid": "4a0c9eb6-c222-4346-a611-dd1ed6cdabf6",
     "showTitle": false,
     "tableResultSettingsMap": {},
     "title": ""
    }
   },
   "outputs": [],
   "source": [
    "# Flight DoW vs Charge DoW\n",
    "\n",
    "df_melt = df.melt(id_vars='unt_pre', value_vars=['flight_dow', 'charge_dow'], var_name='dow_type', value_name='dow')\n",
    "mean_sales = df_melt.groupby(['dow', 'dow_type'])['unt_pre'].sum().reset_index()\n",
    "plt.figure(figsize=(15, 8))\n",
    "sns.barplot(data=mean_sales, x='dow', y='unt_pre', hue='dow_type')\n",
    "plt.style.use('ggplot')\n",
    "plt.title('Historic Sales by DoW since 2022')\n",
    "plt.xlabel('DoW')\n",
    "plt.ylabel('Total Sales')\n",
    "display(plt.show())"
   ]
  },
  {
   "cell_type": "code",
   "execution_count": 0,
   "metadata": {
    "application/vnd.databricks.v1+cell": {
     "cellMetadata": {
      "byteLimit": 2048000,
      "rowLimit": 10000
     },
     "inputWidgets": {},
     "nuid": "9a1b07e5-a271-4c24-9093-d374268dc7f8",
     "showTitle": false,
     "tableResultSettingsMap": {},
     "title": ""
    }
   },
   "outputs": [],
   "source": [
    "# Weekly Seasonality\n",
    "\n",
    "df[(df['charge_dt'] > '2024-01-01') & (df['charge_dt'] < '2024-01-31')].groupby('charge_dt')['unt_pre'].sum().plot(figsize=(20,5), title = 'sales by charge date (Jan24)', y='unt_pre', linewidth=10)\n",
    "plt.style.use('ggplot')\n",
    "plt.show()"
   ]
  },
  {
   "cell_type": "code",
   "execution_count": 0,
   "metadata": {
    "application/vnd.databricks.v1+cell": {
     "cellMetadata": {
      "byteLimit": 2048000,
      "rowLimit": 10000
     },
     "inputWidgets": {},
     "nuid": "1bb96211-9a27-46ee-b8ea-60604111a2a1",
     "showTitle": false,
     "tableResultSettingsMap": {},
     "title": ""
    }
   },
   "outputs": [],
   "source": [
    "# DoM Price vs Sales\n",
    "\n",
    "price_vs_slaes = df.copy()\n",
    "#[(df['charge_month'] != 12) & (df['charge_month'] != 3) & (df['charge_month'] != 4) & ((df['charge_month'] != 1))]\n",
    "\n",
    "mean_sales = price_vs_slaes.groupby('charge_dom')['unt_pre'].mean().reset_index()\n",
    "mean_price = price_vs_slaes.groupby('charge_dom')['price'].mean().reset_index()\n",
    "\n",
    "fig, ax1 = plt.subplots(figsize=(15, 8))\n",
    "plt.style.use('ggplot')\n",
    "\n",
    "ax1.plot(mean_sales['charge_dom'], mean_sales['unt_pre'], marker='o', linewidth=12, color='tab:red', label='Mean Sales')\n",
    "ax1.set_xlabel('Charge Day of Month')\n",
    "ax1.set_ylabel('Mean Sales', color='tab:red')\n",
    "ax1.tick_params(axis='y', labelcolor='tab:red')\n",
    "\n",
    "ax2 = ax1.twinx()\n",
    "ax2.plot(mean_price['charge_dom'], mean_price['price'], marker='s', linewidth=12, color='tab:blue', label='Mean Price')\n",
    "ax2.set_ylabel('Mean Price', color='tab:blue')\n",
    "ax2.tick_params(axis='y', labelcolor='tab:blue')\n",
    "\n",
    "fig.suptitle('Mean Sales and Price by Charge Day of Month (2022 - ToDate)')\n",
    "fig.legend(loc='upper right', bbox_to_anchor=(0.9, 0.9))\n",
    "plt.tight_layout()\n",
    "plt.show()"
   ]
  },
  {
   "cell_type": "code",
   "execution_count": 0,
   "metadata": {
    "application/vnd.databricks.v1+cell": {
     "cellMetadata": {
      "byteLimit": 2048000,
      "rowLimit": 10000
     },
     "inputWidgets": {},
     "nuid": "f5bc7276-f672-42b5-bb03-0280e6becff3",
     "showTitle": false,
     "tableResultSettingsMap": {},
     "title": ""
    }
   },
   "outputs": [],
   "source": [
    "# Holiday Features\n",
    "\n",
    "uk_holidays = holidays.UK(years=range(2022, 2026))\n",
    "holidays_df = pd.DataFrame([(date, name) for date, name in uk_holidays.items()], columns=['ds', 'holiday'])\n",
    "holidays_df.sort_values(by='ds', inplace=True)\n",
    "holidays_df"
   ]
  },
  {
   "cell_type": "code",
   "execution_count": 0,
   "metadata": {
    "application/vnd.databricks.v1+cell": {
     "cellMetadata": {
      "byteLimit": 2048000,
      "rowLimit": 10000
     },
     "inputWidgets": {},
     "nuid": "e81336b4-d197-41cd-9e5b-aca123500382",
     "showTitle": false,
     "tableResultSettingsMap": {},
     "title": ""
    }
   },
   "outputs": [],
   "source": [
    "additional_holidays = pd.DataFrame([\n",
    "    {'ds': '2022-04-18', 'holiday': 'Easter Monday'},\n",
    "    {'ds': '2022-08-29', 'holiday': 'Summer Bank Holiday'},\n",
    "    {'ds': '2023-04-10', 'holiday': 'Easter Monday'},\n",
    "    {'ds': '2023-08-28', 'holiday': 'Summer Bank Holiday'},\n",
    "    {'ds': '2024-04-01', 'holiday': 'Easter Monday'},\n",
    "    {'ds': '2024-08-26', 'holiday': 'Summer Bank Holiday'},\n",
    "    {'ds': '2025-04-21', 'holiday': 'Easter Monday'},\n",
    "    {'ds': '2025-08-25', 'holiday': 'Summer Bank Holiday'},\n",
    "])\n",
    "holidays_df = pd.concat([holidays_df, additional_holidays], ignore_index=True)\n",
    "holidays_df.drop_duplicates(inplace=True)\n",
    "holidays_df['ds'] = pd.to_datetime(holidays_df['ds'])\n",
    "holidays_df.sort_values(by='ds', inplace=True)\n",
    "holidays_df.reset_index(drop=True, inplace=True)\n",
    "holidays_df\n",
    "   "
   ]
  },
  {
   "cell_type": "code",
   "execution_count": 0,
   "metadata": {
    "application/vnd.databricks.v1+cell": {
     "cellMetadata": {
      "byteLimit": 2048000,
      "rowLimit": 10000
     },
     "inputWidgets": {},
     "nuid": "1d1be869-8f30-48c2-ab6a-0e2015be9d14",
     "showTitle": false,
     "tableResultSettingsMap": {},
     "title": ""
    }
   },
   "outputs": [],
   "source": [
    "holidays_df[\"ds\"] = pd.to_datetime(holidays_df[\"ds\"])\n",
    "df = df.merge(holidays_df.rename(columns={'ds': 'charge_dt', 'holiday': 'charge_dt_holiday'}), how='left', on='charge_dt')\n",
    "df = df.merge(holidays_df.rename(columns={'ds': 'flight_dt', 'holiday': 'flight_dt_holiday'}), how='left', on='flight_dt')\n",
    "df['is_charge_date_holiday'] = df['charge_dt_holiday'].notnull().astype(int)\n",
    "df['is_flight_date_holiday'] = df['flight_dt_holiday'].notnull().astype(int)\n",
    "df.drop(['charge_dt_holiday', 'flight_dt_holiday'], axis=1, inplace=True)\n",
    "df = df.sort_values(by=['charge_dt', 'dtg'], ascending=[True, True])\n",
    "df.set_index('charge_dt', inplace=True)\n",
    "optimize_df(df)"
   ]
  },
  {
   "cell_type": "code",
   "execution_count": 0,
   "metadata": {
    "application/vnd.databricks.v1+cell": {
     "cellMetadata": {
      "byteLimit": 2048000,
      "rowLimit": 10000
     },
     "inputWidgets": {},
     "nuid": "fb671724-28df-4469-a596-3e62c8ce119c",
     "showTitle": false,
     "tableResultSettingsMap": {},
     "title": ""
    }
   },
   "outputs": [],
   "source": [
    "index_cols = ['charge_dt', 'flight_dt']\n",
    "cyclic_cols=['flight_dom', 'flight_doy', 'charge_dom', 'charge_doy', 'flight_month', 'charge_month', 'flight_dow', 'charge_dow']\n",
    "normal_num_cols=['dtg','ty_capacity','C7F0', 'C7F7', 'C7F14', 'C7F21', 'C7F28', 'C7F35', 'C7F42', 'C7F49', 'C7F56', 'C7F63', 'C7F70', 'C14F0', 'C14F7', 'C14F14', 'C14F21', 'C14F28', 'C14F35', 'C14F42', 'C14F49', 'C14F56', 'C14F63', 'C14F70', 'C21F0', 'C21F7', 'C21F14', 'C21F21', 'C21F28', 'C21F35', 'C21F42', 'C21F49', 'C21F56', 'C21F63', 'C21F70', 'C28F0', 'C28F7', 'C28F14', 'C28F21', 'C28F28', 'C28F35', 'C28F42', 'C28F49', 'C28F56', 'C28F63', 'C28F70', 'C35F0', 'C35F7', 'C35F14', 'C35F21', 'C35F28', 'C35F35', 'C35F42', 'C35F49', 'C35F56', 'C35F63', 'C35F70', 'C42F0', 'C42F7', 'C42F14', 'C42F21', 'C42F28', 'C42F35', 'C42F42', 'C42F49', 'C42F56', 'C42F63', 'C42F70', 'C49F0', 'C49F7', 'C49F14', 'C49F21', 'C49F28', 'C49F35', 'C49F42', 'C49F49', 'C49F56', 'C49F63', 'C49F70', 'C56F0', 'C56F7', 'C56F14', 'C56F21', 'C56F28', 'C56F35', 'C56F42', 'C56F49', 'C56F56', 'C56F63', 'C56F70', 'C63F0', 'C63F7', 'C63F14', 'C63F21', 'C63F28', 'C63F35', 'C63F42', 'C63F49', 'C63F56', 'C63F63', 'C63F70', 'C70F0', 'C70F7', 'C70F14', 'C70F21', 'C70F28', 'C70F35', 'C70F42', 'C70F49', 'C70F56', 'C70F63', 'C70F70', 'C364F364']\n",
    "standard_num_cols=['charge_year','flight_year', 'day_number']\n",
    "df.drop(['load_factor', 'yield', 'price'], axis=1, inplace=True)\n",
    "df = df.reset_index()\n",
    "original_df = df.copy()\n",
    "\n",
    "def encode_cyclic_features(df, cols):\n",
    "    for col in cols:\n",
    "        df[col] = pd.to_numeric(df[col], errors='coerce')\n",
    "        max_val = df[col].max()\n",
    "        df[col + '_sin'] = (np.sin(2 * np.pi * df[col] / max_val)).astype('float16')\n",
    "        df[col + '_cos'] = (np.cos(2 * np.pi * df[col] / max_val)).astype('float16')\n",
    "        df.drop(col, axis=1, inplace=True)\n",
    "    return df\n",
    "\n",
    "def scale_normal_cols(df, cols):\n",
    "    for col in cols:\n",
    "        scaler = StandardScaler()\n",
    "        df[col] = scaler.fit_transform(df[[col]])\n",
    "    return df\n",
    "\n",
    "def scale_standard_cols(df, cols):\n",
    "    for col in cols:\n",
    "        scaler = MinMaxScaler()\n",
    "        df[col] = scaler.fit_transform(df[[col]])\n",
    "    return df\n",
    "\n",
    "df = encode_cyclic_features(df, cyclic_cols)\n",
    "df = scale_normal_cols(df, normal_num_cols)\n",
    "df = scale_standard_cols(df, standard_num_cols)\n",
    "#df = pd.get_dummies(df, columns=['region', 'routetype'])\n",
    "\n",
    "for col in index_cols:\n",
    "    df[col] = original_df[col]\n",
    "df.set_index(index_cols, inplace=True)\n",
    "\n",
    "df = optimize_df(df)\n",
    "df.head()"
   ]
  },
  {
   "cell_type": "code",
   "execution_count": 0,
   "metadata": {
    "application/vnd.databricks.v1+cell": {
     "cellMetadata": {
      "byteLimit": 2048000,
      "rowLimit": 10000
     },
     "inputWidgets": {},
     "nuid": "1a182da1-6d8f-4f66-b02a-297c77962aa8",
     "showTitle": false,
     "tableResultSettingsMap": {},
     "title": ""
    }
   },
   "outputs": [],
   "source": [
    "#LR train test\n",
    "\n",
    "unique_dates = df.index.get_level_values('charge_dt').unique().sort_values()\n",
    "tscv = TimeSeriesSplit(n_splits=12, test_size=7)\n",
    "\n",
    "fig, axs = plt.subplots(4, 3, figsize=(16, 8), sharex=True)\n",
    "plt.style.use('ggplot')\n",
    "fold = 0\n",
    "preds = []\n",
    "LR_scores = []\n",
    "all_y_test = []\n",
    "all_y_pred_series = []\n",
    "\n",
    "for train_index, val_index in tscv.split(unique_dates):\n",
    "    train_dates = unique_dates[train_index]\n",
    "    val_dates = unique_dates[val_index]\n",
    "\n",
    "    train_mask = df.index.get_level_values('charge_dt').isin(train_dates)\n",
    "    val_mask = df.index.get_level_values('charge_dt').isin(val_dates)\n",
    "\n",
    "    train_data = df[train_mask]\n",
    "    val_data = df[val_mask]\n",
    "\n",
    "    total_sales_train = train_data.groupby('charge_dt')['unt_pre'].sum().reset_index()\n",
    "    total_sales_val = val_data.groupby('charge_dt')['unt_pre'].sum().reset_index()\n",
    "    \n",
    "    ax = axs[fold // 3, fold % 3]\n",
    "\n",
    "    total_sales_train.plot(ax=ax, label='Train', x='charge_dt', y='unt_pre', style='-')\n",
    "    total_sales_val.plot(ax=ax, label='Val', x='charge_dt', y='unt_pre', style='-')\n",
    "    ax.axvline(val_data.index.get_level_values('charge_dt').min(), linestyle='--', color='black')\n",
    "    \n",
    "    end_date = val_dates.max()\n",
    "    start_date = end_date - pd.DateOffset(months=6)\n",
    "    ax.set_xlim(start_date, end_date)\n",
    "\n",
    "    ax.set_title(f'Fold {fold+1}')\n",
    "    fold += 1\n",
    "\n",
    "    X_train = train_data.drop('unt_pre', axis=1)\n",
    "    y_train = train_data['unt_pre']\n",
    "\n",
    "    X_test = val_data.drop('unt_pre', axis=1)\n",
    "    y_test = val_data['unt_pre']\n",
    "\n",
    "    LR_model = LinearRegression()\n",
    "    LR_model.fit(X_train, y_train)\n",
    "\n",
    "    y_pred = LR_model.predict(X_test)\n",
    "    y_pred_series = pd.Series(y_pred, index=X_test.index, name='unt_pre_pred')\n",
    "    all_y_test.append(y_test)\n",
    "    all_y_pred_series.append(y_pred_series)\n",
    "    preds.extend(y_pred)\n",
    "    LR_score = np.sqrt(mean_squared_error(y_test, y_pred))\n",
    "    LR_scores.append(LR_score)\n",
    "\n",
    "plt.tight_layout()\n",
    "plt.show()"
   ]
  },
  {
   "cell_type": "code",
   "execution_count": 0,
   "metadata": {
    "application/vnd.databricks.v1+cell": {
     "cellMetadata": {
      "byteLimit": 2048000,
      "rowLimit": 10000
     },
     "inputWidgets": {},
     "nuid": "e56287c1-91b6-435c-b558-330b93dc2d48",
     "showTitle": false,
     "tableResultSettingsMap": {},
     "title": ""
    }
   },
   "outputs": [],
   "source": [
    "#LR Results\n",
    "\n",
    "print(f'individual scores: {LR_scores}')\n",
    "print(f'combined score: {np.mean(LR_scores)}')\n",
    "print(f'std: {np.std(LR_scores)}')  "
   ]
  },
  {
   "cell_type": "code",
   "execution_count": 0,
   "metadata": {
    "application/vnd.databricks.v1+cell": {
     "cellMetadata": {
      "byteLimit": 2048000,
      "rowLimit": 10000
     },
     "inputWidgets": {},
     "nuid": "d9eef92b-f0f7-4fb2-84be-6c0ca9e397b1",
     "showTitle": false,
     "tableResultSettingsMap": {},
     "title": ""
    }
   },
   "outputs": [],
   "source": [
    "#LR Plot\n",
    "\n",
    "full_y_test = pd.concat(all_y_test)\n",
    "full_y_pred = pd.concat(all_y_pred_series)\n",
    "\n",
    "y_test_total = full_y_test.groupby(level='charge_dt').sum()\n",
    "y_pred_total = full_y_pred.groupby(level='charge_dt').sum()\n",
    "\n",
    "rmse_LR = np.sqrt(mean_squared_error(y_test_total, y_pred_total))\n",
    "print(f'Overall RMSE on Daily Totals (All Folds): {rmse_LR:.2f}')\n",
    "\n",
    "plt.figure(figsize=(15, 6))\n",
    "plt.plot(y_test_total.index, y_test_total, label='Actual Daily Total', marker='.', linestyle='-')\n",
    "plt.plot(y_pred_total.index, y_pred_total, label='Predicted Daily Total', marker='.', linestyle='--')\n",
    "plt.title('LR Model: Actual vs. Predicted Daily Totals (All Folds Combined)')\n",
    "plt.xlabel('Date')\n",
    "plt.ylabel('Total Sales (unt_pre)')\n",
    "plt.legend()\n",
    "plt.grid(True)\n",
    "plt.show()"
   ]
  },
  {
   "cell_type": "code",
   "execution_count": 0,
   "metadata": {
    "application/vnd.databricks.v1+cell": {
     "cellMetadata": {
      "byteLimit": 2048000,
      "rowLimit": 10000
     },
     "inputWidgets": {},
     "nuid": "60f606bd-1169-4395-b64c-4a08a4f137dd",
     "showTitle": false,
     "tableResultSettingsMap": {},
     "title": ""
    }
   },
   "outputs": [],
   "source": [
    "#LR Plot (dynamic)\n",
    "\n",
    "results_df = pd.DataFrame({'actual': full_y_test, 'predicted': full_y_pred})\n",
    "results_df.reset_index(inplace=True)\n",
    "results_df['flight_dt'] = pd.to_datetime(results_df['flight_dt'])\n",
    "results_df['charge_dt'] = pd.to_datetime(results_df['charge_dt'])\n",
    "\n",
    "results_df['dtg'] = (results_df['flight_dt'] - results_df['charge_dt']).dt.days\n",
    "results_df['charge_dt'] = results_df['charge_dt'].astype(str)\n",
    "results_df.sort_values(['charge_dt', 'dtg'], inplace=True)\n",
    "\n",
    "agg_df = results_df.groupby(['charge_dt', 'dtg'])[['actual', 'predicted']].sum().reset_index()\n",
    "\n",
    "melted_df = pd.melt(agg_df, id_vars=['charge_dt', 'dtg'], value_vars=['actual', 'predicted'], var_name='sales_type', value_name='sales_value')\n",
    "\n",
    "fig = px.line(melted_df, x='dtg', y='sales_value', color='sales_type', animation_frame='charge_dt', title='LR Model: Actual vs. Predicted Sales by Days To Go (Linear Regression)', color_discrete_map={'actual': 'red', 'predicted': 'blue'})\n",
    "\n",
    "fig.update_layout(height=800, width=1600)\n",
    "\n",
    "fig.show()"
   ]
  },
  {
   "cell_type": "code",
   "execution_count": 0,
   "metadata": {
    "application/vnd.databricks.v1+cell": {
     "cellMetadata": {
      "byteLimit": 2048000,
      "rowLimit": 10000
     },
     "inputWidgets": {},
     "nuid": "15bbee11-d153-45b8-8492-b3a7d0049711",
     "showTitle": false,
     "tableResultSettingsMap": {},
     "title": ""
    }
   },
   "outputs": [],
   "source": [
    "#XGB Train Test\n",
    "\n",
    "unique_dates = df.index.get_level_values('charge_dt').unique().sort_values()\n",
    "tscv = TimeSeriesSplit(n_splits=12, test_size=7)\n",
    "\n",
    "fig, axs = plt.subplots(4, 3, figsize=(16, 8), sharex=True)\n",
    "plt.style.use('ggplot')\n",
    "fold = 0\n",
    "preds = []\n",
    "XGBscores = []\n",
    "all_y_test = []\n",
    "all_y_pred_series = []\n",
    "\n",
    "for train_index, val_index in tscv.split(unique_dates):\n",
    "    train_dates = unique_dates[train_index]\n",
    "    val_dates = unique_dates[val_index]\n",
    "\n",
    "    train_mask = df.index.get_level_values('charge_dt').isin(train_dates)\n",
    "    val_mask = df.index.get_level_values('charge_dt').isin(val_dates)\n",
    "\n",
    "    train_data = df[train_mask]\n",
    "    val_data = df[val_mask]\n",
    "\n",
    "    total_sales_train = train_data.groupby('charge_dt')['unt_pre'].sum().reset_index()\n",
    "    total_sales_val = val_data.groupby('charge_dt')['unt_pre'].sum().reset_index()\n",
    "    \n",
    "    ax = axs[fold // 3, fold % 3]\n",
    "\n",
    "    total_sales_train.plot(ax=ax, label='Train', x='charge_dt', y='unt_pre', style='-')\n",
    "    total_sales_val.plot(ax=ax, label='Val', x='charge_dt', y='unt_pre', style='-')\n",
    "    ax.axvline(val_data.index.get_level_values('charge_dt').min(), linestyle='--', color='black')\n",
    "    \n",
    "    end_date = val_dates.max()\n",
    "    start_date = end_date - pd.DateOffset(months=6)\n",
    "    ax.set_xlim(start_date, end_date)\n",
    "\n",
    "    ax.set_title(f'Fold {fold+1}')\n",
    "    fold += 1\n",
    "\n",
    "    X_train = train_data.drop('unt_pre', axis=1)\n",
    "    y_train = train_data['unt_pre']\n",
    "\n",
    "    X_test = val_data.drop('unt_pre', axis=1)\n",
    "    y_test = val_data['unt_pre']\n",
    "\n",
    "    XGB_model = xgb.XGBRegressor(base_score=0.5,booster='gbtree',n_estimators=2000,early_stopping_rounds=50,max_depth=5,learning_rate=0.01,objective='reg:pseudohubererror',enable_categorical=True)\n",
    "    XGB_model.fit(X_train, y_train, eval_set=[(X_test, y_test)], verbose=100)\n",
    "\n",
    "    y_pred = XGB_model.predict(X_test)\n",
    "    y_pred_series = pd.Series(y_pred, index=X_test.index, name='unt_pre_pred')\n",
    "    all_y_test.append(y_test)\n",
    "    all_y_pred_series.append(y_pred_series)\n",
    "    preds.extend(y_pred)\n",
    "    XGBscore = np.sqrt(mean_squared_error(y_test, y_pred))\n",
    "    scores.append(XGBscore)\n",
    "\n",
    "plt.tight_layout()\n",
    "plt.show()"
   ]
  },
  {
   "cell_type": "code",
   "execution_count": 0,
   "metadata": {
    "application/vnd.databricks.v1+cell": {
     "cellMetadata": {
      "byteLimit": 2048000,
      "rowLimit": 10000
     },
     "inputWidgets": {},
     "nuid": "97f14fc5-e055-4075-a260-5624280535b7",
     "showTitle": false,
     "tableResultSettingsMap": {},
     "title": ""
    }
   },
   "outputs": [],
   "source": [
    "# XGB Results\n",
    "\n",
    "print(f'individual scores: {XGBscores}')\n",
    "print(f'combined score: {np.mean(XGBscores)}')\n",
    "print(f'std: {np.std(XGBscores)}')      "
   ]
  },
  {
   "cell_type": "code",
   "execution_count": 0,
   "metadata": {
    "application/vnd.databricks.v1+cell": {
     "cellMetadata": {
      "byteLimit": 2048000,
      "rowLimit": 10000
     },
     "inputWidgets": {},
     "nuid": "68e438c3-7e1a-4dd2-b8c6-5d0361efba22",
     "showTitle": false,
     "tableResultSettingsMap": {},
     "title": ""
    }
   },
   "outputs": [],
   "source": [
    "#XGB Plot\n",
    "\n",
    "full_y_test = pd.concat(all_y_test)\n",
    "full_y_pred = pd.concat(all_y_pred_series)\n",
    "\n",
    "y_test_total = full_y_test.groupby(level='charge_dt').sum()\n",
    "y_pred_total = full_y_pred.groupby(level='charge_dt').sum()\n",
    "\n",
    "rmse_xgb = np.sqrt(mean_squared_error(y_test_total, y_pred_total))\n",
    "print(f'Overall RMSE on Daily Totals (All Folds): {rmse_xgb:.2f}')\n",
    "\n",
    "plt.figure(figsize=(15, 6))\n",
    "plt.plot(y_test_total.index, y_test_total, label='Actual Daily Total', marker='.', linestyle='-')\n",
    "plt.plot(y_pred_total.index, y_pred_total, label='Predicted Daily Total', marker='.', linestyle='--')\n",
    "plt.title('XGB Model: Actual vs. Predicted Daily Totals (All Folds Combined)')\n",
    "plt.xlabel('Date')\n",
    "plt.ylabel('Total Sales (unt_pre)')\n",
    "plt.legend()\n",
    "plt.grid(True)\n",
    "plt.show()"
   ]
  },
  {
   "cell_type": "code",
   "execution_count": 0,
   "metadata": {
    "application/vnd.databricks.v1+cell": {
     "cellMetadata": {},
     "inputWidgets": {},
     "nuid": "0dc2ab91-fadd-4d9c-b8ec-783d6513596a",
     "showTitle": false,
     "tableResultSettingsMap": {},
     "title": ""
    }
   },
   "outputs": [],
   "source": [
    "#XGB Plot (dynamic)\n",
    "\n",
    "results_df = pd.DataFrame({'actual': full_y_test, 'predicted': full_y_pred})\n",
    "results_df.reset_index(inplace=True)\n",
    "results_df['flight_dt'] = pd.to_datetime(results_df['flight_dt'])\n",
    "results_df['charge_dt'] = pd.to_datetime(results_df['charge_dt'])\n",
    "\n",
    "results_df['dtg'] = (results_df['flight_dt'] - results_df['charge_dt']).dt.days\n",
    "results_df['charge_dt'] = results_df['charge_dt'].astype(str)\n",
    "results_df.sort_values(['charge_dt', 'dtg'], inplace=True)\n",
    "\n",
    "agg_df = results_df.groupby(['charge_dt', 'dtg'])[['actual', 'predicted']].sum().reset_index()\n",
    "\n",
    "melted_df = pd.melt(agg_df, id_vars=['charge_dt', 'dtg'], value_vars=['actual', 'predicted'], var_name='sales_type', value_name='sales_value')\n",
    "\n",
    "fig = px.line(melted_df, x='dtg', y='sales_value', color='sales_type', animation_frame='charge_dt', title='XGB Model: Actual vs. Predicted Sales by Days To Go (Linear Regression)', color_discrete_map={'actual': 'red', 'predicted': 'blue'})\n",
    "\n",
    "fig.update_layout(height=800, width=1600)\n",
    "\n",
    "fig.show()"
   ]
  }
 ],
 "metadata": {
  "application/vnd.databricks.v1+notebook": {
   "computePreferences": null,
   "dashboards": [],
   "environmentMetadata": {
    "base_environment": "",
    "environment_version": "2"
   },
   "inputWidgetPreferences": null,
   "language": "python",
   "notebookMetadata": {
    "pythonIndentUnit": 4
   },
   "notebookName": "Apprenticeship Project (initial)",
   "widgets": {}
  },
  "language_info": {
   "name": "python"
  }
 },
 "nbformat": 4,
 "nbformat_minor": 0
}
